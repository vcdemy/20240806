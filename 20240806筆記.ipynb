{
  "nbformat": 4,
  "nbformat_minor": 0,
  "metadata": {
    "colab": {
      "provenance": [],
      "authorship_tag": "ABX9TyPUzJWzsbit61kFLT4SzKU7",
      "include_colab_link": true
    },
    "kernelspec": {
      "name": "python3",
      "display_name": "Python 3"
    },
    "language_info": {
      "name": "python"
    }
  },
  "cells": [
    {
      "cell_type": "markdown",
      "metadata": {
        "id": "view-in-github",
        "colab_type": "text"
      },
      "source": [
        "<a href=\"https://colab.research.google.com/github/vcdemy/20240806/blob/main/20240806%E7%AD%86%E8%A8%98.ipynb\" target=\"_parent\"><img src=\"https://colab.research.google.com/assets/colab-badge.svg\" alt=\"Open In Colab\"/></a>"
      ]
    },
    {
      "cell_type": "markdown",
      "source": [
        "# 20240806筆記"
      ],
      "metadata": {
        "id": "gA_jVmVsEVk6"
      }
    },
    {
      "cell_type": "markdown",
      "source": [
        "## Python的變數命名"
      ],
      "metadata": {
        "id": "R1-9cWCoEY5z"
      }
    },
    {
      "cell_type": "markdown",
      "source": [
        "* 開頭字元必須為英文字母跟底線\n",
        "* 除了開頭字元外可以有數字\n",
        "* 變數會區分大小寫"
      ],
      "metadata": {
        "id": "odBZvLP5EdDI"
      }
    },
    {
      "cell_type": "code",
      "source": [
        "x = 1"
      ],
      "metadata": {
        "id": "HdCAT1z9EcbN"
      },
      "execution_count": 1,
      "outputs": []
    },
    {
      "cell_type": "code",
      "execution_count": 2,
      "metadata": {
        "colab": {
          "base_uri": "https://localhost:8080/",
          "height": 143
        },
        "id": "4x1tVcyvEQkt",
        "outputId": "958fdf0b-47d7-457b-9b36-31cdaf055269"
      },
      "outputs": [
        {
          "output_type": "error",
          "ename": "NameError",
          "evalue": "name 'X' is not defined",
          "traceback": [
            "\u001b[0;31m---------------------------------------------------------------------------\u001b[0m",
            "\u001b[0;31mNameError\u001b[0m                                 Traceback (most recent call last)",
            "\u001b[0;32m<ipython-input-2-b5fec669aca1>\u001b[0m in \u001b[0;36m<cell line: 1>\u001b[0;34m()\u001b[0m\n\u001b[0;32m----> 1\u001b[0;31m \u001b[0mX\u001b[0m\u001b[0;34m\u001b[0m\u001b[0;34m\u001b[0m\u001b[0m\n\u001b[0m",
            "\u001b[0;31mNameError\u001b[0m: name 'X' is not defined"
          ]
        }
      ],
      "source": [
        "X"
      ]
    },
    {
      "cell_type": "code",
      "source": [
        "123abc = 1"
      ],
      "metadata": {
        "colab": {
          "base_uri": "https://localhost:8080/",
          "height": 108
        },
        "id": "CvqQt9MPFBfr",
        "outputId": "942113a6-92f9-47ba-ec2c-cc5ee6e9295c"
      },
      "execution_count": 3,
      "outputs": [
        {
          "output_type": "error",
          "ename": "SyntaxError",
          "evalue": "invalid decimal literal (<ipython-input-3-567295c77224>, line 1)",
          "traceback": [
            "\u001b[0;36m  File \u001b[0;32m\"<ipython-input-3-567295c77224>\"\u001b[0;36m, line \u001b[0;32m1\u001b[0m\n\u001b[0;31m    123abc = 1\u001b[0m\n\u001b[0m      ^\u001b[0m\n\u001b[0;31mSyntaxError\u001b[0m\u001b[0;31m:\u001b[0m invalid decimal literal\n"
          ]
        }
      ]
    },
    {
      "cell_type": "code",
      "source": [
        "_abc = 1"
      ],
      "metadata": {
        "id": "CYErFT44FErJ"
      },
      "execution_count": 4,
      "outputs": []
    },
    {
      "cell_type": "code",
      "source": [
        "_abc"
      ],
      "metadata": {
        "colab": {
          "base_uri": "https://localhost:8080/"
        },
        "id": "ZDBk7-BkFHL0",
        "outputId": "f0c84a03-14cf-422a-d734-67ccdd12c754"
      },
      "execution_count": 5,
      "outputs": [
        {
          "output_type": "execute_result",
          "data": {
            "text/plain": [
              "1"
            ]
          },
          "metadata": {},
          "execution_count": 5
        }
      ]
    },
    {
      "cell_type": "code",
      "source": [
        "abc123 = 1"
      ],
      "metadata": {
        "id": "z3U8rkfEFIAS"
      },
      "execution_count": 6,
      "outputs": []
    },
    {
      "cell_type": "markdown",
      "source": [
        "## 基本資料型態\n",
        "\n",
        "* int => 整數\n",
        "* float => 浮點數\n",
        "* bool => 布林變數 (True, False)\n",
        "* str => 字串"
      ],
      "metadata": {
        "id": "Z84Fi8SCGKZw"
      }
    },
    {
      "cell_type": "markdown",
      "source": [
        "### int"
      ],
      "metadata": {
        "id": "tz8gW2kUHDt-"
      }
    },
    {
      "cell_type": "code",
      "source": [
        "x"
      ],
      "metadata": {
        "colab": {
          "base_uri": "https://localhost:8080/"
        },
        "id": "49A9vtDcFJU4",
        "outputId": "7df52eef-e8a7-4792-c0f6-2adb5cf7c845"
      },
      "execution_count": 7,
      "outputs": [
        {
          "output_type": "execute_result",
          "data": {
            "text/plain": [
              "1"
            ]
          },
          "metadata": {},
          "execution_count": 7
        }
      ]
    },
    {
      "cell_type": "code",
      "source": [
        "type(x)"
      ],
      "metadata": {
        "colab": {
          "base_uri": "https://localhost:8080/"
        },
        "id": "faxi61cSG-iO",
        "outputId": "c25fbb20-7c1c-4245-983d-04a5b28ae596"
      },
      "execution_count": 8,
      "outputs": [
        {
          "output_type": "execute_result",
          "data": {
            "text/plain": [
              "int"
            ]
          },
          "metadata": {},
          "execution_count": 8
        }
      ]
    },
    {
      "cell_type": "markdown",
      "source": [
        "### float"
      ],
      "metadata": {
        "id": "9ZZqn_vJHhrW"
      }
    },
    {
      "cell_type": "code",
      "source": [
        "y = 3.14"
      ],
      "metadata": {
        "id": "HMa5RHRbHAZy"
      },
      "execution_count": 9,
      "outputs": []
    },
    {
      "cell_type": "code",
      "source": [
        "type(y)"
      ],
      "metadata": {
        "colab": {
          "base_uri": "https://localhost:8080/"
        },
        "id": "LouUS6jDHkci",
        "outputId": "6db41753-6f11-4c21-f967-8c9ed4c9c534"
      },
      "execution_count": 10,
      "outputs": [
        {
          "output_type": "execute_result",
          "data": {
            "text/plain": [
              "float"
            ]
          },
          "metadata": {},
          "execution_count": 10
        }
      ]
    },
    {
      "cell_type": "code",
      "source": [],
      "metadata": {
        "id": "O2AgsdJ2HlRC"
      },
      "execution_count": null,
      "outputs": []
    }
  ]
}