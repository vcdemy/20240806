{
  "nbformat": 4,
  "nbformat_minor": 0,
  "metadata": {
    "colab": {
      "provenance": [],
      "authorship_tag": "ABX9TyOXEg6laK6U6/2fSMLimEJx",
      "include_colab_link": true
    },
    "kernelspec": {
      "name": "python3",
      "display_name": "Python 3"
    },
    "language_info": {
      "name": "python"
    }
  },
  "cells": [
    {
      "cell_type": "markdown",
      "metadata": {
        "id": "view-in-github",
        "colab_type": "text"
      },
      "source": [
        "<a href=\"https://colab.research.google.com/github/vcdemy/20240806/blob/main/20240806%E7%AD%86%E8%A8%98.ipynb\" target=\"_parent\"><img src=\"https://colab.research.google.com/assets/colab-badge.svg\" alt=\"Open In Colab\"/></a>"
      ]
    },
    {
      "cell_type": "markdown",
      "source": [
        "# 20240806筆記"
      ],
      "metadata": {
        "id": "gA_jVmVsEVk6"
      }
    },
    {
      "cell_type": "markdown",
      "source": [
        "## Python的變數命名"
      ],
      "metadata": {
        "id": "R1-9cWCoEY5z"
      }
    },
    {
      "cell_type": "markdown",
      "source": [
        "* 開頭字元必須為英文字母跟底線\n",
        "* 除了開頭字元外可以有數字\n",
        "* 變數會區分大小寫"
      ],
      "metadata": {
        "id": "odBZvLP5EdDI"
      }
    },
    {
      "cell_type": "code",
      "source": [
        "x = 1"
      ],
      "metadata": {
        "id": "HdCAT1z9EcbN"
      },
      "execution_count": 1,
      "outputs": []
    },
    {
      "cell_type": "code",
      "execution_count": 2,
      "metadata": {
        "colab": {
          "base_uri": "https://localhost:8080/",
          "height": 143
        },
        "id": "4x1tVcyvEQkt",
        "outputId": "958fdf0b-47d7-457b-9b36-31cdaf055269"
      },
      "outputs": [
        {
          "output_type": "error",
          "ename": "NameError",
          "evalue": "name 'X' is not defined",
          "traceback": [
            "\u001b[0;31m---------------------------------------------------------------------------\u001b[0m",
            "\u001b[0;31mNameError\u001b[0m                                 Traceback (most recent call last)",
            "\u001b[0;32m<ipython-input-2-b5fec669aca1>\u001b[0m in \u001b[0;36m<cell line: 1>\u001b[0;34m()\u001b[0m\n\u001b[0;32m----> 1\u001b[0;31m \u001b[0mX\u001b[0m\u001b[0;34m\u001b[0m\u001b[0;34m\u001b[0m\u001b[0m\n\u001b[0m",
            "\u001b[0;31mNameError\u001b[0m: name 'X' is not defined"
          ]
        }
      ],
      "source": [
        "X"
      ]
    },
    {
      "cell_type": "code",
      "source": [
        "123abc = 1"
      ],
      "metadata": {
        "colab": {
          "base_uri": "https://localhost:8080/",
          "height": 108
        },
        "id": "CvqQt9MPFBfr",
        "outputId": "942113a6-92f9-47ba-ec2c-cc5ee6e9295c"
      },
      "execution_count": 3,
      "outputs": [
        {
          "output_type": "error",
          "ename": "SyntaxError",
          "evalue": "invalid decimal literal (<ipython-input-3-567295c77224>, line 1)",
          "traceback": [
            "\u001b[0;36m  File \u001b[0;32m\"<ipython-input-3-567295c77224>\"\u001b[0;36m, line \u001b[0;32m1\u001b[0m\n\u001b[0;31m    123abc = 1\u001b[0m\n\u001b[0m      ^\u001b[0m\n\u001b[0;31mSyntaxError\u001b[0m\u001b[0;31m:\u001b[0m invalid decimal literal\n"
          ]
        }
      ]
    },
    {
      "cell_type": "code",
      "source": [
        "_abc = 1"
      ],
      "metadata": {
        "id": "CYErFT44FErJ"
      },
      "execution_count": 4,
      "outputs": []
    },
    {
      "cell_type": "code",
      "source": [
        "_abc"
      ],
      "metadata": {
        "colab": {
          "base_uri": "https://localhost:8080/"
        },
        "id": "ZDBk7-BkFHL0",
        "outputId": "f0c84a03-14cf-422a-d734-67ccdd12c754"
      },
      "execution_count": 5,
      "outputs": [
        {
          "output_type": "execute_result",
          "data": {
            "text/plain": [
              "1"
            ]
          },
          "metadata": {},
          "execution_count": 5
        }
      ]
    },
    {
      "cell_type": "code",
      "source": [
        "abc123 = 1"
      ],
      "metadata": {
        "id": "z3U8rkfEFIAS"
      },
      "execution_count": 6,
      "outputs": []
    },
    {
      "cell_type": "markdown",
      "source": [
        "## 基本資料型態\n",
        "\n",
        "* int => 整數\n",
        "* float => 浮點數\n",
        "* bool => 布林變數 (True, False)\n",
        "* str => 字串"
      ],
      "metadata": {
        "id": "Z84Fi8SCGKZw"
      }
    },
    {
      "cell_type": "markdown",
      "source": [
        "### int"
      ],
      "metadata": {
        "id": "tz8gW2kUHDt-"
      }
    },
    {
      "cell_type": "code",
      "source": [
        "x"
      ],
      "metadata": {
        "colab": {
          "base_uri": "https://localhost:8080/"
        },
        "id": "49A9vtDcFJU4",
        "outputId": "7df52eef-e8a7-4792-c0f6-2adb5cf7c845"
      },
      "execution_count": 7,
      "outputs": [
        {
          "output_type": "execute_result",
          "data": {
            "text/plain": [
              "1"
            ]
          },
          "metadata": {},
          "execution_count": 7
        }
      ]
    },
    {
      "cell_type": "code",
      "source": [
        "type(x)"
      ],
      "metadata": {
        "colab": {
          "base_uri": "https://localhost:8080/"
        },
        "id": "faxi61cSG-iO",
        "outputId": "c25fbb20-7c1c-4245-983d-04a5b28ae596"
      },
      "execution_count": 8,
      "outputs": [
        {
          "output_type": "execute_result",
          "data": {
            "text/plain": [
              "int"
            ]
          },
          "metadata": {},
          "execution_count": 8
        }
      ]
    },
    {
      "cell_type": "markdown",
      "source": [
        "### float"
      ],
      "metadata": {
        "id": "9ZZqn_vJHhrW"
      }
    },
    {
      "cell_type": "code",
      "source": [
        "y = 3.14"
      ],
      "metadata": {
        "id": "HMa5RHRbHAZy"
      },
      "execution_count": 9,
      "outputs": []
    },
    {
      "cell_type": "code",
      "source": [
        "type(y)"
      ],
      "metadata": {
        "colab": {
          "base_uri": "https://localhost:8080/"
        },
        "id": "LouUS6jDHkci",
        "outputId": "6db41753-6f11-4c21-f967-8c9ed4c9c534"
      },
      "execution_count": 10,
      "outputs": [
        {
          "output_type": "execute_result",
          "data": {
            "text/plain": [
              "float"
            ]
          },
          "metadata": {},
          "execution_count": 10
        }
      ]
    },
    {
      "cell_type": "markdown",
      "source": [
        "### int v.s. float"
      ],
      "metadata": {
        "id": "i9_VGHCMH3lA"
      }
    },
    {
      "cell_type": "code",
      "source": [
        "m = 4\n",
        "n = 2\n",
        "type(m/n)"
      ],
      "metadata": {
        "colab": {
          "base_uri": "https://localhost:8080/"
        },
        "id": "O2AgsdJ2HlRC",
        "outputId": "f1d18301-21cd-4137-c77e-dae40a519f6c"
      },
      "execution_count": 11,
      "outputs": [
        {
          "output_type": "execute_result",
          "data": {
            "text/plain": [
              "float"
            ]
          },
          "metadata": {},
          "execution_count": 11
        }
      ]
    },
    {
      "cell_type": "code",
      "source": [
        "m / n"
      ],
      "metadata": {
        "colab": {
          "base_uri": "https://localhost:8080/"
        },
        "id": "Qac_gERUIJ3J",
        "outputId": "92a13d13-3b79-4c8a-e348-7b8eae3f04de"
      },
      "execution_count": 12,
      "outputs": [
        {
          "output_type": "execute_result",
          "data": {
            "text/plain": [
              "2.0"
            ]
          },
          "metadata": {},
          "execution_count": 12
        }
      ]
    },
    {
      "cell_type": "code",
      "source": [
        "# 整數除法\n",
        "m // n"
      ],
      "metadata": {
        "colab": {
          "base_uri": "https://localhost:8080/"
        },
        "id": "DnaExrbUINbH",
        "outputId": "3455b1a1-b443-4284-b0b9-589248530a7b"
      },
      "execution_count": 13,
      "outputs": [
        {
          "output_type": "execute_result",
          "data": {
            "text/plain": [
              "2"
            ]
          },
          "metadata": {},
          "execution_count": 13
        }
      ]
    },
    {
      "cell_type": "markdown",
      "source": [
        "### bool"
      ],
      "metadata": {
        "id": "SchpCajzIlBx"
      }
    },
    {
      "cell_type": "code",
      "source": [
        "m > n"
      ],
      "metadata": {
        "colab": {
          "base_uri": "https://localhost:8080/"
        },
        "id": "qvZx0OFlIQMU",
        "outputId": "5e820db4-f0b7-4fc2-8ae2-83658d0a84cf"
      },
      "execution_count": 15,
      "outputs": [
        {
          "output_type": "execute_result",
          "data": {
            "text/plain": [
              "True"
            ]
          },
          "metadata": {},
          "execution_count": 15
        }
      ]
    },
    {
      "cell_type": "code",
      "source": [
        "m < n"
      ],
      "metadata": {
        "colab": {
          "base_uri": "https://localhost:8080/"
        },
        "id": "JJkrteHeIqjr",
        "outputId": "235b13a7-f152-4d6d-ec62-e8281dc2912c"
      },
      "execution_count": 16,
      "outputs": [
        {
          "output_type": "execute_result",
          "data": {
            "text/plain": [
              "False"
            ]
          },
          "metadata": {},
          "execution_count": 16
        }
      ]
    },
    {
      "cell_type": "code",
      "source": [
        "k = m > n"
      ],
      "metadata": {
        "id": "2iW5YJPhI5hR"
      },
      "execution_count": 17,
      "outputs": []
    },
    {
      "cell_type": "code",
      "source": [
        "type(k)"
      ],
      "metadata": {
        "colab": {
          "base_uri": "https://localhost:8080/"
        },
        "id": "yW5asvykJCB-",
        "outputId": "ea949fa3-8d23-440e-efdd-6946e3e80377"
      },
      "execution_count": 18,
      "outputs": [
        {
          "output_type": "execute_result",
          "data": {
            "text/plain": [
              "bool"
            ]
          },
          "metadata": {},
          "execution_count": 18
        }
      ]
    },
    {
      "cell_type": "code",
      "source": [
        "m == n"
      ],
      "metadata": {
        "colab": {
          "base_uri": "https://localhost:8080/"
        },
        "id": "U2sB1I01JHg3",
        "outputId": "ac82a8df-6e7c-4e1e-e09a-ac8e9c325bae"
      },
      "execution_count": 19,
      "outputs": [
        {
          "output_type": "execute_result",
          "data": {
            "text/plain": [
              "False"
            ]
          },
          "metadata": {},
          "execution_count": 19
        }
      ]
    },
    {
      "cell_type": "code",
      "source": [
        "p = m == n"
      ],
      "metadata": {
        "id": "dhLkfAWmJnYU"
      },
      "execution_count": 20,
      "outputs": []
    },
    {
      "cell_type": "code",
      "source": [
        "p"
      ],
      "metadata": {
        "colab": {
          "base_uri": "https://localhost:8080/"
        },
        "id": "bzqLDE2rJvPL",
        "outputId": "2205f2b1-9c10-4e33-9153-e3de64df7e2b"
      },
      "execution_count": 21,
      "outputs": [
        {
          "output_type": "execute_result",
          "data": {
            "text/plain": [
              "False"
            ]
          },
          "metadata": {},
          "execution_count": 21
        }
      ]
    },
    {
      "cell_type": "markdown",
      "source": [
        "### str => 文字訊息"
      ],
      "metadata": {
        "id": "ISuxGYe8KFUQ"
      }
    },
    {
      "cell_type": "code",
      "source": [
        "q = dog"
      ],
      "metadata": {
        "colab": {
          "base_uri": "https://localhost:8080/",
          "height": 143
        },
        "id": "I3JK8thoJ3iv",
        "outputId": "1b18fa2e-9c41-4c3e-e7b8-e68b6de53f41"
      },
      "execution_count": 22,
      "outputs": [
        {
          "output_type": "error",
          "ename": "NameError",
          "evalue": "name 'dog' is not defined",
          "traceback": [
            "\u001b[0;31m---------------------------------------------------------------------------\u001b[0m",
            "\u001b[0;31mNameError\u001b[0m                                 Traceback (most recent call last)",
            "\u001b[0;32m<ipython-input-22-c5cb21e8bc90>\u001b[0m in \u001b[0;36m<cell line: 1>\u001b[0;34m()\u001b[0m\n\u001b[0;32m----> 1\u001b[0;31m \u001b[0mq\u001b[0m \u001b[0;34m=\u001b[0m \u001b[0mdog\u001b[0m\u001b[0;34m\u001b[0m\u001b[0;34m\u001b[0m\u001b[0m\n\u001b[0m",
            "\u001b[0;31mNameError\u001b[0m: name 'dog' is not defined"
          ]
        }
      ]
    },
    {
      "cell_type": "code",
      "source": [
        "q = 'dog'"
      ],
      "metadata": {
        "id": "uVErTZkNKRvw"
      },
      "execution_count": 23,
      "outputs": []
    },
    {
      "cell_type": "code",
      "source": [
        "type(q)"
      ],
      "metadata": {
        "colab": {
          "base_uri": "https://localhost:8080/"
        },
        "id": "Qv_4lksMKfgb",
        "outputId": "3c7dd1f6-878f-4cb0-8713-e1042c16a212"
      },
      "execution_count": 24,
      "outputs": [
        {
          "output_type": "execute_result",
          "data": {
            "text/plain": [
              "str"
            ]
          },
          "metadata": {},
          "execution_count": 24
        }
      ]
    },
    {
      "cell_type": "markdown",
      "source": [
        "## Line Notify 使用簡介"
      ],
      "metadata": {
        "id": "kHZKLOwQK83m"
      }
    },
    {
      "cell_type": "markdown",
      "source": [
        "* [Line Notify Help](https://help2.line.me/line_notify/web/pc?lang=zh-Hant)\n",
        "* [取得 Line Notify Token](https://notify-bot.line.me/en/)\n",
        "* [Line Notify API Document](https://notify-bot.line.me/doc/en/)\n",
        "* [Sticker List](https://github.com/vcdemy/linenotify/blob/main/misc/sticker_list.pdf)"
      ],
      "metadata": {
        "id": "JmxxKGVBLT2R"
      }
    },
    {
      "cell_type": "code",
      "source": [
        "!wget https://raw.githubusercontent.com/vcdemy/linenotify/main/py/linenotify.py"
      ],
      "metadata": {
        "colab": {
          "base_uri": "https://localhost:8080/"
        },
        "id": "Ef3urSOcKgwM",
        "outputId": "a1a5f36f-fa84-4005-f671-1acd38aa56ae"
      },
      "execution_count": 25,
      "outputs": [
        {
          "output_type": "stream",
          "name": "stdout",
          "text": [
            "--2024-08-06 05:35:47--  https://raw.githubusercontent.com/vcdemy/linenotify/main/py/linenotify.py\n",
            "Resolving raw.githubusercontent.com (raw.githubusercontent.com)... 185.199.108.133, 185.199.109.133, 185.199.110.133, ...\n",
            "Connecting to raw.githubusercontent.com (raw.githubusercontent.com)|185.199.108.133|:443... connected.\n",
            "HTTP request sent, awaiting response... 200 OK\n",
            "Length: 818 [text/plain]\n",
            "Saving to: ‘linenotify.py’\n",
            "\n",
            "linenotify.py       100%[===================>]     818  --.-KB/s    in 0s      \n",
            "\n",
            "2024-08-06 05:35:47 (28.8 MB/s) - ‘linenotify.py’ saved [818/818]\n",
            "\n"
          ]
        }
      ]
    },
    {
      "cell_type": "code",
      "source": [
        "from linenotify import Notify"
      ],
      "metadata": {
        "id": "SUO02QQbRw6d"
      },
      "execution_count": 26,
      "outputs": []
    },
    {
      "cell_type": "code",
      "source": [
        "token = \"\""
      ],
      "metadata": {
        "id": "gsgdtWX4RzeU"
      },
      "execution_count": 37,
      "outputs": []
    },
    {
      "cell_type": "code",
      "source": [
        "Notify(token, \"I love you！\")"
      ],
      "metadata": {
        "colab": {
          "base_uri": "https://localhost:8080/"
        },
        "id": "T-hhciQdR3hO",
        "outputId": "90eef2d6-334f-4ff6-b624-fa6bddbf5747"
      },
      "execution_count": 28,
      "outputs": [
        {
          "output_type": "execute_result",
          "data": {
            "text/plain": [
              "<Response [200]>"
            ]
          },
          "metadata": {},
          "execution_count": 28
        }
      ]
    },
    {
      "cell_type": "code",
      "source": [
        "Notify(token, \"I love you！\", 6370, 11088016)"
      ],
      "metadata": {
        "colab": {
          "base_uri": "https://localhost:8080/"
        },
        "id": "tqXvF07WSAg0",
        "outputId": "65bd388b-9046-42a0-e549-6f4fb08de881"
      },
      "execution_count": 31,
      "outputs": [
        {
          "output_type": "execute_result",
          "data": {
            "text/plain": [
              "<Response [200]>"
            ]
          },
          "metadata": {},
          "execution_count": 31
        }
      ]
    },
    {
      "cell_type": "code",
      "source": [
        "Notify(token, \"I love you！\", 6370, 11088016, img=\"lena.png\")"
      ],
      "metadata": {
        "colab": {
          "base_uri": "https://localhost:8080/"
        },
        "id": "vVOLaC3rVfnK",
        "outputId": "9376a47c-93b2-45fb-db7f-2e240d9391b1"
      },
      "execution_count": 38,
      "outputs": [
        {
          "output_type": "execute_result",
          "data": {
            "text/plain": [
              "<Response [200]>"
            ]
          },
          "metadata": {},
          "execution_count": 38
        }
      ]
    },
    {
      "cell_type": "code",
      "source": [
        "Notify(token, \" \", 6370, 11088016, img=\"lena.png\")"
      ],
      "metadata": {
        "colab": {
          "base_uri": "https://localhost:8080/"
        },
        "id": "qwfuwUr5YWBD",
        "outputId": "a3266fb9-6f6f-47c9-fd34-a907d690fae4"
      },
      "execution_count": 35,
      "outputs": [
        {
          "output_type": "execute_result",
          "data": {
            "text/plain": [
              "<Response [200]>"
            ]
          },
          "metadata": {},
          "execution_count": 35
        }
      ]
    },
    {
      "cell_type": "markdown",
      "source": [
        "## YOLOv8使用簡介"
      ],
      "metadata": {
        "id": "g6SisUeMjRTd"
      }
    },
    {
      "cell_type": "code",
      "source": [
        "!pip install ultralytics"
      ],
      "metadata": {
        "colab": {
          "base_uri": "https://localhost:8080/"
        },
        "collapsed": true,
        "id": "qd8_eypCYqXJ",
        "outputId": "538ccdd8-d80f-4c65-95da-e71c5e57e034"
      },
      "execution_count": 39,
      "outputs": [
        {
          "output_type": "stream",
          "name": "stdout",
          "text": [
            "Collecting ultralytics\n",
            "  Downloading ultralytics-8.2.73-py3-none-any.whl.metadata (41 kB)\n",
            "\u001b[?25l     \u001b[90m━━━━━━━━━━━━━━━━━━━━━━━━━━━━━━━━━━━━━━━━\u001b[0m \u001b[32m0.0/41.3 kB\u001b[0m \u001b[31m?\u001b[0m eta \u001b[36m-:--:--\u001b[0m\r\u001b[2K     \u001b[90m━━━━━━━━━━━━━━━━━━━━━━━━━━━━━━━━━━━━━━━━\u001b[0m \u001b[32m41.3/41.3 kB\u001b[0m \u001b[31m1.5 MB/s\u001b[0m eta \u001b[36m0:00:00\u001b[0m\n",
            "\u001b[?25hRequirement already satisfied: numpy<2.0.0,>=1.23.0 in /usr/local/lib/python3.10/dist-packages (from ultralytics) (1.26.4)\n",
            "Requirement already satisfied: matplotlib>=3.3.0 in /usr/local/lib/python3.10/dist-packages (from ultralytics) (3.7.1)\n",
            "Requirement already satisfied: opencv-python>=4.6.0 in /usr/local/lib/python3.10/dist-packages (from ultralytics) (4.10.0.84)\n",
            "Requirement already satisfied: pillow>=7.1.2 in /usr/local/lib/python3.10/dist-packages (from ultralytics) (9.4.0)\n",
            "Requirement already satisfied: pyyaml>=5.3.1 in /usr/local/lib/python3.10/dist-packages (from ultralytics) (6.0.1)\n",
            "Requirement already satisfied: requests>=2.23.0 in /usr/local/lib/python3.10/dist-packages (from ultralytics) (2.31.0)\n",
            "Requirement already satisfied: scipy>=1.4.1 in /usr/local/lib/python3.10/dist-packages (from ultralytics) (1.13.1)\n",
            "Requirement already satisfied: torch>=1.8.0 in /usr/local/lib/python3.10/dist-packages (from ultralytics) (2.3.1+cu121)\n",
            "Requirement already satisfied: torchvision>=0.9.0 in /usr/local/lib/python3.10/dist-packages (from ultralytics) (0.18.1+cu121)\n",
            "Requirement already satisfied: tqdm>=4.64.0 in /usr/local/lib/python3.10/dist-packages (from ultralytics) (4.66.4)\n",
            "Requirement already satisfied: psutil in /usr/local/lib/python3.10/dist-packages (from ultralytics) (5.9.5)\n",
            "Requirement already satisfied: py-cpuinfo in /usr/local/lib/python3.10/dist-packages (from ultralytics) (9.0.0)\n",
            "Requirement already satisfied: pandas>=1.1.4 in /usr/local/lib/python3.10/dist-packages (from ultralytics) (2.1.4)\n",
            "Requirement already satisfied: seaborn>=0.11.0 in /usr/local/lib/python3.10/dist-packages (from ultralytics) (0.13.1)\n",
            "Collecting ultralytics-thop>=2.0.0 (from ultralytics)\n",
            "  Downloading ultralytics_thop-2.0.0-py3-none-any.whl.metadata (8.5 kB)\n",
            "Requirement already satisfied: contourpy>=1.0.1 in /usr/local/lib/python3.10/dist-packages (from matplotlib>=3.3.0->ultralytics) (1.2.1)\n",
            "Requirement already satisfied: cycler>=0.10 in /usr/local/lib/python3.10/dist-packages (from matplotlib>=3.3.0->ultralytics) (0.12.1)\n",
            "Requirement already satisfied: fonttools>=4.22.0 in /usr/local/lib/python3.10/dist-packages (from matplotlib>=3.3.0->ultralytics) (4.53.1)\n",
            "Requirement already satisfied: kiwisolver>=1.0.1 in /usr/local/lib/python3.10/dist-packages (from matplotlib>=3.3.0->ultralytics) (1.4.5)\n",
            "Requirement already satisfied: packaging>=20.0 in /usr/local/lib/python3.10/dist-packages (from matplotlib>=3.3.0->ultralytics) (24.1)\n",
            "Requirement already satisfied: pyparsing>=2.3.1 in /usr/local/lib/python3.10/dist-packages (from matplotlib>=3.3.0->ultralytics) (3.1.2)\n",
            "Requirement already satisfied: python-dateutil>=2.7 in /usr/local/lib/python3.10/dist-packages (from matplotlib>=3.3.0->ultralytics) (2.8.2)\n",
            "Requirement already satisfied: pytz>=2020.1 in /usr/local/lib/python3.10/dist-packages (from pandas>=1.1.4->ultralytics) (2024.1)\n",
            "Requirement already satisfied: tzdata>=2022.1 in /usr/local/lib/python3.10/dist-packages (from pandas>=1.1.4->ultralytics) (2024.1)\n",
            "Requirement already satisfied: charset-normalizer<4,>=2 in /usr/local/lib/python3.10/dist-packages (from requests>=2.23.0->ultralytics) (3.3.2)\n",
            "Requirement already satisfied: idna<4,>=2.5 in /usr/local/lib/python3.10/dist-packages (from requests>=2.23.0->ultralytics) (3.7)\n",
            "Requirement already satisfied: urllib3<3,>=1.21.1 in /usr/local/lib/python3.10/dist-packages (from requests>=2.23.0->ultralytics) (2.0.7)\n",
            "Requirement already satisfied: certifi>=2017.4.17 in /usr/local/lib/python3.10/dist-packages (from requests>=2.23.0->ultralytics) (2024.7.4)\n",
            "Requirement already satisfied: filelock in /usr/local/lib/python3.10/dist-packages (from torch>=1.8.0->ultralytics) (3.15.4)\n",
            "Requirement already satisfied: typing-extensions>=4.8.0 in /usr/local/lib/python3.10/dist-packages (from torch>=1.8.0->ultralytics) (4.12.2)\n",
            "Requirement already satisfied: sympy in /usr/local/lib/python3.10/dist-packages (from torch>=1.8.0->ultralytics) (1.13.1)\n",
            "Requirement already satisfied: networkx in /usr/local/lib/python3.10/dist-packages (from torch>=1.8.0->ultralytics) (3.3)\n",
            "Requirement already satisfied: jinja2 in /usr/local/lib/python3.10/dist-packages (from torch>=1.8.0->ultralytics) (3.1.4)\n",
            "Requirement already satisfied: fsspec in /usr/local/lib/python3.10/dist-packages (from torch>=1.8.0->ultralytics) (2024.6.1)\n",
            "Collecting nvidia-cuda-nvrtc-cu12==12.1.105 (from torch>=1.8.0->ultralytics)\n",
            "  Using cached nvidia_cuda_nvrtc_cu12-12.1.105-py3-none-manylinux1_x86_64.whl.metadata (1.5 kB)\n",
            "Collecting nvidia-cuda-runtime-cu12==12.1.105 (from torch>=1.8.0->ultralytics)\n",
            "  Using cached nvidia_cuda_runtime_cu12-12.1.105-py3-none-manylinux1_x86_64.whl.metadata (1.5 kB)\n",
            "Collecting nvidia-cuda-cupti-cu12==12.1.105 (from torch>=1.8.0->ultralytics)\n",
            "  Using cached nvidia_cuda_cupti_cu12-12.1.105-py3-none-manylinux1_x86_64.whl.metadata (1.6 kB)\n",
            "Collecting nvidia-cudnn-cu12==8.9.2.26 (from torch>=1.8.0->ultralytics)\n",
            "  Using cached nvidia_cudnn_cu12-8.9.2.26-py3-none-manylinux1_x86_64.whl.metadata (1.6 kB)\n",
            "Collecting nvidia-cublas-cu12==12.1.3.1 (from torch>=1.8.0->ultralytics)\n",
            "  Using cached nvidia_cublas_cu12-12.1.3.1-py3-none-manylinux1_x86_64.whl.metadata (1.5 kB)\n",
            "Collecting nvidia-cufft-cu12==11.0.2.54 (from torch>=1.8.0->ultralytics)\n",
            "  Using cached nvidia_cufft_cu12-11.0.2.54-py3-none-manylinux1_x86_64.whl.metadata (1.5 kB)\n",
            "Collecting nvidia-curand-cu12==10.3.2.106 (from torch>=1.8.0->ultralytics)\n",
            "  Using cached nvidia_curand_cu12-10.3.2.106-py3-none-manylinux1_x86_64.whl.metadata (1.5 kB)\n",
            "Collecting nvidia-cusolver-cu12==11.4.5.107 (from torch>=1.8.0->ultralytics)\n",
            "  Using cached nvidia_cusolver_cu12-11.4.5.107-py3-none-manylinux1_x86_64.whl.metadata (1.6 kB)\n",
            "Collecting nvidia-cusparse-cu12==12.1.0.106 (from torch>=1.8.0->ultralytics)\n",
            "  Using cached nvidia_cusparse_cu12-12.1.0.106-py3-none-manylinux1_x86_64.whl.metadata (1.6 kB)\n",
            "Collecting nvidia-nccl-cu12==2.20.5 (from torch>=1.8.0->ultralytics)\n",
            "  Using cached nvidia_nccl_cu12-2.20.5-py3-none-manylinux2014_x86_64.whl.metadata (1.8 kB)\n",
            "Collecting nvidia-nvtx-cu12==12.1.105 (from torch>=1.8.0->ultralytics)\n",
            "  Using cached nvidia_nvtx_cu12-12.1.105-py3-none-manylinux1_x86_64.whl.metadata (1.7 kB)\n",
            "Requirement already satisfied: triton==2.3.1 in /usr/local/lib/python3.10/dist-packages (from torch>=1.8.0->ultralytics) (2.3.1)\n",
            "Collecting nvidia-nvjitlink-cu12 (from nvidia-cusolver-cu12==11.4.5.107->torch>=1.8.0->ultralytics)\n",
            "  Using cached nvidia_nvjitlink_cu12-12.6.20-py3-none-manylinux2014_x86_64.whl.metadata (1.5 kB)\n",
            "Requirement already satisfied: six>=1.5 in /usr/local/lib/python3.10/dist-packages (from python-dateutil>=2.7->matplotlib>=3.3.0->ultralytics) (1.16.0)\n",
            "Requirement already satisfied: MarkupSafe>=2.0 in /usr/local/lib/python3.10/dist-packages (from jinja2->torch>=1.8.0->ultralytics) (2.1.5)\n",
            "Requirement already satisfied: mpmath<1.4,>=1.1.0 in /usr/local/lib/python3.10/dist-packages (from sympy->torch>=1.8.0->ultralytics) (1.3.0)\n",
            "Downloading ultralytics-8.2.73-py3-none-any.whl (865 kB)\n",
            "\u001b[2K   \u001b[90m━━━━━━━━━━━━━━━━━━━━━━━━━━━━━━━━━━━━━━━━\u001b[0m \u001b[32m865.5/865.5 kB\u001b[0m \u001b[31m12.6 MB/s\u001b[0m eta \u001b[36m0:00:00\u001b[0m\n",
            "\u001b[?25hUsing cached nvidia_cublas_cu12-12.1.3.1-py3-none-manylinux1_x86_64.whl (410.6 MB)\n",
            "Using cached nvidia_cuda_cupti_cu12-12.1.105-py3-none-manylinux1_x86_64.whl (14.1 MB)\n",
            "Using cached nvidia_cuda_nvrtc_cu12-12.1.105-py3-none-manylinux1_x86_64.whl (23.7 MB)\n",
            "Using cached nvidia_cuda_runtime_cu12-12.1.105-py3-none-manylinux1_x86_64.whl (823 kB)\n",
            "Using cached nvidia_cudnn_cu12-8.9.2.26-py3-none-manylinux1_x86_64.whl (731.7 MB)\n",
            "Using cached nvidia_cufft_cu12-11.0.2.54-py3-none-manylinux1_x86_64.whl (121.6 MB)\n",
            "Using cached nvidia_curand_cu12-10.3.2.106-py3-none-manylinux1_x86_64.whl (56.5 MB)\n",
            "Using cached nvidia_cusolver_cu12-11.4.5.107-py3-none-manylinux1_x86_64.whl (124.2 MB)\n",
            "Using cached nvidia_cusparse_cu12-12.1.0.106-py3-none-manylinux1_x86_64.whl (196.0 MB)\n",
            "Using cached nvidia_nccl_cu12-2.20.5-py3-none-manylinux2014_x86_64.whl (176.2 MB)\n",
            "Using cached nvidia_nvtx_cu12-12.1.105-py3-none-manylinux1_x86_64.whl (99 kB)\n",
            "Downloading ultralytics_thop-2.0.0-py3-none-any.whl (25 kB)\n",
            "Using cached nvidia_nvjitlink_cu12-12.6.20-py3-none-manylinux2014_x86_64.whl (19.7 MB)\n",
            "Installing collected packages: nvidia-nvtx-cu12, nvidia-nvjitlink-cu12, nvidia-nccl-cu12, nvidia-curand-cu12, nvidia-cufft-cu12, nvidia-cuda-runtime-cu12, nvidia-cuda-nvrtc-cu12, nvidia-cuda-cupti-cu12, nvidia-cublas-cu12, nvidia-cusparse-cu12, nvidia-cudnn-cu12, nvidia-cusolver-cu12, ultralytics-thop, ultralytics\n",
            "Successfully installed nvidia-cublas-cu12-12.1.3.1 nvidia-cuda-cupti-cu12-12.1.105 nvidia-cuda-nvrtc-cu12-12.1.105 nvidia-cuda-runtime-cu12-12.1.105 nvidia-cudnn-cu12-8.9.2.26 nvidia-cufft-cu12-11.0.2.54 nvidia-curand-cu12-10.3.2.106 nvidia-cusolver-cu12-11.4.5.107 nvidia-cusparse-cu12-12.1.0.106 nvidia-nccl-cu12-2.20.5 nvidia-nvjitlink-cu12-12.6.20 nvidia-nvtx-cu12-12.1.105 ultralytics-8.2.73 ultralytics-thop-2.0.0\n"
          ]
        }
      ]
    },
    {
      "cell_type": "code",
      "source": [
        "from ultralytics import YOLO\n",
        "\n",
        "model = YOLO(\"yolov8n.pt\")\n",
        "results = model(\"test02.jpg\")\n",
        "import plotly.express as px\n",
        "px.imshow(results[0].plot()[:,:,::-1])"
      ],
      "metadata": {
        "colab": {
          "base_uri": "https://localhost:8080/",
          "height": 595
        },
        "collapsed": true,
        "id": "Q4BBY_FVjtFc",
        "outputId": "3bf8d00e-7217-4eb8-ff13-5393f6d7bcb6"
      },
      "execution_count": 51,
      "outputs": [
        {
          "output_type": "stream",
          "name": "stdout",
          "text": [
            "\n",
            "image 1/1 /content/test02.jpg: 448x640 23 cars, 1 truck, 198.7ms\n",
            "Speed: 3.3ms preprocess, 198.7ms inference, 3.1ms postprocess per image at shape (1, 3, 448, 640)\n"
          ]
        },
        {
          "output_type": "display_data",
          "data": {
            "text/html": [
              "<html>\n",
              "<head><meta charset=\"utf-8\" /></head>\n",
              "<body>\n",
              "    <div>            <script src=\"https://cdnjs.cloudflare.com/ajax/libs/mathjax/2.7.5/MathJax.js?config=TeX-AMS-MML_SVG\"></script><script type=\"text/javascript\">if (window.MathJax && window.MathJax.Hub && window.MathJax.Hub.Config) {window.MathJax.Hub.Config({SVG: {font: \"STIX-Web\"}});}</script>                <script type=\"text/javascript\">window.PlotlyConfig = {MathJaxConfig: 'local'};</script>\n",
              "        <script charset=\"utf-8\" src=\"https://cdn.plot.ly/plotly-2.24.1.min.js\"></script>                <div id=\"63481afe-f6b4-463b-9dd0-0eb6f233e8b0\" class=\"plotly-graph-div\" style=\"height:525px; width:100%;\"></div>            <script type=\"text/javascript\">                                    window.PLOTLYENV=window.PLOTLYENV || {};                                    if (document.getElementById(\"63481afe-f6b4-463b-9dd0-0eb6f233e8b0\")) {                    Plotly.newPlot(                        \"63481afe-f6b4-463b-9dd0-0eb6f233e8b0\",                        [{\"name\":\"0\",\"source\":\"data:image\\u002fpng;base64,iVBORw0KGgoAAAANSUhEUgAAARMAAAC3CAIAAAC+MS2jAADakklEQVR4Xux9d5xkVZX\\u002fueHFylVdnWd6co4wAww5KIKCgCIqIiYUc1p11TXvirqmNScMYA646BqRnDMMTE4909O5ctXL74bfH6+7uqe7Z2iCMOz+vsyneXXueaHqvnPvuSddJA\\u002f81HGccqXR0tIS+DwejweB0GOx\\u002foMDmUxGAH\\u002f4kQc3b96cyaQ6OzvqjrN567Y1x6637cbg0IBl25VKNZNqX7hg+c6dB20r0Ix04DPLsiRw3dQ6evIDxT49oZlmvFa1U8mWet0JmbQtP5fNW5bt+B4AdHZ2ZLIpxpiiUYZwqVxIJQ0kvEZxpC2XAu4uWbzogQceqNUbBGtdPQvVWHr7rl4zlgxZ0JpPFUYGTT1GKY3piT179hBQdF2XEhhjr3vDm+6\\u002f\\u002f\\u002f4bb76ps7Oztb3NtvzScNWyPN\\u002f3GWMY43g8rqqq67qqqgohGGOMsWQylclkMcIIpK4SXVUZE74X+n6ga7pAWEhBFQIIgsCPxbRiuRRPGkJwISDwZDqdE1yk0qlcLqfr+vZdO1VN6+7u8Xxf1c1UKtWwvNGREV2Ldc9p9e1CpTxCCK7XahgTQkipUMjn867tIoQQBtdxXdvJZrPz58\\u002fPZhKPPfbgnt17Mtm2fL6rWnWGR4q5lhxgsO0qJvJjH\\u002fnXu+68o1gs+L5fK1WZwJYbComYCDACRSWjo0Oarq5YsSwMg0bDajQsSighWiaTSaeypcJQbfTACcdvfOSRx5cuX121vIODowJUz\\u002ff7+vYPDR1oySR1ha9cMs93KvN6usuVeu9QQ9Ez8UTattx9+w7UalXdoIoKvm9Xa4V0PLZmzZrO9q7R0dLoUAURIajXsMorlyxuSacMwDL0yoMjc7o6yoUCUahtOYlsemS0SHQ1ncn5LKwURrmAMADbZ4aZxYo2NFKiitZwGrG4oWro1NM21avDrldPJLRGtda7Y5\\u002fkOAi5ocdLlUYQsEteeem+ffuKhRFKCXBXSF+GXmdXvlEpzV2woH+obPuCYFqvO67HEFYCn6mGWW9YgCRgXG+UE6l4ImlWazU9njz5tHOGC7ViaZTu2HMAY1yt1UdKNYVqlKqO7eq6WbctSRRV17BiLli8fN78ubZtP7j5Dt1I16u+BJJJtaqqoyoJSrSDB\\u002fs554wx4TZ8P6QKZHNZTGUQuKqq6roJgmSz+Te+4S26FvNcFjIIAq5QrW5bqkYRQpqmIASKpoaAbadhNcojgwf+53e\\u002fHBnoX9jT9egjjw\\u002f0DxpGzEwajuMMjVYLIyOaYSeTCateQxLqtYpje6l4Mp1MUqy4rhs3E57nxQwtGTcTMZOHgWdZvucjLCnFUlJVpaqqxuNxXdfjcbPRaAAAxpDL5b75jWvgaMUpZ756KulQnP3iRVNJTx4vvHAqBQDe+KaXN6oFwzBaW1u5H2OMWZa1Z8\\u002feUKiaHkOg2LYjBPd93rBs01TXrV0b0zUhRLlcrlar\\u002ff39tls3EmCYBEsY6DuYMvSYqsQTphAi5EyAlAhqtRrG2HXdWDxknHV1dw8NjbCQ9ff3d3RSRHXDMGzHSyaT+dZcpVLcs3uvoUPIfBZ61XK5paVFMGnZvqbpIUdBwHbt2vHggw\\u002fGTDOVihNgqbSp6tRxHErp0OAgIJ1SrKk6YwIjQajCdGTEE\\u002fmW1v6h\\u002fiDwcrlcJpOSmFerZd\\u002f1WCg4FyAJ3TdYqlRq5XIVI7ps2XJFwaVyo1LpN02TGBmMnR17BvoG+vqLNdM0A2nk093lgleuFYQMhAhjsVgslSkWyowxVaO6qfmB5QROi2pks0mqqY3+OhJqo2Yz4c3vWgJAmZRSEop1JsTd991rW0HdalCKCcVMSC8UpmkGvh838wpJMMk6OxY+tvmB0JMxnWqKUa\\u002fUq3VXhrzhVomUOhiFkQEk5aKFS4SA0dGC57jt7Z3AQu57iIcaQSlD8QLbaUguAElQKVCMEUKEQOA1HKvCOU8mk4zJAGQuk5z6yhwFqDe8fftHPS+c19PS3pqa2nwYVKrOwFDF98LJRE1X2vKpXNbEGE+mB4ztP1AcLVprVnQnE\\u002frkpgj5XH7\\u002f3h1xoyVkwjQN32kYeiyZSDccDhIjjFRVlVJw4fu+b+h03rx5CkZbt24d8YsgCcYUIxR4Hgt8KcJkzOjuaK8XiwAgBOecA4CUslar6\\u002fGEa3u252KMh4aGLMtZtHCpE\\u002fCWfMeB\\u002fmFM9Wq1mqG5keFCvVFOpszuznn7encw5mhUUTBt7WjzA1YuV3sPDChUGxkdjidigecyruq6kstlWrPpILQ621oKpcqBg6OSc8kZxkApDlhQKlbZ8HDnnLlCiFgsRjXs+W4Y+pKLIHQBqOCYM0SHSu7AQImFolQa3tNXYoz1zF8Yj8eLI43Hd93WaDSk5LGkWbZYoVapO1KOWgqhIAxdMwxTVRSCgCKkLF48b\\u002f\\u002fBPillJpvUzGy+NV0uj\\u002fZuO6hqORYqvscc1w+CkKoUSRVjBQGVQpRLDdM0CdZVRSMEh54nOeah6lhATFXXW6hUsumOhT3LtzYejRvpjtaO3Xt7FYRNVQux0DAujQznUmmVKiqhgyPDSAjJhWM1JJN123Ia9dCzNQXbDYcRQRUdARACgnOEASPVD93AZ6pGrUZFAhccMGZTX5nnGtf88q6rr7lD1xUhBWdywzHzPvL+F+cy8al80\\u002fCXfzx+7S\\u002fvKpSsyURVId1d2Z\\u002f\\u002f4M2aOiE5W7YNfPLz15fLtqrRet19+xVnvfaVJ0w6CQCgYVmqqvbMne84Tt++wcH+fYVSg8ZaOccqpYQQgBAhpChKzDDb21t1RcUYpJQjIyME64IjKRDmTKWYSBGPmZKH9UaNuT7zfSklIYRxAQBSSkpV1\\u002fHj8XgQBPV63fd9SrHruvV6PZXRUqmUruuVSklKFIbccbyBgRGMeCKmm7lMo1EbLZZ8L2xpSS9btqresDVNadSrnPuKqllWPW5QLjwppZS8XBl1XB6LJahimLpBQhL4brnS0DQtnkzk8zk3cCqVoqYprW0txbKtKhoCNQwE3dNfKZXsY47ZcOZLlmUzreVyWVG0kZGR0vbtVadSbXBdV5kNAyMDUsp0MiUb7ry5PYgA466qGX7gAuOZdC6eTCMYUDU9lY0TApqqaJphGonQB9u3dSMRUzXXCpOpJCYaAAUgCsUg1cJoTSJwgxLGGGHFDVA8HhcBDmyPBUql6j76yPZsysRIM9V4e75reKDge1UseD6VTqbikDYphnrNqhQrlWLJNGPpRLq7s\\u002ftA734sAUke+p6CEYiASKoSybBAlGIAVaWJRIIxDSHS2trCmGAs8Lwgl01PeWOeW1z\\u002fl0e++6PbXnjmypedt97Q1Yc29\\u002f3sN3e\\u002f\\u002f6O\\u002f\\u002fuE33kDpIZPGdLzkRas3rJ\\u002fneUGTcvvdu7767Ru+\\u002fNlLNJU2iY9v63\\u002fNW36w6biF773yhdls\\u002fDfXP\\u002fC17\\u002f6jUKy\\u002f\\u002fx1nN3kAgGCcSqXS6fRg\\u002f4F9u3aqCk6l0nVfBiwEFCiKigEhhBCSWMLCefPthmXG9Dnd3Z7DbMtXNIMi0TO3racnv2Buj1Wv1avVTDIhDUNywUJQVDUQIp5IBFIa8Zjj+hJBNpsdHh7ef6A34DgIGwiBZVlU0YQAIUBRtIN9gyODA9Vaub0tNzpSssrFRQsXdHS0MSbKVSsInFq9hAkkEkal6iaTcT9wbLuhaqhSKQnJMqmkpoaapjMBIDlBKGGaGGPBQ4UgEAxJiZGkGDBGoR8oioFACQNEO+ctO+HUuaeddlo6mes7eLBvuMoclxipV11+xeOPP37f3fcUCiOKrieoUamUC8VqPpkU0rOduu\\u002fbmZZER+fchQsXL12+amiw0DN30bwFC1OpxN59ew4e7PVcFtM8T8h6w+eYa3rMrtsxM00xdm3LiGUQgpge4wzWrFtbrlWHhoaCEGWyaYRI4NSZX+\\u002fuWog427tnfz0bM\\u002fREGLJqqawrqopxJmZmMnHO+by5C7Zv314cLWdz+WymLQxDXY\\u002fn8x2lUk3VjZiZ8H0fIaQQbOiqrqtCBLquSwGGqSfiyXKl5NgOkkGtXMIEEUxnVFSeK2ze2v+pz\\u002f3hPz5+4Xlnr4soSxe3n3Xqsgte842vfueGD77rnEO4pyGdNNNJs\\u002fmx90Dx69+78aPvP++k4xc3ifc\\u002f1PvOD\\u002f3865+\\u002f9PSTl0aUTy+\\u002f4J1vPuOyt1xdb3if+vBLm5yh73e0ts2Z00OkGNi\\u002fX1UQR9Qgmsd8xpiiqIZh6KoShq7v1OIxs39gPxsJpESe57lugHXdMIwF8+bHTVGrlGUYIhAYcN22G7V6KpUSQqiappoxVrcUzbQdnzFmGGp7e7uiGEY8U627TOKhkbImEQdkWY6uqxJYpVQVIrCtwHO8WMZ0XVs3DMMwspj6gWdZNd\\u002f3KSFh6DLu+75dLrvxhGHXyrFkYs7cTsv2WAiFQrler0tEdU3JZDKFcpkg4CykGLCEUnFUVRVCMMZYSmCMU9tmy5atTSfbANCcOQvLZeemm26q1+u3336vGdMdL\\u002fQCHnCH8zDkoGlqpTo8UhCAeVtXev6CroULFy5ZtgaZGXvXwF13P\\u002fynP92KEAECc+d2Y9wiwkrgWYaqEYRjhomRpJoKSBiGFgQuF6Drat22FsyfYz1u3X\\u002ffgwf6huLxdtfxy+WhmI4MypNxPZ1qQRDEdDX03T27d7a3txYLYVtrzjT1QrE6OlIyzExnZ8xyvUQ8pSgKpsq2nfsBqVSjEimVmuP6jFA9nsjouhqLSUppo2Hz0HZsXikNOY6XTmmZtCkllxJhNIO2JoQAgCkLgymYDc+TghDi2l\\u002fetXZl99lnrppMb2tNvuOKM3\\u002f2m3te96oTW\\u002fOzXZU5TnD5W68+\\u002ftgFV1x+ymT6DbdsTcT0Y9b2TCbmW5IrlnY+tvWg5wW6rkbEdDZl14pbH9+iUnCDMAyBY1a2bdsOFUXDgJHKCRIIhEIwSJ6Imb29I8PDo4xjFmLfE5mE0ZLLcK+CJSBKE4ZeLVcUhRgxXYC0XCebawkBFE2VUmKMbdtpSSe6u7tt26\\u002fbtmU58Xgi4fi6kQiFTCQSQeDpuomlwAS5jq8qBsYYIRSLxShVGnZ1YGAgnUmn00kMyDA1YIHrKXatxlhgKDSTTHEAFgaO7fu+RwjSzRhnWDMM29Zy2YxEwGWQSiUwEZqm6jFKEJZSMBbS0dFCT888AOJ4DgtFELD+\\u002fkFKaTKeSqbiLdn88ccfv+GYta2tLZZl8aDhNQZVwiQSqVQyHo9r6QxgE\\u002fwQEy1mJnmocSYRJZlUZ61eGSnUKebtbXnGpalrIDiELueIGKZKiOcGfmDv2rWtUNg0MjroWLV4zLSsumkkc5lsaz5BpZ\\u002fPGhTaRgZ7A7dKMLasemt++c4dWzS1VVeVRMyUVLMdPxbPJrK6acS379otpFQURUhGKW54olSxHF9gohlm2tBoKmladn2gv69SqRiG4bpuKpVatHC+ZVm+7zuO47v25HfID9ivrrv\\u002fwMGilHD2mSuPP3b+dNmYwrNu9ZwdO4eXL22P3jkhxI5dwy25eGs+ed9D+264eVt7a2LTcYtWLe+acp0pCAK2a8\\u002fIyuVdKp3QrCJ0d2ZGC41KzZ2l5AghPvKZ6xqW96X\\u002feOVkes1yNj\\u002fed\\u002fEFx06fac84ZflVX\\u002f3zjr2j61Z2R5RsOo2Y67ruktUrS4VipVSs2a6qUJw241oMIWTV6416WaFSMEeycOniRSB4EASdHfNULV6v+flMYqh\\u002fqLszmUmlH39sc+B6nmMvWrQolkgVi0XH89t0LXA9omiO50pEPNeu1WqqqpbL5YHhgqon821dpUq9XC4Cofl8vr+\\u002ff3R0NJdJrV23ym5YBAUnnbBioL\\u002fXcRxN09ra89VaWQi2a9eOtWvW5PMte3duE5I1GjXD0Dryc7q6uhqO3Wg0bMkNXTVjSV1L9g+ODA30C0BSykq55Hh2Lp+dO3duGAbF\\u002fcOESkBCyIBu3HDsP274+zkvOhdJMHR91crlC+bO0TStVqk69VrgOhA4xfb8b35+LWNBMqEDt+bOaZs7t7ta84haW7okpSY14LKre9GS5VYYoq1btjmuMzhS6Jk392Mf\\u002f\\u002fe5c1pVhQDCtuOY8bigCogg9ByiaqpGWltSbS1JVeGB32jNp\\u002fxASjARoq6NknE1l8235hOlkf5YKrtm\\u002fWrPaWDEhwtDXT1LVC1G1djy1Sv7h62WjtSixUswVTQ9tv5EJ9\\u002fazjnvO3CgUi0qZr57wZrB\\u002fv2qgvPt8+Mxtb0ltWf3ju6uxW2tgW4YGCFN0xYuXLV92zYp\\u002fPzcOY438fYEjL3ubVf39Ze7OjKU4j\\u002f9bfPlr9r0ritfMMExE8\\u002f5567bs2\\u002fkE\\u002f\\u002f60kXzWwEgCNgPf3bHpo0LR0brP\\u002fnFXQsXtO7cjdvb0k8oOfWGVypba8df3MlYtKBVoXjXnuGli9qmts2E6\\u002f74yM23b+9oT3\\u002fgY7\\u002f57Mcv6pmTi+gaVU1T7x+qHMoOAMA4r9bskeEqjD+A6zQSCQMj1NfXx4RMZbJScVnDpXqsODwS041UIu7YPPStTZs2eK61v7eRiJubjj+OC7Xe8DxXjoyM9O2+D0v\\u002fhS84I5vJ0TwFwTs7O7ds37Zk5crbbr99cHgonclRijRNS6SyxdFhISAI2NDQ0ODQ6Nr1XZVqiVCs6crQSEFVaTqdXLJkUaNW2b1797Hrj1EI275tJ+fuwOCgYRhA8Jw5c6q1OhesWBxxvXp7R6tlNXKpRKVSYoxt2bKl4dgIIUwUTVMsq6GpMdPUY2aCKGpv717LsmIJ0zRNjHGxWJw7tzsMAy48TCR96P4HzjzzzEatdstNN2cyucWLFweOHdPU7Y8\\u002fFgQeRrBvN7crJYVCJpMZHRlIJGJbHtt3YH\\u002fxyg98BQAYAHMAALRM7uQXzgGAM1583sTPDyABfAAAoPFcABA4AKAAADAAkAsXrly4cCUAnHXqC8469ZA38mli6cJl0cGKpcce2gIbD9FWxrD2+KmU4dHapVd8f9nijq997tJEXMcYduweee+Hf8G4eN\\u002fbx5bOM\\u002fK89f3XVqtOrepEPIyJx7cNbN0xaFn+d796+fIlbQBYnbRAPxxGi414TFu6uH1qA0AmZ86fl9\\u002fXOzq1YSYEjJmm+i\\u002fvfJHrBpu3Hnz1Fd\\u002f7ymdfecKGhQCgqnjZkvabb9terTuTV0QA8Ncbt4QhV1XSpMTjRuDWh4aGCZB4PB6Px52+\\u002fniSqHpMpRhCzlnQM6ezrTWdTCgNq2wYGg94pVKpVGzbk36AROh2zZnfno+bsZTvu4lUfPfu3VXLMmPx3r6+1vb2ZDJTqtZsx+vo6ChXK\\u002fV6XcVJxlgqlbK90Pf9RDq2a88+TFRNVxpWrbu7O5tLHzywt3\\u002fgYC6T7mzPxQxj69YdB\\u002fsHly1bYjt2qVQaLRZUlbbks7GYkTBjtVqVhYFhGKlUJgg8rGCiqBipns9I3acaVRQFYdWyHIQQUWjIhW27htCEkJ4XaJqi66pp6jSVjPfu2yMYP27DsXMWLNqzbdvo8NCD993b1d7uByQZj40WhndseWzN2hWt6ST3PUNLCxbrnjNv4jc+avDUnB4R9vaO9g9U4jHNNNXlSzsDxj7w8d8uXtD69S9c2jRhrVs954Y\\u002f\\u002fMuPfnrnXffuPumExYfj+dYXL7vsLT94bGv\\u002fsevnRcRK1fZ89tffvK+7Kx1RZgMpZblqSyGnNgAAg2rN8fwZlmTToVL6krNXNz9+7ye3fujjv\\u002f3xt9+0cH4eY\\u002fym15z8P3999Kov\\u002f+Wj\\u002f\\u002fLiSHjqDe\\u002f+h\\u002ffdfd9u01CTcaN5IiGqQGTVmmM548PDI4Ekc+cvTufbGrbt2U7geYHr5TLxxQt6CoWBVCaDsHBc3wlrRlzRkxrFMZDMpHxOVz6byY4WRkbqjprs7Jg7p1Itt6ZTfQcO0lgupaQODOyhmmfEc8tW9tQr5QVzulzHX46I7XqYai\\u002fqXpRIpnfs3pPL5QjGXIhjNhy\\u002feNlyTVHj6XRrNpHMtK\\u002fzXYLJ7t69uXynwKZuGIuXrbcadSREPCWBM03TkrkcYEgEnqpqCFPX9gqFKiKqwSxACjFEoqWbMeYHXiqVNBOGYmY50Hy+s+FKhAhdvGBhsVLO53Jf\\u002fOIXgyC4+GUvz7e0lIoFXdcD3yYIaZSWrXq9VqnE9Gw649iKQhKa\\u002fuTey2cBT9npAQA\\u002f+8093\\u002fz+TaqmWJZ\\u002f7LqeH3ztddWqMzhUeeNlp0yx\\u002fKqUvvUNp0fHh+OhFBuGumaSlhX4LJ+Lt7bN6mGaQAjlMnGE0dQGAIkhnTQNXZnaMAucc9aan\\u002f763i07+hfOzwNAa2vy5j9+4JVv\\u002fN6LX\\u002fFfZ5y8rLsz84vf3ef77D8\\u002fc8nXv\\u002fuPyXd\\u002f7wc+P3GV\\u002f8M4FQAA6O133p3Lt3AJL73wolQ8kcvlYma8o6P90YcejoJTMpnk3DkdVMG9vb2GWUkl59VrbqlQnnK55xZPx+nxte\\u002fc+D9\\u002f3\\u002fzh979k2aJ2P2CmoQJA38ESQmjdqjlTuSdhNjwAEDKmGepxxyyYvtA\\u002fMlpbErW6u33X8BTDFwBUK87e\\u002faOXvXLTFPpskM+Zc7oy27YPXnDu+oii6+ovr77yTzc89ue\\u002fb965d+ScF6y+\\u002fFWbbr97d63udndmDj37aMFT0y9KZWtgqBYGhwRVtLenujqe4GsyxgDw5HeJGonEWS88+8RTT\\u002f3SF75oW1Y8Ht++ZevJJ26aO3+eoSks8AvFYU1BruepupZMJhnzDJPqxoT6+5zj6Tg9\\u002fvCXR3\\u002f3Pw9+4\\u002fOvWbfmEAHQVAVjFBz6E0\\u002fBbHgAQKE0nTQy6UNWEbNBMqHnWxKPb+sHmLoI27NvlHO5ZNEMS6AnhAAQXOqHzlemqV5y4YaXnrMuFGHCNACgUrVPPG5ROvWkH\\u002ftZwJ9u2PyHPz2qqlRKIYRcvrTj9a85KZV4gkdljH3r6lv6Dpb84BAt98TjFl75htOmm0yb2LJt4Mr3X\\u002fvlf3\\u002flCRsXNIlU0fRFS5bectttN956W1tra+B6mVT6wMBwe2tLe2dbW74l9G1DV3bt3iFZ6Lr+8Gg5Hk8gOuGWbmI2Do3Z8DwpPE2nR7HceMFpK1Ys65hCn9OdFVz+9aatx6ybN6UJABgTlOIj80Tf9OlAVemSRe1DQ9WAsSnzVf9gubUlmUlOLEKmoPdA8fa7d73yog1Nb0wTu\\u002feO7tg93IwPmNwjuk51GLvRO9985vgZRx3OO3vteWevnUp9IlBKP\\u002fGh86dSZ4FVK7o0BStTdPKOtvZcLhP6c04+aVN7e3vciJ9zzovT2ZZtjz1WLBYtJ3A9HkilUPNb8znfHVU1SCaIemh3PH+dHue\\u002faG2xZE3X6NIp8+RNi2+9Y\\u002fuVbzilJTtx+vadg5\\u002f8\\u002fB8++7GXLV7Ydjie\\u002fQeKtZozMFTb2CQ9JWCMX\\u002ffqTZe\\u002f9Yc33LjtvHPWNOkjo\\u002fVv\\u002feCWl19wbGvr2E0dJ7jj3l2UkgU9+fk9LQCQSujX\\u002f+lh1\\u002fPf+oYzmicCAGPi9398qLUlvnzZ2Hw1NFL7\\u002fH\\u002f99X1vfeGC+fnJnEcPnppi1sTIaHXfgZKqkMUL26e7rTwv6BuoNupjhtAIqbTZ3ZGePOj0zJn649DAqlIZBlY1GaMJUzn\\u002fpS824zmQ9KMfu0pKgjDlPFQNoqrk+BNSVt1PIOzZta5JtrXpDo3nkdOjNZ88nFx9+iMXfPXbN5zz8q995H0vXrmsE2F83R8f\\u002fOXv7r\\u002f2e29avHDsgjPy\\u002fOzX98Zi+pyuJ1CdZ4M1K+d86iMXfPbL\\u002f3P\\u002fI\\u002ftedt4xuq488ljfT39979JF7e9720RQ2X0P7\\u002f3htbd7Pj\\u002fphEXve8cLVUqz2fhH\\u002f+UlH\\u002fz4b7dsH3rFhRtaWxIYoYc29\\u002f3m9\\u002ffVLe+Pv3hXPD72DnV1ZJCEt3\\u002fgZ6991QknnbB43pyW5mWPBjwdw0+5bF311b88+HAvpQQQCkP22ks2vfG1J08e1n\\u002f663t\\u002f+uu7LfsQHWrV8s73ve3s9WvnTpCmmWloo15VdG3f3t1zuzvn9MxHCECIO++8iyqxdKYVU5UxZrt1l3ujVSelJzUMwJxqtRGdP6ND4\\u002fno9JgR73v72fmWxBe\\u002f\\u002fldVUwhGikJ+9cMrVy7vPDLPd7562Q03bW1vHxsdVZ2ec9aqJzQkHA4Xvnh9repc\\u002fdM77rlvrxCSc77hmPkffd+Lm\\u002fOkEEJT1RXLurZuH1i+rCPwmBqnALDxmPnf\\u002fNKln7jqD5+86nopJFWI77MTNi74xAfPa4pNhE986Lz\\u002f\\u002fMbff\\u002fCTO+++d++3vnzZ5KbnFk\\u002fH8MOYeN9Hf10oW1e+8fT1a+aGAf\\u002fN9Q\\u002f88Od3LlzQdsYpYxF6APDI4325bPyrV50\\u002f+YLplNne9gSTG7Ut96\\u002fX\\u002f\\u002fHGm29asGDBha94lWN5gPHWrVu7ujoYx7WGk81mzbjWsKqFQiE7r333rgMb1q5saesGgMM5NJ6PTo8m9vYWInNthMsu2bRp48L+gQpgWLuiK52eYbSbznPKCYubA5tK6Xvf9oLp6uvs8bpLT7ro\\u002fGP37R91vXBBT66tNT25FWN8wob5xx0zH2NgQkzWWlct7\\u002f7Vj6\\u002fcf6BUKNYJxofTdlpakv\\u002f56VeMjFZHi9bUtucOT8fwAwBf\\u002fc4NO\\u002fcM\\u002f+EX72ob12lXr+zetHHRA4\\u002fsO\\u002fH4hVGoeMBYpWJ3dWaOXTfVevmEoF1dc267\\u002fU7bcg8cHAg93zTN4aGhBx56cGiosmTxyu7uHKV0YKgvDH274sl5neuOOeGSS15eqNlweIfG89fpsXvv6OKFrVOIC+e3Lpw\\u002flTgFU3imyMnTEZsIyYS+bvUk5eFQYDx2B3XajVRKlyxsWzKuXh4Bba3pKTIZYTZGndnwPCk8TcPP6Gj9xlu2v+PNZzTFJsKLz1794klO4cBjxbK15impAzRkPJVpiSfTQrIf\\u002f+ia173hDa7r6rra2tqi66oEUamUFJUsWLh8++6tjzyy+aUvPJ0kcqIWwuwcGofjMQ115bLOmDm2CJMg1q\\u002fr2bB23vSF\\u002fpHR2Z7u7EiPFsa0x8lw7EDT6fppzpDD4eHNB3726\\u002fu+ctUlUxv+r+L5a\\u002fip1N3RYr27MwsAQoiG4yVMfcaHd5wgnTb\\u002f8NdHtm0flCDzLclzzlrV1ZGezjwFtH9wtLO7AyHhuuE\\u002fbroRq+pFL3vVm9\\u002f85iDAu3b2Yqo3Go2B4T5K6bx5PQt7ul\\u002fwohcB0QZHCsmWttk4NA7Hs3hh20+\\u002fd0XzYyJu\\u002fuRbb5zUPltkM7EfH+bEtnzy2u9M3OIJcczanuk+x6MKT83K9NTcf9ONOs8jw8+uPcMKJfPmtTz0SN\\u002fVP719tFhvbUlc8dpT1q6eO1n3qTc8x\\u002fV+eO0dCsXzelrCgDte+J0f3vKGS0+a8k2lBMcLLMujFKsqxRjTeCIdcuS7YcCEoul\\u002f+J8\\u002frV133MYNJ+7Yue\\u002fnv\\u002fiZ5fjxeJyJMAhcxt2D8+Z2trbxkNmus2zlqiM7NGbj9DhK8NTeyGcZT83KFDD2gY\\u002f\\u002fZteeEffQagTnvmDVv\\u002f\\u002fbhVNG1t4DxcioPaNR53lk+NnXW1gwr+UXv7339394ePXKrpe8cPVt9+x+y\\u002fuuedXLjv\\u002fguycWSJ4X5LLJV1xw7DkvWJPPmQA4CNh9D+\\u002f97Jf+PDBU+Y+PvbwpZrblf\\u002fQzvzcMdfWKrjdddsqKZZ3UiKVSqcSQ43bP6aGqYlnW5s2bV60+plAolEqFRCobhr4f+opCEFYGBwcfeuRhx7Ha2zvh6Tk9jh48NYf0s4zb7tp52527LnvViWecvETTlB27hv9602Pf\\u002fP7N\\u002f\\u002fYv5x3ZyuQ6AULoLa8\\u002f7cTjFoYhDxmP6G355BSxuf\\u002fh3quvveP7\\u002f3X54Yw6zyPDj+eHW7YP9g9Wfnft27u60iqll71600B\\u002f5XVv\\u002f2Fff\\u002flrn39V9N2XL+288fp\\u002fmXyiaaovOnP1yuVdr7niBz\\u002f7zd2vv\\u002fTkiE5VvGHdvPa21ML5+ZZcHABoqdwYLVQMkxzsH7Kdxjve8Q7DiPm+f+utt5573kvKpRqlVCKJiejqaidUVspF27P3HdgXXXFGh8YRnB7HruuZN\\u002ffo8hg8NYf0s4zTTlp62kkTttSeObkXnbVyUvthkUqaP\\u002frmG6ZSp2FouPqx\\u002f\\u002fj9FZedCoc36jyPDD8DQxXXDb7076+IplAAUCmdPy\\u002f\\u002f6Y9e9G+fue7eB3tPPG7hoWccgtZ8cuH81gce2n\\u002f5q06MZEzXlMsuOaE5HAAAVagRhBbCaiaZQhgeeugR3wvi8eT2XTs2bjhh0cIlAOD6jgSezaYAsYP9vbv37s6kJlTk6Q6NIzg91qye+\\u002f2vXj656f8OnppO+NRWKTBTkOIR0LD9M09Z9sIzVwJAqWQtW9yxaeOR3q3D8Rwlhp\\u002fOjvQJGxccd+z8KfSN63qO37BgZLQ2hT4FKqWnnbT0D3951HK8ZHxm7QO94+0fVnRVUaUfWEIGXV2dphlrNOz+g6Nr1xxj6IkgCAhFYegKGTLuqTp96OEHzjr9BS85+5AQoCi\\u002f5QhODwDY2ztaq7vTV+GzsWnOhudoxlNepVz5nmtnuUqZjIc3H3jXv\\u002f5iSpAiAPz0V3enUsaZpyyf4gz9\\u002f5iOd37wZ5\\u002f\\u002f9MVxUweAN7zjR++84sxD5hw\\u002flJpJfN8tlSupdKxWq2WzuXrdQgjt2rWjVKoxxjKZlG03qrWSphOJ+MZjjp0iNjDNoTEjpjP8k+yeZ566YrI38znHU\\u002faFN+rejt3DF7x4\\u002fbkvONStMW2VMhmVqnPZlVdzxqcEKQLAnv2j\\u002f7h525e+ccNXrnrlhv+NNpuAsf0HioVCQ9cUQDBjrFqEiPPgQGVOV2ZeT8v0WfHYdfMjsQGAEzYsbAaFRKBU1TyfM87NWNKM6dt37hwtFizLHhosZdItPIQwDD3PcT2rVqtkc0kpuTM5Vf9pYLpN85myey5b0nn0SM7T8YXXG14YsPVr5qyd5hA7At7z4V8k43pwaCx9hI+898VvfM3JN9yy9Yp3XfO5T77s3BdMuAWPHjy1+RkA7nlg7ze\\u002ff9PQSI1xYVl+NhObMVYNAB54ZP+XvvG3QrFBKWahyOcTH3jnizYec4h2d8y6Cdfzm193ypQrUCZQzNCpgCBknMswDIeGhqrVWr3mmUbc1OP1ejUMXd3QMMa25dbqlTAcs88AwLU\\u002f+9nGjRtWr177yU99OpfLO67jBSyTzaYzOUJIrVpty6YIlr7jEQwIYNWqlYuWLYPD2DT\\u002fqXbP2eh7s+F5UhBC3HL79otesv6cab7wT3zopX+98bFyxc5mYpObJoMxvnxpR09XdmrD4fG3G7dYtv+lz17yvR\\u002fd1lxvNKHras+cljdfftr8nvxv\\u002fvuB1Su6j7bctac8P5fK1kc\\u002f8\\u002fv5PS2f\\u002ftcLcrlEyBhGKIpVmz8vf9Zpy5ucQ8PV9\\u002fzrL1Ys63znm85sb08PD1ev+fXd7\\u002f7wL39\\u002f7ds72tNNtrUrJ0ar6a8Eev0VH8+3ZvygXq0VzLjiuNXAdR3HrVYsVTEpVkdGRghBmWy6Xq\\u002f6vtvZ1nn88ce9\\u002f33vjc7\\u002fr6996+Uvv\\u002fjRxx775je\\u002fbZjxRCp74smnzF+waHBktFatMx6C8DASGqZSsMLQ4IknnnDOuS8MGHvjO34SM5Rvfem1k3+OgLEf\\u002ffTO1cu7IrvnjDwPPXrgsrf84EPvPucNl50MAJblnfHSLx7Z7hnpe6WK9f5xmfz\\u002fODqxeWv\\u002f69569eT5GQBGRusXvOYbL3\\u002fpsUeen7\\u002f0jb\\u002ffff+ea773psS4ihXhC1\\u002f96\\u002f2P9F7z3TdGqpflea9+\\u002ffe7OtLfPdRSdeV7rxkcrv3yJ2+J6zNod5\\u002f6wm9WHf\\u002f3404+0KRQVUP1RiUIHF3XNY06DvU91prvTCaCes02zXgilcSAVF2JxWKEEEopphMj2THHbli2dOGn\\u002f\\u002f2zS5cu141Ytd7o6+vzfd9xfdf1K5VSZ1fr8PBQPGZQkMVyqV6vweFtmv8Mu2dT3ztl05KpbUcBnrJCH+HIySdTMHtr22zm3tnwPCk8zVg11w00jU7PVU6mDMYECxiYAAC33rrTsv0Pv\\u002f8lU9g++v6XvP4dP7r11p3nnTODi6J\\u002feP\\u002f5a653xUQyAkXEC0Of8ZD7kgsaj6WTiSwAooqIxbNCgJQSS5AYxcwUwrLRaAg54Z8aGhn66Mc\\u002fbZp6V1dbPB6fizoHBgZ2bnsEABKJRNKkxZEBHvh13yIYYSQajSocPphtMmbDA0+U5T9Z30sdWhXpaMBTVuhhdsknk\\u002fHJq\\u002f5w1\\u002f27f\\u002f+ztx\\u002fOzBrhn2SzeRZi1V501qq\\u002f3bzl1jt3nXn6Mn089XJ\\u002fX\\u002fFPf998ygmLk+O9f3CgwhhPJaam0yaTJmPi4EBlCj3CMSfeF48fksNDg9BWVdWMJTjnnuc1GhZGVFGUeDzJGAvDMAxDJgA4cIyxBM2IYTrhhCoVSwELW1rz6UzK87x6vb5j+xbXajiO09LSIhBwBhIBSIEEpwStWLEEDh\\u002fMNhmz4YEjZvnP6Oc+evCUFXqYdfJJBM8Lrnj3NXfft3f+vBYMR7rydHvMM2WzeRZi1Y47dv4lF2z87Jf\\u002f\\u002fMvr7s+3xDRNLVXs7TsGuzszk7M8tu4c6O7MxOJTV4CxuNrdmdm6Y6BJGWHv8WHrH3+96oa\\u002fJj7xX7dP4gUAoAghxlhUxldVVYyx74We53HOCSGKopmmKaUMwzAIWBAElFLBRfN8y7E457lcLuJRFCWTyXR3tNu23dLS4rPQc0Oi0DDwXatBMJiGCc9Wlv\\u002fh9L2jAU\\u002fH4AazSz6J0Hug+K4P\\u002fZwQ\\u002fKbXnnzb3bua9OmY0R7zT7XZTMHTjFUDgPe87QV+yH78szsYE0JIRcErlnV+4wuvbuZFW55XLDY2bVw0fVpTKT1hw4K7H9hreV601PFh62Dh8e9\\u002fb9nFl92aSE61J2MpZRAEruv6vg8AiqKoqqooSqPRcBzH930hRCRUuq4bhhGPm2SSMpmIxX3fLRZGDx7sGx0drleruVymo6Nj6dIlXV2d3d3dy5YuWb5s6bHr1p1yyklnnHb6smXLYFLAW7Fcb14KALbvHLzkDd\\u002fpPVA4Ak8zy38ycUbMRt8TQjyhEM6G50nhyAr9jbduGy0c8pWn4AjJJx9697mTxQYAbr971yUXbfz1j66kMywBJjB5fm5rTZqmqutqFKtmGOpd9+4+As+3vngZQuixrf3Nq1Wq9sBQ9Vc\\u002ffOux63pMUzdNdTaD19OMVQOAL3\\u002fzht9e\\u002f+ArLzrux996w2+ueesH33su5\\u002fKVb\\u002fyeZY2\\u002f9wyqNdcPZ1Zk\\u002fJBVaw5MuskN\\u002f7MEAM4+f4YRh2IJhqphjBljrmUBgKpqqURMV1XOeei7gecQrOi6ruu6ahpe6EUyFuFtb3nTxMWeDJ5swNtTyPI\\u002fsr73\\u002fFXoZ5l8EmHG8jfTcbj5+Z9hszkcnmas2sevuv6e+\\u002fb87XfvyWUTEeXYtfNe98qTPvm56y+87Fu\\u002fv\\u002fZtyaQJGNJpQ1Nnvo6uKumkKce\\u002fnGOpf\\u002fj14rPP35nJjU2nk0Gz2SxjLAgCxhhCSEoZLXhMMx7RwzAUQkSTj+\\u002f7iq60tozV836aeFIBb08hy\\u002f8I+t50Zf15pNDPMvkkwmzEBmY3P8+GB57IZnMEPJ3KjPsOFO64e9cH3vWipthEoBS\\u002f+8oXXPqW7\\u002f\\u002f3nx993atPjJt6LhO\\u002f+\\u002f49b7vi9CmPFzB21\\u002f17WnLxplH7gbvm+D696NWPT2Zrgqoa5SKUwKmCVTUmpfR93\\u002fNcjHGkpEWbNodh6HkeY6w93t43MPzXf9x87gvPnHqxJ4\\u002fpGfxTOWbimWWW\\u002f+ESHGZU1p9HCv0sk0+eFI48P0eYDQ8c0WZzZDydyoyDQzUp5NzulqkNAIm4nk2Z+w8Wo3XHquXdv\\u002fjdvbYVqOlDesq2gsGh6uknLWtSqhXzfR+7qaXVnsQ1AVoqlVRVNQwDAMKAh2FIKaWUMsaFEAhJhBAAYIwVBVNK9+\\u002ff397e\\u002fshjWx\\u002fbsj1mqlJIjHDIQ1PXgyAQUhi6wYLA97yQMVVVXc8HhELfCwJ3\\u002fdp1L3v5y6c8wSwD3p5alv\\u002f0BIcZDW7\\u002fK5NPnhSOMD\\u002fDM2ezOTKeTmVGAKDK5AX4BDAGVaUw\\u002fmPP6cpQiut1Z4ps1xoupWTyKuD8i7f6uHcSyyGgIHi5WOjpmR+GYc2u+r7f2dldq9WQBM6YEIGiKIqiSZBB6DqeqyiK67qMMcMwAp9WKhXbtpPJJMEo2u6nVCoFrpNKpTjnUsqRYqlarbbnW2r1il23pkvObHD9n\\u002f5UKpSpqmiaThRFCggC33W9MGQBE8lk2jD1Sy99+YEDA1\\u002f66pfyudziJYte9dKXRudOSXA4nLJ+lCj0iMAxa3rmje9vMyMIwYsXtH7oPedMST75yude\\u002fZ0f3Lxl++DkJ2yioy21ZFHb4YTqcPPzbJIUj4bKjIvmtRCEbr5jx4plU1Xl3XsLfQPll790Q\\u002fTdTz996fd+cttVX\\u002fnz9\\u002f7rdZPZPv+VP8dj2umnT9j0MRVw+NGAuu7Y3tmdnZ2apimKMjIyYhiGYRhhGDLGmr81IURRFNM0MaWe5zUajVQilkql4vG47\\u002fuVSjmTyViWVavVXKsRXZNSWrcdIZgQAgNStYmB5He\\u002f+92FF1704MOP7t6zNxSACPVct1avNmrlro62XC5nmub5554bMT\\u002f6yEMPP\\u002fowY8wPoqUXj8QSJOmcO98w44l04sTTTtm1f9\\u002fO\\u002ffu29+5esuSQvJFI36vVXZidsj4bHvjnKPQxQ\\u002f\\u002fcJ59gcPnAu170gXe9aCoVYMPanh8ePont8lefePmrT5xKnYQZ7THPrM3mCfGUKzO2t6c\\u002f+4mXffDjv92xeySqzBgEDCN0\\u002fV8evv3u3Re95JgLX7IuOjeu69\\u002f\\u002fr8tfdvm3r3j3T173yhPb21ODI7Wf\\u002furubTsGr7v27ZNDb376OVIYSSeTCU1V\\u002fSDwff\\u002fkk87YuqPXiKXiiTitVCrJZNJ17Uajpus6QshxHCl5yETIwjBgAIBxgDEWQhCConeWUso5tyyLUhqPxzHGLIwHQZDL5TKZzM3\\u002fuCGRSCSTyWKxqCsUY1UK4XleEE4oISMjI3v27rvq8593w1A3EoqqW67rODYFrlAkpXzp+S9uMpcqxVKlKKUEgaSUSGKFYIwxYLJ12+aLX\\u002fHK0848LZtPbf3zlkQ6ds4ZZ73ypRc0z43QVPZmo6zPhgf+OQr9c4vp9phn1mYzGzxTlRkbtp\\u002fNxGzHf8cVZ1x2ySGmhY729Nc\\u002f\\u002f+ovffPvn\\u002fz8HygljIt8S\\u002fxrX7h0crgnAKBgQf+eoVwul4jFPM+zGo61dOGeLcVKtVap7KeVSgVjnMvlRkZGWlvbdV3v6empVquMCSmlFCCEQAhhjCmlGGPXD2zbjsfj6XTaseq1Wo0xFjlAC4WCbduRjAVBkEwmgyBQVVVKiZAkhAg+ITnzFywcLhRHC8Vcvk3TjEAILkDVdENRJPAw9DV98huJMcaEEIWolFKCFYwxllggaGltr1aKd9xyy+bHHn7o4YfTubTlWpNOnIojK+vPuUL\\u002fnGO6PWYqx0w8s7TZzBLPSGVGXT1Sfs7GY+b\\u002f9PtX7D9Q7O+vdHdn5\\u002fXkpndEW2fP\\u002fMU1IYRKFUUDojjbdu5PprK2K4SsU8GCSqmQTiYVQurVMslkerrn6IpKCGGMBQFzXTcIQs45AADGmCqW40QSIqUEAMdxgiBoXbG8o6Njx44du3btmjdvnmEYnPOurq6+vj4AUBVimibGEyu4rq7uvfsPrFixQmCCiabHYiETjuO1tbVpioqQzGQmDCmJVGbJslXAhWCcMQFjWQ4IIeT7XnFwsC2XTRlGR76lVC2NDg81T\\u002fzNX\\u002f\\u002f8ipe\\u002fYnCw8Mc\\u002f\\u002fjGXTl\\u002fy0nMPp6wfDQp9uWxns7FJjM8N\\u002fqk2m1niWajMqFK6ZGH7koWHtddt2bGrOFoTQoBEluWkk5nRyoDrh4qidM6dSxVFqVQqg4ODy5cvHxwc1HW9Xq9ns1lN0zjnnhfUarVKpep5XhAEAkAzzEwmEwRBrVbjoR+LxRRFAYBHHnlkzZo1iURC13W7Ua9Wq4SQIAiklFLKwOe6rjM2of9gjIeGhjZuPD6RyWayeaxqAjAhiqoYVr1eq1Um18BGmIYBIIQJJqqCEEGcSyGEFGxuV3exOGyVy3saleGhQcdzZcfEGjHfkkcY33HHnQ89+OjxG8Ze+BmV9aNBob\\u002fvod7\\u002fuupVU1mfn\\u002fj57+679Y4dX\\u002fjUxZOzj+65f+++A4VLLtqgUAoApbL1H1\\u002f6n5OOW3zxhRsmzgS47g8P3nnP7o+8\\u002fyVNk8Ctt95aKBQ4D4UUBCGMUaNRM3RNVUi1Wk3EYolEQlUoAD7h1O6S9pHorIf\\u002ffsHD9we9B\\u002fuzmbxlO\\u002fMWLOSCHejr1SgxTH3JksWJuDEy2N+o1whBrmdzFlCKCEZScMtq7O8biukG45wShWrUiOeEbYd2ASmUYqAAwDmPcm90XXccZ2DwoKISTcsTQiJ\\u002fDsaIcxaGIROCCRlPJimljDFBUGSzjsVittXo7+\\u002fv6ek566yz7rzt1nK5nEqlSqVSIm4SQhqNBkKITJoQK+VStVZrae1QdS2eSlZrjYbtGmbKwxgjI9+aVNBEpJBppgktEYQVTAhRMCApATiAZOWRgkagXi75LBzp76eGUq9OhLuuXr7SqjnpeHJeZzdiE1rWdGX9aFDoLzr\\u002fmKlMswvmnw3Ps4nR0fq1v7j7slcePyVpb9NxCzdNKjrTP1hx3XDTcYsmsQAArFnV\\u002fe0f3bplx9CZ45JTLVdGhoZZ4HEeKpQqCu3ubN+25XEEIpFIVOp1VbK5ixeHoR\\u002fTa\\u002f38vuis\\u002ffvbGtV84JQG7Mq+voOjhYOqru3r3dvV1aaoZE\\u002fv47qq51s6+vr6u7o6PM8hSFZrJYoRF2HgeoYRB6KEvkcVM5nKNBqBz0WmJcdEwHhIwzCMjGZDQ0Nz5vQUCoV6vT40NJRKZiLHjmEY8XicMaYoKpfSdh3PsaRE2XQykUjU6\\u002fVqtYox7ursdhxn+7YdJ598cs+ChYgqQRDMX7TYs51UKhWLN4Rg6cyYFRUALNebM2duyGXv3n0sFKph8NAtjTjJVIdte5qm9HRNpEOvXL0uYMh1bavesCybhyEhRFN0QyEtLfni6NC2nTsy+axrOwYxPXsiVqK9NR\\u002f67EWnn96eyacO3X5surI+ufVwPM+mQv\\u002fcxgd97D\\u002f+e\\u002f68\\u002fNveePqUpoc3H\\u002fj69276zEcvnNudndLUxCzjg5Yt6bjy9afnslNNLI4bSimTiYnoB8MwTNP0kWQMUUJ0RRnsH2hpafEcN5PJDPT1LUosmNezgHPngft+mxyfwGql4QO9o7qelEDWLFsQcJZKxloyq0YLg41KMZGMff4LXyyONr773auHhobq9WpHZ5vvhUYmmTLT9WrNMAy7bmOiUU0DIP0jQ3PmdIa8oShUNw0qEYklUrbrUcvJt7U98NBDc+b0FEoVuWv3\\u002fPnzTdNUDb2jq1vR9AMHDvi+L7mQmBNMPcd1bQcADE1HCFmOnc22DA4OPr5121lnnUXofbt373bcQGC1WHdMM4GlJPpEZMTuvXtHRgrZbDYI\\u002fIH9u5etXIE1dNF5Ly6UAk2Ph2HoefUm84rV6\\u002fJd8xIx4\\u002f5777nxhr9FFUWIjorlEhGYS6V7\\u002fmLPs5PpjOdZLAiaJ8rAVrH6hz\\u002f\\u002fjxmLrVt3cpMe4WhW6KfH\\u002fjyb8UHVmnPnvbvXr5nhwfItiW07BjZvOXgEyZllfJCm0kP2qBnHt6++paszu2ZSMnPAwpAHQDBGlDNu+a5CcCA50ZRCuYRVNZQwMDy8es2SgerECLhu7ao9j+8WnI8MDm46cf4LXnR2\\u002f8CQ5TSueeAuRVfqtfIfrvvNay9700mbjn3ssc0AHY1GowGiUatLLhgTluUQhRJCBJII+IJF8wAECnVAXDBJpZRRQoFt25F\\u002fUwjheZ6UMrKqUUoxIrqux+NxQohVr2EJSAqQIAFJKRFCCKFUKtPf359MpClR\\u002f\\u002fr3fxx\\u002f\\u002fPFewAqFAheIEBKEXFEUQBO\\u002fmkKIaehS8tXLlikqHervO\\u002f\\u002f88zDz\\u002f\\u002f7n\\u002fzZiaUVRkklz+Zwxo+3DDz5ou37Dqh6zZs3Q4HK3YfXM6cAI7EyKIBWE4IKHoceFz7jb3TWxdaFVt3fufLC\\u002fb\\u002f+cp7EN\\u002fe137Vy1ojtSPG6\\u002fc9fBwfJF5683Da3JsGvP8D9u2XreOet6xj2Yv\\u002f79\\u002fcmEce4LVzd5nhRmjP35PxIf9Oe\\u002fb773wb2\\u002f+fFbJz8nIhhHAQIISYSkFEJKIQBJhBVVhnx4ZLTv4OCjjz\\u002fYOb\\u002fS1FUaVuORRx5pa+sBLm\\u002f8x9\\u002f37NkzMDwkgJfL5a7u9nQ27bvORz7yr67rx+Pxzs7O9rZ8R3urZVme54VhGL3YCCGEJGCEMMKYKNSQwKWUVErJGKOUWpZl23Ymk4kCPR3HsSxLURRFUQAjSqlpmgghz7EjoQIAAQgAIhtAFDCKMbZtu9qo79u3b\\u002f369Q899NBooQwAQghK6eRk0rdf+ebm8WS8\\u002fU2XTCUBvOr805vHp26YKMXwhDDM+Lr1G9etf1rGsFMnFdc89eQlk1rGsGRR+5SQqle+7LjJH58UDhf7838hPqhYblz1lb9ceskJSxcfunMrwoApIgghhpAigWNAkiGFEE1TCFYs19u6ZXujPvov\\u002f3Zm86Qd23d2dXZreqx3X5+iG6Ojo0IwicSSJYs83x0cHLzuuus6OuelUplGo\\u002fHwww9HzpVEIpHL5VasWOG6bq1Wq9VqUcYNY0xKnoqZ0XtOIxmIwgVqtVpLS8uBAweFEJVKxTRNQohhGJQoQojI2qZpWpQoKqWUCANAJEiNRiObzXImgyBIpVLbt29vbW1dunSp7TxWq9UURcEYwyTJOQrxLJQECJ6oxhccPvbnKIkPmk3A\\u002f1MrTlutO2df9JXjjl3wr+8eix1pQggQApDEABhAIgDOOWNcCEmJIhEWkvh+WLfcg31DS8eH1j179zHRJVwvm28NQi4QKJrqujZjzLYbUvIw9A\\u002f2H1BVXdf16DW2bbterwPAY489FovFMplMKpXK5\\u002fNSyiAIwtA\\u002fsHcfgJBSUiFEpKpRSm3b7uzsDIIAY+y6br1eT6VSqqoiwISQWCwmpfQMAyHEGBNCAAKMMedcCIGpwjnXNENV1VK10tLScs8995x77rkLFizYsmVLdEpn5xNb2Z8rTCkJcNH569\\u002fz1hdOZToMZlkSYDY1vmB2sT+z4YF\\u002fTnzQEwb8A0AQ8kRCP2baGmb9qjnZTGzL9v7pklOpOsef9R+nnrT0u1957ZQmABACpEQCQAJGIAGwYcaQ5wghmISQg6KZbe1dmVx6dKTY1BCy2Ty3W6y6H7Agm81ihfqhhzD3fFfTtFjSiMeTgiuaprmu63meruucc1VVY7FYLpfzfb9erxeLRYxxLBZLJBKGoa1cuVJKDlE2NcZYSqkoCkKIc44QIoRECpiUkhCCENI0zTAMKaXvOkII3\\u002fellIiQ6FwAUBQlEiGEkKIojLFEIvHYY4+tWXtMpVIZGhoKw3Dr9j3X\\u002ffEvL3\\u002fpRFjNUYLpJQHuf3jvVKbDYJYlAWZZ4wtmF\\u002fszGx7458QHPWHAPwCsXNa5dfuAmKbsKSpNpcxSeWrcflNsrv76IVGYTSCEMSKAABCRAjBIQlVChQj9IBSezwEpVI9pptZwq82zVq5au1MY2VUtiFDL8TBFjAVUwbZrA7C6XZcSaWqSEj2ZTLa2tkbe\\u002f0j\\u002fAgBKaTabxeMxMbVarVgM46aOQWKMadQQeTMjK7OqqtFMEgRBNLdEP4CiKJHyFgQBIUQIgQmJTkcI+b4fBYkKIVKpVH9\\u002f\\u002f7Jly3bt2tXZNXfhwoWVSiUStj\\u002f97R8PPvzI4gXz33j5pc1v+NxixpIA55y58hCmw+OXv78PE\\u002fSz717RdP+vXtl9zgtW790\\u002fGjIWufycIPji1\\u002f\\u002f+0nPXfvh9L4l4Fi9sPeWkJZ\\u002f7yp+++PW\\u002f\\u002f8enLjLHa7UAwPyelsXz2x7d2j9j7E8UH3Q4nqggumGMqVIY4yWL2jqeaLPY6VBVetZpy2s1N1oDT24qV6wnDPg\\u002f+4wVP\\u002f75XTv3jLS3pSfTd+0d3rJt4F1vPmsy8QnFBgAoVRVNRwgBCACMpHA9L2QcYUVVSMgkIGI7Hgvd+CQ3dTKd1Q0sEa7VrVjMCFgIAKquqjqNxYxQhIyJRj2QgjSniijomUfxxAAAEB2oqhqPx6WUukqllFJKtOmUk4MgQAh5nnf22WcfOHAgDLkQwnG8ZDK5aNGifD4vBSSTSV3Xq9UqD4NqtVoul8MwxFTBGIdh6Hme6weJREJVdMaYFwaxWKy\\u002fv7+9vV0COffcc2+\\u002f\\u002fXbbtiWIgwcPLFuyNBE3Pv6v75\\u002f4igAwO3febHieFIQQH\\u002fzEb4vFxg+++fonq9L8n8V3f3xrc8XlOMFjWw+ecOimBnXLufi139103IKPf\\u002fClzZUYY+JTX\\u002fjDvQ\\u002fu\\u002ff1PJypXzUZsAOCGm+4oFCsISwBACAkAhRAAMPRYPGF6bsB48Nhjj1UrxQWLKme+9tqxs374il1b4olEQjcNz\\u002fOCwFM0qihEyFBKHvDAtn1DT1Ki67rueV6tVtN1PRaLOY5DCIFxsYluGgEEiz5Sz\\u002fMIIfF43DCMzs7OXbt2NRq2EMI045qmNRqN7u7uMGC+76uqmk6nR4eHCCGapgkhGOeRhkYpTWp6rVZLxFG0IiKEJJNJIUShWNq+ffuGDRvuvvvuhlWfP3++4zjJQ\\u002fd1em5dfocrCXB04lkwY0wGm6m44RWvPbV5fN\\u002fDe\\u002f9x09YpkpOMm7\\u002f\\u002f6dtfeuk3Lr78W5e87Pjjjpn3wCO9v7rufsvy\\u002fvCLdzW3UTjQVzrrgi+vXzf3XW85c\\u002fOWg5OvoOtqW2siPV4kzXLdgeEhy7IIIY7jHDjYJ7kghFSr9UajZprxRCKWz+fndndWqn3Ni0iE863tjuMAgJSSqooQ3PeZQFICByCmERcchSKMbNCxWAwAfN+P1LaxBTzGzYUM53zsp5CSIoSEENVqdc2aNb7vR4IkhPB933EcVVV93weJoldZCBHZ1qKPkUSiaKUUDQZCRMIqhEAIAUAikejv7583b142m21Y9TAMVao0RRlmcuc9my6\\u002fI5QEOArxbFY2hMNvJdIUJCGEpqrz5s3gTY7H9et\\u002f9o7PfPFP37765p8l9IblHb9hwSc+eF5TbDwveMcHf5bLmnv3jb7hHT8+9GzI5+KXv\\u002fqk17xibJV11113PfLoY0KIRCqpqmqj0UCIcCFc15WAgGCsqAEXhVIl1zoxArp+YLuO73lcCs9zAACQABAcOABIKQAQwRoABoDodW0ehGGoqmqkuUWuTkqpqqrNoupUjGPp0qWVSsV13ah2hxAiCALP8zjnumYYhqHrOmPMNM0wDCO9MBIPjDHGmAkZrXkiLVBKGXWJaZojIyOVSmX+\\u002fPn7D\\u002fQKITjneNwlOqM77yhx+R1tmG7GePqVDdet7dmwrmcqNwAANCzv8\\u002f\\u002f1147WVDp52KkJjwf8T20AAIBk0vzSv18yPFrbuXt42eK2KbFFlNJrvvOmoZGaf+jWQBE0XZm8tZYEoRlqIpFQdY1zmVZo4LOGY1NNJYQAIT5jYa02Ojra2jnhoQ780PF8kCLw3CAIYSzDU0gpAQkAkFKqioLQhErWPCCERMuQpoC4rmvbtjq+Ih2LW+vq6spkMtu2bQvDEAAIIQAYIRQJQBRAYBiG7\\u002fsg+JhzBkAIER0ghAAkblqopWw2CSEIIfv37z\\u002f11FMTiYTr2r7vRz19OHfe0eLyO5owoxnj6Vc23LZz4HCSk4jrv\\u002fnxW6dSpwHjI0xaAADtrakZtUpKcS4bz2VnNWEWS2VMiaKpruvatqsZBpeSCa5oKlVV4BIoUXUdQEbCESHgTEpJFCoYQwgBREsXQAgAiJQyEpSm6jT5QFXVIAiiuSGSljAMI0p0cSqESCQSK1asqNVqQ0ND0dtPCInsBNHs0RS75mnTMSamAY9OYYxhjBFCfhAkEolCoVAul5csWXL\\u002f\\u002ffdqiho9++HceUeJy29GRL\\u002fAkV+W2fA8KYgjVjZ8wlLlR6hsOPnjM4Kbbr5l185dnudGXTwGKdOt1bNeeWf0Kel+sj1zKiYqIAIggDNQJEB40z\\u002f+ms2lBBdBwObPX3j77Xdt3b43QAoHHEvGQhGGoR\\u002fwAAgAlhghRVcUqgFGrufKAOumocVMz680bxuwMOQMUxVhPPY8UiKgYxICAEiGIR+fi8bmnMnammmaQojIYhyZ1xzPjZipqqodHR2tra0HDx6Mwm3CMNQ0LTI9c85938fIRgiFYcgYEyyMLgQAkWzAuNRijDkPIknjnGuaFkkRpVQIsW3btlNOPfn+++9VVZUzDrNz582GB56Gy+8I+1FOwdFpxnjGKxs+HfzuuutuvPHmSLG3LAtjHL0hCCFXjrhiLPg\\u002fJuoYAcYSEAYpgSDA0q7X6vWS51W+8IUvdHXN+ciHP4aR2LbtMamnuubOjydiheJoZL9lXJbL5XSuxSBYSuT7fsiZ9H3X8wxd8yaV0eSMMcYA5LhhHYEEAIwQjM03UoShG0lO9CY3D8IwjEp0NMUpDEPf92F8kKWpVGrBggWWZQ0ODmKMCSFhyBRFkVISQqJbep4H4+IR+p7v+5xzhMbMBpGoACYIIc7H5hwhBEJIShl5RQkh0fU7Ozur5QoXAmbnzpsNDzwNl182E\\u002fvxt944lToN000UR4kZ4xmvbOh57F\\u002f+7VftbamPf+j8PftGP\\u002fvlP\\u002f3re85dtuSQKLJf\\u002fPy\\u002fR0cLIJEQLJWNBYHnuU6hWGw0LF3XCSEIoUQiEb0\\u002flFKEUCYz8UJThWCMQQhoRgWAiMXN1tYWzkNKqaZpjIeWVV+4cP6egWKxOAoAGIOiUE1TVYRsR\\u002fE8BxEcBlyASGfTiq4Zupk0TVUrN29EFIoo5iA1VdHGltYYJAYpQWIAkMABcYAxa1ZTeABA13Xf96O1TOThjCTHMMeUGppIJNrb23fv3t1oNCZb39TxQtKqqobBhIUuulw050R3EkIIITAmkahE15VyrFAbVUjgh9Fli4XKvJ6F9w7eLQHB0VESYDaY0URxlJgxnvHI5c9++X\\u002fuuHf3bX\\u002f+VwCwHX\\u002fzln7bnnjpI\\u002fQeHBzoH0wYuqLQkeIgBxGGIYBQDdN17bptUUrT6TSWGAAjRCgmBCa+JkEKICw5ICwBJAACwIAVhEgiYcbj8R27tmOKYgljaGSoa878ihVomhZLZQ4ePNh7cEDTNFXXEvEUItiyHA4ynclQooRhyDlPxsf80QAQ0zVf14IgMFUFK5F3OAp5QQAAQkpEFRWakgOThCeqS4MQGi+AG0RTBUIEALAEesIJJ\\u002fT19R08eNDzPNM0Iy3LNM0gYGEYep7XaDQ0Vfc8L5fLYYw9Siml0UwCXAghImmJ5qimhhYJIRMcY\\u002fBD3zQTnm8XitXFixfffdeDCtXh6Kjx9YQ4nIniaDFjPKORy\\u002fc+uO8Xv73vR99+w5Fnb6QRrIEE17IDn3NEMFYoAA6CIBQSqMIAanWLYKwSRVNUlWrx1MQTNiyvJcZ9P4wlUwAIpACJIZTcBx+Hn\\u002frMvyMqh4YPYp07wmoMFyoWy+Vy1WpVSjpnwZJarZbNZuv1etKMtycztussXbZM181sNpvSNBze3bxRUlcrvp3SdUX6E\\u002fMJgnH1DDjCumFyScYVJSaEkJJLKRuNGiGkVCrNmds1f35P7\\u002f69xWJRJdTUdIxxGITUcRzbtoUQhJBIBjDGTWUsmnkBxgwOEcN0yHEzxXRIyaNKNaqqWw1boXosFhdjNvGZ0\\u002f2f5ZIAAHD7Pbt+9ut7jjt2\\u002fmknLlVVumvvyN9u2rJyaecbLzv5cCaKo8SM8QxGLheK1lvec83FFx177JqeqPi\\u002f6wZSSscLLMujFKsqjWQslIyJUCDRkk87obQ8nzFGqUIoAoJZGAIAY1xyAYzxUDDE7cZErFqpVFrco1NdB8mE62JTjUxijVpd8fGLzjsPgPWP9NVqlUu11N5B5nI1l8k6ngtCxpMJHrJ0NtPfdzDbkstlsq7v6aq2feeOA737MQtp8Piq8eAeFjJd0xRKA8+nlI5ZAlCkpwgAkEA5UDFmMxizh0G0GMKYKlg3VMZYpVryfV9VqUYVECEPma7rtFKplMtlxpiiKJHyQykNw1BRtGgOiSSHENKcXmB8zTP5b5M+fvtxNgmqqiKEDMOoVCqKomQyGd4UnZnS\\u002fZ\\u002f9kgCnblrS21u4+qd3\\u002fPq6B5o1vi5+6TEwOxPFbHjgaZgxnp3I5Y9+5jpFIQ8\\u002f2veyy78dMXheWKs5H\\u002f3M7w1DXb2i602XnbJiWScALOyZI10nplHBWUrXWtvjmOCRQqFcqSq6oSia4ziEEhCSS8mFZNy3\\u002fDGTFAC4vgWI+3ZDBL5h6gBIOBaO6bG4sXv3TgAAoNl4\\u002foG7HvnzDbcm2hb7oFZGRyVGFOH+fu40LJ+FPAgd36sUS\\u002f1Dg3HDJKoyp7Orq7197fKJKNt0vtVpZDzPU2Oq53nj5rXxBQ8AAEKcw\\u002fjKAqNIFyMAwCRXCU2YMREGlWKBB76hapRgz67M6ep6+ctfTsvlcq1WE0Louh4EAQAQgqM1PSFE18eMMJFcTRaMyX8nHzQ\\u002fNhkUSkGApmmVSgUhmcvlohVzE9PT\\u002fSe3Ho7n2SkJMBsTxWx44GmYMZ6FyOVq3Tnj1GXHrJtbr3tNhtFCY7RQ37BuXntbauH8fEturF8ue\\u002fkFTZ7J+MTnvlK1bCaYRERRVRAShAQuJBF40mDx4IP3S\\u002ffPp51yConHAISwqzhmgNdQMUjBIeSCcVNPtaY757TPK4dciKBQqSIEhFAAqWm6inFISEc+P697zjHr16XTmWQyoaoaMJZv7W\\u002feKOTQcMJ6w4rH4wg3p+VJM4\\u002fESAgECAEgAhgAYYwBAZY8BM5DheIgDFkYKoqiqWoQuMuXL9E10tWdp\\u002fV63XXdaFkSqWQAgBCKDCOR5CCEIssyY4fo003ZkJOcSk2ZmeBBQghGCXVdNwiCdauXnnHKuiZDhKO2JMCRTRTPjhnjCJUNZ1OqfDaRy+mkeenFU8Vy85aDt9y547JLTmiu0yLs2DUUmQ1aW1MdbammjmrGYlt27o7H43Pnzi0UCghJjAEQRhKwMuZ6B4BiqXD11T\\u002f4\\u002fve++frLX3Pi8RuSmZRXGtBzOc4ct14HIbGaEI6fSeTXrTymr9LAui4lUhQCgBkLKFUZCwCwohBNMzCGarVer1bqdSvw\\u002fHLpYM+GsRuNlipOEJNYcQOOEBrX0yZeTgwMMYFRgAEhgjEgRAAjBAhJIQKfUUxACoUQVdcE4yD5uvWrdmx\\u002fbMfOx6nv+wAgpYzWNkIIzjmlFGMcSU40kU1ITlM4ZjHnSMklAOdcMIGASynr9bo5ER7xzONXv\\u002f\\u002fTgb6DjHPDMDjngnOqKK7rSikTiYSUMhyv74GkRBKWL1v0knOPlMF2OBPFs2nGwIepbDibUuUA0NGRasnGb759+0nHL26+5YyJ6\\u002f74UD4fX7H8SPPVjPjC1\\u002f66eUu\\u002fECJmatd8942L5o+tSBGmixcvdQN\\u002f\\u002f8F+BROEJAKIolG4nNDPhcRz5\\u002fbs7901PDz4k2uuPvsFZ\\u002fAwWKktD33Ls2u14eFU13xsmHHNLA2PckDFciWyDhuGgRAql8v1et33fdd1hRCapu3fvz+KsUyn06ecnm7eiAsZckZVTdf1Wq02NttAc6kDREjMGZICABBCzVhsANA0hTEmFSqlNAyDYuKJMBYzFi9aCODlWjJUCKGqaiQVlFLGGOc8sspHlmyEEMixxQ\\u002fnnMywTAV5JAuBDMNQhCAEUIXUajUjn262\\u002fuDH14wUilLindt3n37qGa+45FVh4AAgAYhx4YfMD0KfcymErmue7\\u002fiOq6lEUXCtXMq3ZG+8+eZKtdbWln\\u002fTZa+OLjg0Mryv70AQBJF6SSltaWmxbTuq\\u002fyalZIyBkACAJCAh+\\u002foOBJ530UXnNx9pOmY0UTzLZowZKxvOplQ5ACTj5vU\\u002ff+e\\u002ffOzXH\\u002f7U7154xsoVyzq27xz8+83bXMf\\u002f48\\u002ffbZoTs8EURNk+sWkMn\\u002fnohYVi43Nf+cvpJy9tig0AtKRTfhDmspmu9rzv+yjSX0BiCblWXcfHRmzdHatKQzFVTRRLtZZcHlPjb3+94e677zONmEBw9333zJtXWrrm2Na2fDxuFkeLhcGheq1eKBYQQslEwvM8VdPyrXkIcb1mOa6TS8RP27RpztxuwzBU82DzRj3diyiLEUwNQ2\\u002fNppsCAwDVWr1aq2EsEUgkEYyN9QLGdQQhSCQUUkohhO\\u002f7jLF58+fOW7Ag15IIggCdeuYZkVRgjHVd9zyPc5nNZilVTdNcvHgxQkgKiJJLfd+nGDmO02g0XNcNGI\\u002feRc55tGF1o26rqkpURUqp67oXuAI4kwAMI0QxUo899tgFczvPOeu46Av84ne\\u002fGxgcfvSRxxGQ9777\\u002fQ8\\u002f9KDkgetaddvxAyYRIkThCIOUtXpdU1VMkGCBaWhh6J9\\u002f3vm9vfv29e5vb2+98vWvjS74y+v+2Nff7\\u002fuBBAkAuq53dna6jjM0PKxHZeojsYmkXQJIiTEkY7GWlpxtNwgGSpFhGueff1F0wSb++o\\u002fHf3P9A4pKCQJCyfvf9qIF88cG9cPxvPGyk+97YN\\u002fFF2zItyQAgDH26\\u002f9+aMnC1ukZ1LPENb+46+qf3qFryuRS5dnx0C8hxL0P9t5w85at2wdee+mJZ560rBmY\\u002fP8xHf\\u002fx+S\\u002fWajXEGQgeiYcQIqprI2UUhBlijBkLoyhnjPFJJx\\u002f\\u002f6kvOVzVUKlXQiaeeQimNrM\\u002fRCaqqq6oKgJctWxaZqnvmzlNVtVKpqKpaGBn2PM913TAMmZCRXDLGiKK6rsuZNAwDKzTynCICiIDjewkjE4aiUbc3bjz+1JM2Hrdu8dTv8f8xO0T5OTNWNgSIvNKAp5UqP9rwlLOMohIohUJD145UcB3GOY9QLOV73\\u002ftBX1+fpqiR2PAxhE35YVFCtOSJRCIMQ0VRNp143AvPPKm1o3Wof4BGWh0AROdHB1LKeDw2LkgqQigMw4ghao1wyIPMAgghQpAy485azzWeQl8ODVcHh6pTqQAAkEqb7fnklCH\\u002fCftyNpjRjNEExmOGkumlyo8ePOUso3se2PvN7980NFJjXFiWn83EDpdlNJtiKUIwyZnHhZAIpORCSCG4FCCkAGloupA+Z4EXhIR4VFEoVT03GC2UWzu647E0RQhFwhPNVtHMAwDZbFYIQSlNJBIA4Pt+NL1EbJNlp3mFmYEkxkgCB5AYY03TRLQtwtGEp9aXP7j29j\\u002f+9dGZLGfS0NVLX3HCO644o0maTV828aOf3bFkccfJxy+a2nAoKlX7w5++7uKXbnjhGSumtgEAwOZt\\u002fWtXzBDt9hziKWcZlcrWRz\\u002fz+\\u002fk9LZ\\u002f+1wtyuUTIGEYoyjKaPy9\\u002f1mnjpaJmXyyFsyAICNUlAgQIEYIxwYgiCRIBxgQToRmUgeACFEJdL9izd7+u0lQiGY\\u002fHaWR0hnHjGBoPHUilUp7nUUpjsRhnY3tTR\\u002fNZU3ggiv95IkTSiBCKHERcHilU5NnHU+7Lt77h9IvOO2a6n+Sm27Zffe3tL3gKfTmOSy\\u002fedORbRxgYqvbuL+QOv3HIzp2DR5XkPJ0sox\\u002f\\u002f\\u002fK5M2vzaf766uXc0AKxe2R039W\\u002f\\u002f8JbjN86PmzoAWJ73lvdeu2Zl93e\\u002fennEExVLufK917zlvdf+8idvae7KZjue7XqEIIkJQgjjsdh\\u002fhBACGYYhlxCPJ4AqjDGJaLVRHR4dyWcT5XK5tbV9Ys6JDiilmqbpuh45RimllNLAdyOBCYJgsuTI8bOiKxwOGGMpJUKYUKTrOpu0c9tzjqfTl6355PTYfscJ3v9vvz77zFXNAM3Z92UTuj4rRU4eIZ4NAACCcIYJEcbNR1M0nCmYDc+Tgnh6WUauG2jaDIp+MmUwJljAwAQAuPXWnZbtf\\u002fj9L5nC9tH3v+T17\\u002fjRrbfuPO+ctRGlZrnFioWwhxDBGEcTxpj84LGMZkXlIeNCSCyBC8mE8MLA81zN0CZ+l6bYmKYZj8f5uFcnDMMwDAFAStmceSLhmXxu83g6IsmJDnRDnRx608SUC86I2fA8KRy5L2+8ddtooT6ZPhvcdPv24ZHaO99yZpNyhL60bO\\u002fWW6N4k6cC09A2bVwYix\\u002fWQaapU980P2DX\\u002fPLu\\u002f\\u002fjSn\\u002f79i3+654G9M\\u002f6eU3hcL3hkc5\\u002fnjfnBhBDbdgxGv8x9D+379y\\u002f+6QfX3LZl+8Ahl5gJUZZRR0dm+gKvmWU0hT4ZLzprVV9\\u002f+dY7d3mTKu7v7yv+6e+bN21ckByv9XFwoMIYTyWmuoaTSZMxcXCg0qQIUDiiAZMB437I\\u002fJB5QeiFzAuZFzA\\u002flLbrF8vVYrnasH3HC6iq9\\u002fTMDwLPsuuAJQUAKWUkc5Mlx\\u002fO8KC3B87zIJMcYi7JJxfg6B+RYOXbUTOWeCQghKXhU203TNDFpHxuYlg32PMoYmw7PC7519c2nnrhkcnjR7PvyyWLh\\u002fPw3\\u002fvM1U6mT0DEplR9myiB6HmUZHXfs\\u002fEsu2PjZL\\u002f\\u002f5l9fdn2+JaZpaqtjbdwx2d2YmB15t3TnQ3ZmJxaf6oGJxtbszs3XHJAmnGlF1zACQiN5hjDFCEhCSSAoJApAXhGHIEFEbtoMQSqY7fb\\u002fiOBaAoFIiwBgAI4QJURRF0zRN04wgCCIHiO\\u002f7nAtKKQBwzmE8dECgsaA5AJjsB51MBwAkgWDEAQAJIBhRJCatc6b30\\u002fOoL6fjvod6D\\u002fSVvvCpiycTn0RfPtNYOC\\u002ffPJ4xg+h5lGUEAO952wv8kP34Z3dE5mJFwSuWdX7jC6+OBlAAsDyvWGxs2rho+lCoUnrChgV3P7DX8rxIPXY9u1GrG5oKMLbJRqQ6RX9N06SUIikw1hSFVCr1IAhct61WHBwcyvtWlTIuCcG6qtdqtdZYQtUMw4y7nt\\u002fe2oYxBokQYAzCbjRc10VSumEgQSJKEJNhGAIe0\\u002fFKpQpgTFRFgAw5AwABEkIe+KGmaX7gx1NaIh4HEpTLY6PsjP30\\u002fOrLyQgY+8b3b1q\\u002fZu7aSUHTT6ovn1n88Ge3nz++eDtcBtHzKMsIAL78zRt+e\\u002f2Dr7zouBecvtww1Ue3HPzjnx995Ru\\u002fN1HDjUG15vrhzKG3fsiqNQfGbxLXaTqhguCAojU7yMhOJgEA+W4oECAhJUZSBOlUzDBabKvat39PaXjviiULMVYURVEt1820tCCE0+mMlGCaY1pjpJU11bOxGzSP8ZhRrrn+mBaEgxWgSCCKFdfzYskYlzIIQzi0L9tak6ap6roa9aVhqHfdu\\u002fsIPN\\u002f64mUIoce29jdvU6naA0PVX\\u002f3wrceu6zFN3TTV2dim5NPuy8l4\\u002fPH+rdsH3\\u002fmW8eyQCE+mL58C9vaOvu7tP7zrvr2TieWK\\u002fbLXfrNa85rxbFEG0SknLp3ys0RZRiedsPgIPPToyDL6+FXX\\u002f\\u002fUfj\\u002f3td+\\u002f51EcuOHnTkmPXznvTa0657tp3nLBx4YWXfatedwAAMKTThqbOfB1dVdJJcyzJAMA0tERc0xSsKSj6p479I6qCOWdYSkqJRqmUwrIaAwMDe\\u002fbsOdC7\\u002f47bNn\\u002f605\\u002fGmqZFS5dYLJZKpXRdVxQlCq2DcamYYoyODmDcsCal5Id30WCkIqEQorl20JLr9APheAEcvp+eR305BV\\u002f+1g0rl3duOKbnEOqT6cungIXzWy8675gPfOxXn\\u002fjc9Y8+3rdj99Avr7vvsiuvTsSM90xSemeTQTQbHngmsoymNoxnGc2fpFtOwb4DhTvu3vXet78wl01MplOK333lCyTI\\u002f\\u002f7zowAQN\\u002fVcJn73\\u002fXuCQ4P6ASBg7K7797Tk4k2jtmEa8Xg8lkyY8XgskYglEvF4MpFIJRKJeDx+7Ib1PfPm6LrOOacIJ8xYJplMJ5JLlixZsCBXqzUopdSyrFgsxjlvbW0NwzCZTBJCoiVXU2wmC09EBACEMEJITMs+mARMkQISU4Sk8LLZvGOHXhDC7PppNjzwTPTlU8sYm4zNWw4+8ljfd7\\u002f62inP0OzLt11x+pSm6X351DB9p94onm3ycDObDKLZ8MBzlGU0OFSTQs7tbpnaAJCI69mUuf9gUQiBMV61vPsXv7vXtgI1fcivbVvB4FD19JOWNSkIAUIkFotBVLsQAMaqFAAA7Nu3L5fLLVmyJAzDYrEY7VSQMONmV2rl0sWMMRq99IqiqKpK6dhGVACAxwt2ch4V3xkr4hFROOcYY0LGpCsyW88IhIgUCCSJxVKGmew7eBCYhNn102x44Dnqyyn47o9u7ZmbO\\u002f7YGWICZt+XTxmHS8tr4sgZRM+LLCOqkBm8OQAYg6rSZtLNnK4Mpbhed6a8D7WGSymZHLfu+YHjutGulZHAyEm2K1VVy+Vyo9HI5\\u002fNLly1GCI2OjhaG+jMxM59NIIRwEASpVEpRlGw2a9u2aZqMsUgNg\\u002fE5Z7LYNLU1KSVCKBKwI0hO9ExCyLa2NglopFgARGBSX049AQAAGBPwRDzPbF9OaZpNXzaxp3f09rt3veOKM5tGnslo9uUU+vS+fDqI4tk2bVw4XWxgUpZRsVyfTN++c\\u002fCSN3yn90DhCDzNLKPJxKcAjPHrXr1p89aDN9y4bTI9yjJ6wRnLJ2cZ\\u002ff3mLTfdvr33QDGiLJrXQhC6+Y4dE6eNY\\u002ffeQt9AefWK7khLOv30pfGYftVX\\u002fjyF7fNf+XM8pp1++kSudeAHnufX6la9Xm80GtHf6CDK\\u002f6GUEkJKpdL27dt7e3sNw1i\\u002ffr3nBeVSfXSkPFbjM5FIGIbB\\u002fCCyPuPxMITmDBNJTiQwkThN4RnbAHUaQskIUULJWjvbgsAvl4vduQT8r8gYa+Kb37+5vS111qkT4TaTcfrpS7\\u002f3k9uu+sqfv\\u002fdfr5tMn96XU3Ddb37TPzAgJBJSCglSgpAgMRKAkIRoi+PoP0BIChnZUzGmBGEgCANCCDpbW15z6cVwmAyi50uWUXt7+rOfeNkHP\\u002f7bHbtHXnHhhtaWRBAwjND1f3n49rt3X\\u002fSSYy58ybro3Liuf\\u002f+\\u002fLn\\u002fZ5d++4t0\\u002fed0rT2xvTw2O1H76q7u37Ri87tq3T7ZhRq8x56ypoY0dICGlRD7YDUsIgRAiBGma1qhVBwnuzGdC38aEUoyxoihtbW2u68ZisSAIMpkM5zyac6LLTUaTAuOWbymlEGLGVa5EwIBLQkIWprMpjzm2U6PjyXEz9tPzpS+bTb0HijfeuvVTH77gcClis+\\u002fL635\\u002fPQJ42csujD5WS6XiaIEJISXiUgiJpJSO50uEp3QHAATBWEEwPBZFgqOhzXMazetPL4Ty7BdLecJVmRBCU9UVy7q2bh9Yvqwj8JgapwCw8Zj53\\u002fzSpZ+46g+fvOp6KWTD9rOZmO3477jijMsuOWQ52tGe\\u002fvrnX\\u002f2lb\\u002f79k5\\u002f\\u002fA6WEcZFviX\\u002ftC5dOCRFECEmMEMIIJBq3r0opATBgoZDmZgVMSuk4jt1oCBba1bJgXi6Xp7lcLhaLRXVxo4QCz\\u002fPS6XToB0IIxlgYhkEQhFFpXCEECEJIvV7XNC1a\\u002f9RqtUQigYgCAM1OHXs6LAEjxSSUKLGkdt+DD7DA9lxr\\u002fOFn6KfnUV9G2LF7+FUvO+78c9c1KdMxy7482NeP8fhPByAAEEKU0ig7HhBBCGnqRGJI8wAAisVIsREQVWrmIAAk4A0b1jV5YKZCKJNbD8fz7BRLiYDH90fA07KMVi3v\\u002ftWPr9x\\u002foFQo1nX1SPk5G4+Z\\u002f9PvX7H\\u002fQLG\\u002fv9LdnZ3Xk5vBeoQpwYqUUuJok3UAGMtgBSCu6xiGYdWrmUymVCpRihVCOcYBC3nIS5UauuTyNySTSdM0NU0zVI1SqiiKaZqhH4Rh6Lqu67q+6wZBwBiTUnIQnudxzimlqqZblhWGoaZpTcmZ9GggEXAkBJFze+avXLvypptuqhVL733jFaccf8iKfG\\u002fv6JH7EqbxiPG9EiJM+fgU8JQzxqLl9WTK4RAwduS+\\u002fMa3fyBZ+O53vz36+J1vffvggQMSIUQoQggQQRI4CwAEQUgARH8xgEACCSkQYAkCCSwhOl659phXv3osz\\u002fz\\u002fYwre9+GPF0qlaGbGgJoxONGqo1wqaJrmOVYqlfA8zzRNEJISZNXqCiWaptGoCmgUdQMSouNoMokMA5NXOFJKCTIMw1gsFpXJdRwn2j8RIs1hUmERAJAgAhFyxrvndLquUy2Vjl+\\u002fZorYwLSiNjPiOSl80wTGY3eYnjE2S7EBAJXSJQvblyw8rL1ucKSQz02ooAHjXsAQwYgBYISQQFISKQAJCRIQCAmAkZQQZdhHsYMIokYACbVSoXm1Zw2\\u002f+sVvhvoP6AryGkUs3YVzOzry8dZMDEQgpPBDwbjwQ+lz5ISy0vBGK41K3StW6wIoVXRVMxHCvh8KxhEhZiw5Z27P4sWLy5XKQw8+yAVvybW4ngsAgR9IkLqmE0I45xIkwShgYaTySBnpXmPHUkZTOEIIEKBavTFSKCCEVJVKJAEhjBWCAWMcpQ90dXVhjHmYwhhihqlqtFGrU6rE43FD1xFCNPLkKIqiKIoIGUIIY+z7PgvDGYWHy4nyn7ZtSzmx4RTMIDmS+SyZSbZkc3t79wWePzj0T+zL++6\\u002f\\u002fw\\u002f\\u002f8xcATCgBiJZTAgFCKCpFJwFhjujqNWvr9Xp\\u002f\\u002f0GMIPpmhGCCsZQSR4s4kJ1t7W96w2XRZb\\u002f65a+Vy9VEMp5ryeVymQsvvCCi33j7HYCVZCaTb20rFct+yExN7+\\u002fbNzDYv2jhEokRpmoQhOlUctPqJdEp927dU2s4gCQar44HEhuGqRJ8x+23PfTI4xdfdF7ECQBhGPoBA4ww5gghhDAAqIRgAQJJiLQ1LgHGVrGRxoEQAAIEkQxN4L\\u002f\\u002f+zq7XvF9V3CWa2k558XntuTbgsAHoIpqVusOABYAfhgQgoIgIJiWSoVMJq0oKiEk9L0gCLLZXKlU9H332muuJYRIzlkoAFBnZ8eb3vS66EY7d+3Yt2trV1umVhpoTWksr9ql6lCVmxpWVcoEt73Q9bnEFGNdl8IQth1aTnGw7gQNJ+SCYqoRqmJMAVHVSNx5z\\u002f2tra1nnXXW+mM33nLLLQ88+I\\u002fOzk5VVaN1BOc8Gu4RQlJKAWNO+bGBfnwpyMed9WM\\u002fe\\u002fMAI4SQxECIRJJEEZ9RK8ZgxE0hBDYkxjjwfF1RlVjcNIwgCKhhGEEQ4GhQxRghxDkPw7ApOZHwRJIDAEIIRVGi6Gnbtg3DEEKkU6lkKoMwjIXOTYIfhPMWzG9N5Paz3mULlnS3TQRQ3nvHPaVSccXKVXPmzWFCNuyGF4aAiOTAeXRXHu0XAsAx4CDwCaGxmM5CZpgxKeUtt9ycScbPP+\\u002f86IIPP7KZ8VBwhBmmmAIAIAAEUQhq9ENRlSAABBIBIMAIOAaJEOJBCCCEjKSfcz5hZxeuXxwcdGrmcH\\u002f\\u002fvIXzmnQzES9bdkbTB4qFcqnmBqEIQ+E6tWp1cHDIY8LymBeE3V3tTcnZsbdvYLiEsMTj1YISyQzGeP7cOVo8tWvP3qgQSgTGRTC2DZGQCEV6BIYoLh3D+I8dSRSL1rgT5V0EAIS8+RFKw8PV8nChOJxNp9IJ5c5bbnjZqy7Vda1cqnnluqLqRixZrTfi6VTdatQtxzRNy3NFDfEwKluJ4\\u002fH48MhIMpksFEbn9vT87W9\\u002fy2fzfsMBIckkGcVEECpq9XJ7e+uapT0taQMHNsVc0zTXayQzKY4sxmwOTFGEqhAVjIROdSJHio2+oWKxYgsWKmZCUVSBcLVabWtrsyzr97\\u002f\\u002f\\u002fXHHHXfGGWcsXrz4oYceikL4CSGRyhNVkFJVdcaIEJgkMBBNReN\\u002ffS8EAhRjQpBCKBXjShsISrFCDB4yJlgQBBgk42HIgpAFCCGqjNV4B855NO76vh8EAZ8QnEOcOVJKRVFc10UIRc+aTCS+8p9XNR\\u002frcDh947oplBNOmTCJUABdy05qnBUuv\\u002fQQJf5tV7558sdnCv\\u002fysQ9NJQEAwInr108lHYo7HtjqcZZOjpm2AaCzvU3TTQCBkYyUKy5wGIaqglevWrVp0wnJxARza1trEHJAgBCKBjUERCFkTCsbGxqjD9HgGr2\\u002fEyKUbZmIZ8nnsyrlqkqWL1uSy+eWLV0uGAMM6Xiit9L\\u002ft7\\u002f9bdfuXkmQH4qGXRdMJhIxz\\u002fcAwHddz\\u002fMwxuVyOZfJCCmPWbd2\\u002ffr1Cxcu7Nt7IBNLYo6MSYUI04lYS0uG+Q3doPFUMpWOaRC3KiWJaDyWNkyTS8Z5GAQMuEcB61giVdKWhKkqGAQBVHM5Au45lu2zVK6zv78\\u002fk8kkk8l77rnn4MGDGzZsOPvsszdv3tzX1xe59uPxOEIoSmGOMo5lc0ofPybje01HAhP9FSAF51IiwEIILBgPCSiAERZxMxblHGACjuuHYbB86VIA2Lx5c6VS0TSNIoRUVWWMBUEQ0w0ppeu60XA\\u002fWU+LAGMaPxZC2LataRrGOJ1Ojf9oRxGeQkWOCNE6fjbVVSaDzbSH8ykbV07+CABnHzeVMhmn\\u002ffDrkz++8fWXT\\u002f74NHHBxVNNBY4X\\u002fV+2tXddcsklhzY+MTYdt\\u002fHTn\\u002fqsPVpDIJpWXQAA4EiG8YRhWfW+vv2Et83vbBcShQxiqbjneVJKVVURCBEKHvqKlIAxNRWNJkBiKYhSdVyGmTNmo5rTPbdarY7URtPp9Mjw6D9uuHHVqlVrVq\\u002fNt7Tu3bt3dHS0WqnFYjFV0ThnaNznMVl4AICQsQ0L5KQIZgSAMRIIBEgkpZBSggTBERbValVRCPdVM6YDQDadPu+881SV7t+\\u002ff\\u002fPmzY1Gg2IJiBIehFJwPJ6+Fs0nTUS3AQAuJUVUAiBMGpbd1tbGQSIy1Ub0nOOpVeSAJ1NdZTIOt4fzPxXP5tAw47gAAH7gtbRkZchik3atIRgjSjzPwYIdHByplsuGZpqxDMWkYllBUFOoIAhUQrkMkJBISoxBIkIVNRVC0nIdTkiIJGUcGW7I+\\u002fv7E7FYPpeVgplxQ0p5\\u002f733VKrlY4\\u002fZMKdn3oMPPtjb26toKkG4WCpkWzLRYyA0VosmOsAYS4kisUEIAUgpBQYAghASAEgiERkVOADmEL32IggxQq5lxXV18aJ5pql\\u002f\\u002fGMf+u53k1u3bqUIJA+CdCqJMa5UKkKImGmEYViu1wBASkkolkA4iDAIORNO6AshBIdUJhcwQRAGPHP0wHOFp1yRY\\u002fbVVSajUnUuu\\u002fJqzrhyxIs\\u002fs3g2h4ZPXvWHu+7f\\u002ffufvT0ZnxoZuHLl6rtuuTllmro\\u002foa1ZjlutWApBLbmcZOzAUNG67cFj162dO2cOwlTDbGRwr6rgzvZWqaCK53DJgWpB4IKCjbguAAqlIiMxaiQkEcl4ulSqWPW6irhCUaNQFAgnE4nePburtfqSFatXrl\\u002ffMWfu45sfGR4d0Q29Xq\\u002fHYjFVVYUQQgBjoRBCURTfD6McGIQQAMIIY0IAIOQhAskhlEIwKTGAFIAkVoBiqlKMnLonBFs0r0dBHEjY3hL\\u002f0Pvf6jgOJYQQQoQQnPNoRvN9n3MeySuMq4YRBIjIUySRAIQAk7HV91GDp1ORY5bVVabgPR\\u002f+RTKuB8HUyLd\\u002fHp61ocHzgivefc3d9+2dP68Fz9TRnXPm1BuNrvb85KjcRCKpG3HOguGRStw08h1zfMu57e4HFy+sbtq4iiJP1eN+4BarDYWCouqChfWGI7GGiXQ9z\\u002fU9DlJKybkkisqlMAxNYhb4DnihgiWmKgERBl6hOGo9\\u002fODw6MjixYtPO+OM\\u002fXt3bd78iK7rjUZD13XDMKSUhmEQQqrVqkJVQBCZ0qLnRAgBjJniInECACElRggkBkIFByFBMgGcKQqRIgAvVHWMsKIpBo5cn2EYRiFuCCHXdb1J28CPycx4xJocmwEJQgQhhBCaUXiic6dSD8VseJ4UxNOryPHE1VWm4ee\\u002fve+e+\\u002fd+\\u002fEPnj1nu\\u002fvmIhoZ\\u002f++CLP\\u002fORC9atnrt0cfulFx\\u002f342++ceee4a9+54ap3IeiOTScctKSFcs61q6as3pl97\\u002f\\u002f20UXnrv+2z+8xRpf90ToPVC8+HXfaVjem157chQUPx1IkBNPOOnhhx8lkzT2RsPCmGKiACYB47bj+SHzAjY4Wti8dUfF9tVYKtvSAURvOKHDEFZiVIsTamCqBUz6ASNYkRIFQUAxkiI0dcU0VMndwHdAMoIED924qemqUquUHrz\\u002fvjtuu3V4sH9ud9dZZ5zJOe\\u002fo6NA0zbIsSjFjQb1ez2Qy0fqcEIQx4IkAJYoxQRC9zGNxmONvNTDGuBQBZwFnhqlzwfzQDQM\\u002fCHkoJCaEUEo559HyBgA8z5ssOU07Aec8kiOAyNqNMZ6Q4Cb+11dXaWJP7+inPnf9pz5yYXfnmG49Bc\\u002froeH2u3ddctHGX\\u002f\\u002foSjrDGWPo3bf\\u002fhBM2tbd2GNpEULkUQKmKEIknUoiolWrD5yLX1omw+vjWnTv39VkhTrXMybXNkyRed4UvlFgyL5AmgXo+ZwwIUaSULAgpRhgYQqGiiGRM1XXEQte2qrZVs60qBpZvybW2ZMujI3fdeceuHdtMXX3ZhRcFQVAul\\u002fWxIuk8Ho83Go3m6xodNIEQmSw8GJOoiJSUMuRj1XExRpqhNux6EASe70fmZioBCQlcRHtriZBFBaaElBJFrqXxJi6kiEJQxutTRdPOpF9yhmobz6OKHLOsrhLBcYI3vePHm45b+JpXHL95y8HJTU385Jd3HeyvHD3Fel501qq\\u002f3bzl1jt3nXn6Ml0dW5lEQ8MpJyyeMjS88qINMyZNTEbfgb7927edeMJJO\\u002ffuahI5h6GRoqYpmqYSolA9FvKwXGsQhBFSeg8WG64HxMy3ZJRY3gnLVYtxbpXKdUScoZFqreGEDAmBpUQEAxUs9B1VxZlsQgR0dGSoYXlAVKwl6uWikeCJTIuhqlatunfHrmq5tHz1mjPOOG3Xrl2PPvqorpvxeNyyLCHEmPdlzIsmYNzNhxACIERKQIgjJKVESCJAgkejnsCUEIQZC\\u002fr69nd2tWazWYQoQmgssy2SxSiyMxKG5mAZDZwRQsEJUIzH+CMfXBMzVtt4flXkeMLqKk187qt\\u002frtSc6z\\u002f\\u002frin0ydjXW9y7f\\u002fR5OjRM\\u002f8rTkW9p+ct1tydMI5mYMO5hqpqxRKVS0UOuahSEZEEghFCpoqs4FGx4x8Gh0dqyxYvyLVmpJgtDwwcOHHBdnwnUsMOGGzJJBVYpxiBDBCFnNtL0dMrQsQHcAyhzUHzBBYd6tRIEgWEYhq4SKSql0gP33bdw6ZK1a9f29PTcddc91WrVMGKu62qaBgBoPOuzOeIToGIsUBkhAEAcYyIFksCBYIkRAQQChguj9fsLJxx\\u002fLAaIQtVoEARSysg2YFlWEASUUhntMxOZ7iYhuquUMlrnRJNaZEo4XOWU\\u002f23VVQBg1ns4f+wD5wOI5+nQMBsgJJPJ5D133\\u002feil0yYXizLtWwfYZVxFNh+GIYUE03TA8HrVSsZN+o2qzlly9\\u002fd3dmRz2WrLhqtuIKD63oMCGAFOJJSYoR838UkVKhQEKeYZzPJmD4nnUzUbH\\u002f3gRHdTBLFYEIGnqspCgIIGVMM\\u002fd6779m3Z+8LX\\u002fjCi1920c0337x16\\u002fbOzk7fDwFARhu4SyQBEBISYYQULGW0IQwCBJJIhDEGiMLTEZIAfhjs7d1XKBzIZROVwoihqWZMp9EyhlJKKQ3DkDGmKErTtibHMXYskCAyUnsRQpNVtcPtz6w+f\\u002fZw\\u002fvhV199z356\\u002f\\u002fe49zTIRx66d97pXnvTJz11\\u002f4WXf+v21b4v0mdnv4RwVuX0+Dg2zBCJywYIFhqYrqtYk6oZZqlQ7OjoadoOFQtNMQojruVJKVTEsl6mxDJJyqGBV6vsX9AjT0LV4HrjwRE1FmFDdsl0hBAgeBK5hYlXBlEjBfV1T85lMLJYYHq1iLV5u+KWq7flcVTUKgEAyFlbLFUJIoVD44x\\u002f\\u002fuH79+jPOOGPJkmX\\u002f+Mc\\u002fFGXsCSPJQU1vDxkTD4QQAgLAZRRpTglIBEgIgf0g6B8c3LVz2wnHrW8UFEPXTF2jgGk8lgiCwLYdAdiIJSzLqtUaLS0ttVrN9wMppW3b9XrdMIy2tjaJcBCMB4Z6gW3bHe1tMLtqG7PhgeeoIkdUXeUD73rRjNVVLn3L9\\u002f\\u002f7z4++7tUnwpPZw3nyRZ5HQ8PssXDBvI5Ua0db54GBA01itdFoaW1zPB9RqhEqpQwZB6wggECIIOAoFBSDosQFQn0DRYIRQiiTSpoS12uW5VhASBTBGacGIoGhmeXCcEIjtLtL19U5yS7NTAw9tMXUNZFSqvUGC7kUgioUY1zzg0TKoJTatn3fPfcM9vevWrXqda99zT9uuMn3\\u002fXrdCsJQVVUUBfhSLARTFEXTDIREwFkQeFEamqJoLBCIEMZlIpUuFA6c99ILw5DbnqujOFEQJYREwWlSSoRQdKCqqmVZmqZpmua6LmMslUoBQLVaJ4qKMaZ0bJtEQsaMBLOptjEbHniOKnLMsrpK3fJmv4fz4XCUDw2zR61esxtuw3H9cMJoGY8n2PCoAACJuZQACIGUSIKQEiGEFYlBIswRRhICgYkEhFDDCbmkqhlHlIbhWKYAxtgPAgyIIhyGTEqp63oQMM\\u002fzGo2GZhJVUzVNY4HjOzbDIEDGkhnHcSilmqYxJg4ePBgEQaVSOf\\u002f88x966KHe3gOu6\\u002fq+jxDSNM33g5BzxhgJJWDgwKObEkIZEyEXggskZej5tuNzCfVaY\\u002f7CuSlNIQTRhu1omoYQ9oLQdj3OOcaYqloYhjxkQRBEd8IYa5qmKIrnBYJLhaqaqkfbHkrZBf9nqqs8qT2cD4ejeWiYYic4MjBFI+XRYrHc1jYRWqpoashZZD2SIEFIEACAACREWzUjkAASUCiBMUkQQlIw5mmapuqmoiiua\\u002fu+L5EELEFizqSqmr4Xel4gJSqMlgb6hzmXRFEMM4GwigEFrid4KIVwHIfqGiEkMncBwPDw8OjoaKPRWL9+fWdn50MPPVQqVQCAMZZMJqt1S4BgnEkh5JjNGgGAqpuUsDBwdC0euAwkjifSVml4eKigdeTb2towQiiq9+G6bjT\\u002fRCsf0zRt265Wq0KIaIZRFKW9vb29rSOXy4VhODIyomna6tWrW1vzcPjKKf\\u002f7qqs8ZTyzQ8OUpmdqaHhS2H\\u002fgYN9A\\u002f3BhlBoT6xzbdYlCBUgx6YrRHAJCEkIwRhhjDlIIYEL6IfcD7oU8CDmXgKmqGrpuaBgD51xVDYxVheq+z+s1u1a19u4\\u002fsHv3HoQw5zIMOABommbEDc3QKaWOY0U6VJQIE4vFCCGWZT300EO\\u002f+93varXaWWedtWzZMgAQQjQadVWlCkWEIEKQSjGhSAgWhiGllGo6IlTRTESoRIqqx12P3ffgo\\u002fv7hwXSaT6f37FjB+c8nU5ns9ne3l4ppWmaUspoytN1HSEUTXBBEBxzzLF33nmn53mrV69OpTK7du3y3DG9ZcZqG8+Xihyzr67yFHA0FOtpDg0rlk21fUdDw8tfuuHJDg3FUrlUr0op8STDoO3YzWMpJUgJUiIAJMY2gSZICi6RkEJIIYQUCCRXqRowJl2ha4pCKYAWCj\\u002f0OEWqYAgQYiFq2GGhUBkZLhUL1UxbrFarB9JiHKkK0VUFKUoQBLFYrNFoIIRSqZSmar7rAUA2nbJt17Wdm268cc2aNRs3bmzN5+65555ava6ZBuehQDyqZiMxhCCDkLmujxDyPU6x7wWcCxQGULf80arbe7ComvsoABBCcrlcS0uLaZq7d+82TbOrq2vv3r1R9oHjOABju7oPDw9X5lY2bNhgWVZvb++ePftUVY3FJzSE6dU2nkcVOWZfXWUK2vLJc1+wqvn8TRw4WPJ89r94aGjr7D44NFJr1IdGhpvEWDxe3rU7GY\\u002fLKIxfAgAgISM7cCQ0QkIUudyULIRIwHzGJBehoVOCZRTdErpMcMEZ0xVNcFQs1\\u002fyAE1VDhIZMOH7ABVAcp6qGCAnDECNsAgrD0LZtz\\u002fWjNbnnefF43HEczvnjjz9eKBSOP\\u002f74F7\\u002f4xY88+mjfwf2BCAMWEEERBoJVhBDGWAhBiaJQlXGpUCOWzEjAmOhLVqzXdO3gaJ0ODQ1lMpnu7u5arYYQSqfTyWTSdV3btjkfmwoVRYkUR9\\u002f3M5nM8PDw\\u002fv19hUIBIUQIOWbNiuavBjNVTpncejie5111lclob0v9+79dOP2Bv\\u002fC1v27fOfh8Hxo2rp+nKESdaRu5arleteq206jVq03inPlztuzawYFjiCabcQiJEEgeCsSkIFIiEBgDjnIwuRBSIi6Y6\\u002foslIqKVEpisZgtBOIiCOvxWBxTpVKuS4kM3QSJCaEKJVJyiUAIETkzKaXZeML3\\u002fVKpFAkMANi2zZjQdT0MQ88LRkZGbrzxxgULFhx\\u002fwkZFRaVquVgueIHPeQgYY6xQGtmpiaYZnm+bupmGrJSgGgmfi6SRSSRT6LVXvHPhwvm5XP7++++dM6entbVFSnTjjTdIiRgLstmWBQvmxePJcrlYKlUYYz3dc\\u002fbv7xstlhRFwZgeu37Vv7znLRO\\u002fzv\\u002fHJNz3wF4vZEdbsZ6AsSc7NBzuaV\\u002f2itdu2bW9tT1\\u002f6kknX\\u002fWJf4uI1\\u002f\\u002fjprvueWDPrl0AAEKCQEhIJAFJCSC4cARmIDEAhjHXYPR4AiEJgjPuSRGoqpJKmjEzFQZYMl4tjnS25xOGeuBAr+P5IZeekFgxBMJhyBGSmkoRCN8Lu+f2uF4QBp4QzHVt13WpqhmxFEZKyARCRAoWBIFGSTIR0\\u002f5fe\\u002f8dL9lV3Ynia+1wUsWb+\\u002fbtHKSWWuqWhAAhISRskjHZwACDwXiM4WE8tt+MZ8Zjv\\u002fHPceb9xuHBOM7Yz8ZgbGNgbJ4JJnkIQjmHzt33dt8cKtdJO6zfH7uqbvXtlpCRDYL3+\\u002fb9nN51ateJe8W91tqh\\u002f8rXvPrC4sK52TNr6+uGrJQ+oTAa08T4wuect5obI9WSNvGhK\\u002fZurK\\u002f+9V\\u002f+9S233PLCF74Qf+XXf7NSKd1\\u002f\\u002f4NS8kKhNDpabbU6Fy7MhWFhfX1VKcM5GkNS8mKxLBg0640giLShNNfA2P6DV\\u002fyXX\\u002f5Z98i+4\\u002fjYxz720EOPcM6RuUAkBAB02cgACAjADCAhQH\\u002fP5reMQV+1GMAiXHv4qje85pUX7f3\\u002fo49XvOIVtWZMyG684Tm\\u002f\\u002fzu\\u002f6Xb+5gf\\u002fIIjKDz\\u002f6yNraWrfb9aTvCekczYEncxUjGKDeRCQAEBFzE5RA6NxwZAcFFQrFaiGMfF9mSVJbX2u328jB9\\u002f1umlkip\\u002fIxBpxzLpCjqJQnuq0mUVoqeHv27nzgoYcyg8owLxzVhgMIj7NAMka5VR2lFAbRi1\\u002f68j17dj9+\\u002fNhDDz2U5yoIAqPJWnAreiRJ4glWLEYAFHfbjz\\u002f6cOD5URSJ2vrqqVMnrNZKQafV6nRaF+bmytXq4vz5NM8rpVKpUlFZlmRZ3GlZa30hOQIKlueWS18M8bOHTy\\u002fcd\\u002f+Djz\\u002f2WKkQkjXv+OG379q92zJUBowyFixYylTugR0rXEb0P0P80R\\u002f\\u002f0af+9lNceFIIQGTAgSESAGMMsNdGrgFdORxw08aIrn1ZnkpoDajvLOX88Uf+6uSpsyMjo7t27Wo3m2fPnhjEKCCiMRoA3XLIbg8iIDJEAMSZbdM\\u002f+o63u+N85jOfP3XqlDZ6pFpZW1\\u002fLshTAugxiArLWAJDzhzEAAAZgL9kSAAIQIgOgRqMxMlIuV8aAye3Tm8FynWZnfa1xzVXXnPHOnD57Jk1TFgkvCJMkWavXq8XIHQURiAwAcASiXlUG6Cl3DMidFIwxuVbAUBGAF\\u002fDQWqsVMWQMrYWef9sVrOEA0KzVOYNqKZrZPhZJKkc8yaxCmahMGWGNIc4YYSjAY8AkE1H0mc985uDBg7fffvuumZ2f+9znFhYWdu7c2Wq1eOQhos7jNNZa54gYdzv1WlMK5vu+yLXtxEkxKgSB32m101wBE0zIsFDivgLGm+1OnmZe4AdhZK32GNdaI+OEnEsp5Kabc2Vp\\u002fWt33FnfWC+E\\u002fvXXHSWCubmFdmy6mU27caryfjU9ywVLO81ipSK5SLKMtE6yLE1SQhuVC4b01Fh14cLcqWOPdpv1xfPnKqXCzh0z\\u002f\\u002f4\\u002f\\u002fpI70a\\u002f+519+9PHHjbZhVABLvhc06416u+ULCYDMAjHwOLMAnKEFhoAEyBEtMuizui0YsMCLQKiHlnf+yEc+pnL9rh99m\\u002fv4f\\u002f1\\u002ff7NcjH78x37E87jVihV8MNhRXmbQaUpSeAQ2S\\u002fMsTz3pMxfGjugqCloiafMCM3d97St3fOMb9VZ7vV4\\u002fdM217\\u002fvXPzU4IwCcOnP65OlzYbiUpvn09m0ra6vdbocxFgRBHMedTodzHgSBY2GOEbiTIKIduvhXvvJlAJsuhH8+dOPuwuLKjl27d+7cSQhnz551RfmEEO4hI6KrLobgJA8O7QGAXkAzEgMAlRugXGvNGPM8j4iyLHEfAXqOfuzRGxBAN4mLgRTC27t7Js87u7ZP1OrtJEeTpVpzlWOKyEgwYCFHFKLZbAIwd5HXXnvtD\\u002f7gD549e\\u002fb+++8HgHq9TkRSylKpRETNZrNRrxUKBQSLiKJWb\\u002fph2Gx1KoJbwm6nMzY+eWHxgkAhfBEGBQPGaALGjIUkzYLqSBanTDImODBUejMgYGVlMY275WKUxN03vuH1s2dPnzw9+8Sx881u3mg0Op2OK27oouOUUp7nuT0u\\u002fZVz7kU+r3h7Du655ooDxdBbbjVV3D59YVbH3W6yWfvizKlTD93\\u002foDI0MjLm7s3zgiAIgAtEtIBgwXIAYNa9FeTQ06PB9p\\u002fyFlyecgCs2ty\\u002ftLhoh+439PkbX\\u002f+qem1t2\\u002fSktmr93FLGAqzurSeYJAkASGmNMa42\\u002fsTEBEBP1gEAERGRZ2LZWmw2m48dO35udhY9mV5yFdZoxqHR3JhfCHbsnC4Wi2trq1rrkZERIuKcOxeOGSoFbm2v8tHU5NjFB\\u002ft2YPv09pOnzt53331XX331VVddxRg7fvxkp9OJomh0dJRUBo54+lT0ZLzMwc0uco2e57mQHGOUUopziagR0dpN1Q4APN8ntGkaV8qlPFEH92xfkEuNVmY1icS2jM41qVxzFCiJGHa76ejkNkQ8f\\u002f58s9k8cuTIjh07XvnKV9555521Wi3LsiAIiMiVFpyYmCgXImuUMUbkxoZBEJUEIdMEaa4KBY5cFIqVRqu+c+f4jc97TrcdHz95bKQyeuTINZ\\u002f\\u002f7OcSpTmi8HxtjR5aov3s2dOeYAzhtltf2G03P\\u002fJnH7r\\u002fgUcKlelcM2utECIIgnKx4J4aY6xQKABAlmVZlrXbbaNyQjk7P3ehtuB57Obn33j797\\u002fks5\\u002f65LYdO088+qiQm1asL6LR6gQCL5ZLnSTmQnieL6THuEDG3SojwDhQvziZy6F1I2tojZSnATacRaxVqvVm0M0LXvi89eb6NddcOzs3h8iFV0hjvXLubGLQEgnOkbEsy+r1eqPRIBsDAAIyJxMYY4x5oLZFxZFtO2657fty\\u002fIofBdMzWx1uCCQYqixdX11pNeoHDx7sdDpra2vGWEQmpQeAea4cDyYiNwXucOfd9xUL5be\\u002f7c2bh\\u002ftnxp\\u002f\\u002f+ce\\u002fdsedADA7OxsEwdXXHD548KC1cPLkySRJqtWy0hoACQwiAnIicloZEgH0VEVn7TjJQ73cSobAhRCMMc4lY1k\\u002f7EsBABEiIBAjQCklQ2MpF8wS5oWSpLHCaLkgeavRIcmSRqwMWWVyQ4CIYbHQajaCIBgdqcZx\\u002fI07vn7llVc+97nPve1Ft548efLYsWPNRt33fd\\u002f3peBa6zAMjeZKKTEyNgoA+67et7i4mGUqMFGSpVdcceixxx47evTo3r17T5w4dfz4cWvtsrd69733TE5OoudpIoEs19brJ0gBQKVcMlotLS\\u002f9zE++7yN\\u002f9qGVpaWZHdNRaTy3SBaE5FJ4XDCjrTYqzxTynCGvRIEU5XbHT+JUFoM2dbs6feCBBw7s3rlnempiYpuwsDGxOpyvy7iIwqLn+chZGBVQcI8LLn3JubNXDCEQswgcGDFkgBaBA9qeUnAZXFbmMCIxdN4sbSm9GaB15Dk3A0CsYWJmv9tTBdg9+HoTl9t3EfZed9Pz3\\u002fHuH9u6GwAALBkC4\\u002flC6WR9Y\\u002fWaa66ZmZlx0+REhIhZlmmtXcE+x4MRkbmsRqTPfu5LDz702Ei1opQisESk8qybdAQTRMYSGavJGEPGkkVLgnkADKFv01x+i+DkBqAQ0iLjjHme12x3NjZqzjczMjIyNzdnyF533XVXXXVVlmVzc3NpmjpV1XFPd5D+G3HH3grH7owxSime9xRRKX3GegchuigM0pANQ+lL0iomFQPTowVeKI+BgSgwxBiKNM6MImOM0tb4RFLKPM9dubYgCObm5k6fPv26171u79695XL55MmTy8vLaZoCQJqmhcB3VyWUNqOjo1Gh2O50kzTLlRZCGEsjo2Nz5y8Ast27dxdL5YWFhSRJypVqvdUMS6UkSbQFa+1IdWRw0XOz586dOXv0msPFYvGBBx6wWk9un05Uoow2hnJN7oatBa3zUqmSJI1OJ\\u002fZ9WS5XtUm0zSDXkOdTldH66mq80VTl6uTIxNwTJ3Zs3x2Gm\\u002fNCQvjSC4WUmVZeECFnkgsuPY4MGIIl5mbeGFqLAGgBAdESQ6C+vbsVl6UcIuKwachxoO07NuOdv00gq7Is8DyVZiuLi0mSdDqdJEmUUmEY+r4vhEBEfXE8zuB2rDH1eqNeb8RxTNQrDEZkrLUE1lprjBpsiZARBwAkILzMlgEOtkhAwFKlfd\\u002fvxf728\\u002fuJqFypJEly4cKFQqGwb9+BK664Qkq5vLyo8swCADBAQDIAAIwTGUdHDAgGkocAABjjnINbNzBNQAiBDKSURASgGWNEwtrevTvfHDIGZJK4VfWQ6UxyU434eNlDpNygRcFTneQqUdwq1el0fD9016+UyrKMiBhjn\\u002frUp2688cZrrrlmcnLyvvvuO3HiBACMjY1lcZdxKZCLOI6PHj3a6XTq9brW2hgzPT29vLyslCoWi3Nzcw8++ODMzMwLX\\u002fhCY8xXvv61LNdj42VtyDlzykMFLNutVqteu+mmmx564EEp\\u002fSTTxpDweJ5rq3NjrCXNOEcAC9Rq17QxlvJc23an3ul2EWCkEE0VR5NWUuXh2uzizYevu\\u002fvUVzaWN17xAy\\u002frtpuDExVL5ahUBOQqS4XgTHDOpRPlRETYW4oEwHFPIGQIzhk9OMbThRlaPNgPxLnTD3\\u002fhM3\\u002fx0ldurfr3z4pcpWEYEpj1jdUzs7Plcln3y+IJIYwxvu8T9bLfHZPufbRobK8O+GAn5zwICkmSEBkiIimttUTGeXiNG9hbvWq9LSIfbAEYACR5W0oZRRHnnJwgIrTWxnFcrVbb3c7JkyeF8I4ePRpFkdb50uLCpsABTmAAAJFTb4XurZLHvVNre0WbiUhKKSQ3xhBxRPd2NrmhlNKSTtM47rR27ShTlug0R9WNJMYeRKFXUKSQG8YVA4uM4ixJEpdYWiwWpZRKqTzP8zz\\u002f8pe\\u002ffPbs2dtuu+2lL33p9u3bH3nkkVarJbB3VWLnzp0LCwtLS0uc806nMzExUavVGGOvf\\u002f3rV1ZWXCHQsbGxNE1nZ2eTJJHSX1pZYwBRFIW+t\\u002f9AT1EBgHK5sra28cIXvuiDH\\u002fhtKX1e9lVOmsiC4AJdBZDcWI5IiIIx4flBUMyU6saJtswTIutkreVmKAKfMbXWXZ9ded3LXr1vetedd9156NCBwYkMoCJgHMJC1Hcm90orIqJ7oz13eT\\u002fEw1oLAEQm8L3V1eUDBw4EQbC0tLS6ujo5Oen7fpZlg+MPgICdbi+REwCOXHvt44+2Sa0df+hv1uqdtbX1ICzffOtLfvpnfr5QHq\\u002fVuzrPCgEX3HAuheCMcQCwZIns9umZdrvZaLSUyoTwpCeBSBvgXiQ8\\u002f\\u002fSZs+\\u002f\\u002fifedPH3q0UceUnl+8MDB\\u002f+Pn\\u002fp07qUDmcWFyJQQDYNVqFYh5UngyAACjCYBlqWKMOTXJGgAgRz4A1pNekuYAlnHuKowxznOtLBABghvEyJzWhAAs4ABAFgGtSyp2bQSOjIAYMhpuT0aby5gDIiIyxoUQzXanUqmUSqVGo3H69GlE3Llz5\\u002fXXX7+6tmKMAWOjKDDGWGtVlnDOjWFEPS7lbB4AIiI0jIg4F5w71xwppZSCMPIdR+BcGWPcoay1eRqDMmS69dqanQ48Tiig3aoFXilPO912liYmSQ0wLwxDorRcLluXE9BpZ3HXBWpGvpdYM7F9uttq\\u002fvVf\\u002fsXhw4dvvfXWK\\u002fbvu\\u002f\\u002f++x9+7HHf9xFRjI+PE1GWZd1uFwCiKEJEpdTnP\\u002f95x26FELOzs8YYpyFIL0K0nLGkG197+Gqdbw64nTt2\\u002fsZv\\u002fObZs+eWltfq9a61NixV85xSpdM4SfMMLAlPBp4vPCkYR44MwBDX2ldG5zllpEaCUczUWHUkQH\\u002fu1OxoeWRm225O9yJuGlTIGZeCCc4YMEAApz8wJHDzNoRMME4IYNzEAFkAsAgIYRgePHjwyJEj8\\u002fPzWmsXS+vk52URDNVYu3Bh9sQTj7\\u002f6lbfFccskjeXF2cPX3vj3n\\u002f3Mo489Wh7ZjqyY52me1iUnyYWr\\u002fGCByFgL1Gx2W512q9FM84wjY4KDpdxSvZWUqyNk7D33PbhtcvyuO+89fNWhdqs1dAkD9JjEPwbs8r8iBsQQLTlW48aom1dBBGKA5Kr2IXBAGh0ZGxsb6REYOAIB12AIiK7FwDk\\u002fgCGCJiAizjnnPFcKEcmqibGJN73hDcdPHKutbxDAxMRYs9ViBARGMkFATnQMU47Vm5pnv0EAICVnHFwNGWu1tVYpZa1FzrjNJbWmd4z6pZFIjEsOWuF6K\\u002fdLfhVMCN6IBkUMpCBLaIi0zpU2RltLiMAYY8hcAhxjzFrLOTt75vSevXtf9apX7d2\\u002ff3V1dWOjJs6dPaO1Xl9fT5IkjuNOu5XnudbauTt93zdaZWlCRFLKidGx3CIHZlQ2NjZ26IoryGzK1iiIrr7qyBe\\u002f+EUuCrv3jihtEwWkWA5W+Cmj1GqdaTKWQc46rRYTIgqCQqlSKhbKvs8AZK6npWfarSD089TMX1guls4aMN1Ohr0YDQAALoQQDDkyJI4IAIz683OIDMACSoYGiHFmwFEQMEQD2G43nTe80Wgg4rZt2xzXCMPLxOcTorGbRLWxUVtaWvra1+54\\u002fnOvj9vdUlT6\\u002fhe\\u002f5P\\u002f8zd\\u002fbtWtPrZkDQJqrwI8YaoYMGKMex2aG7PkLC8oaq7QBAARrQSAXgk1PV6vV0ZXFpUcefOg1P\\u002f9zL7z5loXzF7Jk0w+BwBGcVx0AoBe3chm4na7TcMNh608QOUBv1AOQG44ABMg2dxAAwGi1+qd\\u002f\\u002fN8u+vEzxXdyZvkZ4vbbbnUN0ajVc50l3Vhb5UtPCCZYaMGUCmVtlVHWkBaMIweO3Forua+0JcAbjl5XLpaS7iZ3rG00\\u002fvsf\\u002fvHK+kauzNh4CQSsr26EIzuKQSBHJeeciJwSqbUenyAiEkJEUeRGbZqmWnVEGIUyqDVrAHb7xGSzm9Zb9amZnb1VLgAAgCFwBoDEAJhjk4hufsr5ADgSgWHEiAwSATBGQGQZQKZUEASjo6PFYnF9fT3LMqeRP4nYIRlsZp4ord70pn+R562jR68fHZlcXF5LOtnxJ04m3VTlJAOIwqJKagTGZRcSEfXLO4ZhGAoPvJ6byCiTkbEIzVZXcl4sFPbu2VUuFN\\u002f9rh\\u002f9vd\\u002f53WqxOjgpB0RkFgek4Mb6MwVjvSdHtEk5Tuy4DtjzXNHY6MhFv3x24Fsuq+2wsto4O7fhSf4UYXuNRuehxxZKBb+TZJfGLotuq9lNuyY3Fm3kR3maeNxDRr7gOk1VmmrSkkkUSKRzoiiScbc7s21q985d3XZnZXFxcKxGo\\u002fX1b9wztW2HZaygmRdEMztHVpqaycjzo7BQ8H2f9xdjcMvHO4WQiNI0TUwjRxULQSZtkmUMO4hGmZY2KWE2NHEkGApEJAvgvNDkeKobUAgE5LzP1BsX5PYQATjPI2PMGCOlDIIgSZK+gXQZCLnJrbW27\\u002fqxd6tOIxyd2mm87dP7teU3PfcmddfDyYX1jfX1MAwjIQCsoxYAQgTGEQCbjRrvp9cDAIJlDDmxsFQko2+8\\u002fsZbbr75+ONPHDly5M0\\u002f9Ma777lr8wqcxkW9+Q28RHo8NS4z80sIAIQMHJ0g9B6OoxnmGj37kAhgKEzkWYJvuaw2ANRqnV\\u002f\\u002f7c\\u002fc98A5ITggPllZ7WMnln7qP3xUadNspZVyIAX\\u002f7V9\\u002f63C+jChEgTY5CmmBSoVCmmeeEMAwiTtEVgqGloM1zsKMpG+N8rg4sG9\\u002fnmXrK8sXzs8NjkUWZ2Z215udODfNjtGWovLExK4rM8uSXMVZnXPueZ5zpNp+MVIhBEMMheSer6tFpLhVi8PpbQB2udvZPTYyNTFy\\u002fPgjhm++PyF4KAWQISJgSMjdypgc0CJztitasABIYIGhJQOAFiyyPMmr1SpjLE1TpZRbIFUp5Uh6CwghV5uG3BVXHQr8MGTs9IOPHTh4Za3WPHby+HXX3uCHE4trzYcfO9HqdtaX5y2BS2lnhMCZQEYMhSAUXErPj8JSVJCB73GBiNceObxtcurAgQPnZ+fu\\u002fsbdd33tjje+8Y0H9m36XQAAEXtKFABQz137DOF8Vk6wuD3o5iXRDHa6xqa0e3bgWy6rDQBa25\\u002f5j3+1Vuu850dvv\\u002f7ILpUbV1Z7\\u002f76pF9965aDbPQ+c+7e\\u002f8LFXv+Lo637wujhRQeD93ecefu+\\u002f+fB\\u002f\\u002feU33XTjPtdHGJWpLPWEQMTAE3me+pIDYzrPBWPcl9pyJLIAnhAovFzjFYevvvKKKxobtfkLF4Yjo1qtzsjomOX+ZFThIvD8iEfFtqXcpHESJ0lijGGMeZ4nhCiVSkKIgSsZERljglNGuuuJkWpFcIQ0ibZN7Nk1UxwrrV84PThR5PuFIASbE5FlfHiGAZA75QNcBqIlQgRLFggsETBA3L59+9jY2MjIyOrq6vLychiG5XLZJfBdAiuHqslcd+S6LFNLs+dPnjw7M7377z712S9\\u002f5RtTO\\u002fbN7Lni8FVXHzh4uBUnqc41WTDWUTKTwuMCOAs9P1W5VZpJUQhC7kkw1uh0vOjfd8+djz744PLiUuSH3Wbjzz\\u002f84crIpvqB6Gq3DsbEpux9JujLWCex3R8DMMQQwDopBABA\\u002f0SU+k+EZ1JxHwB++\\u002fc\\u002ff+L08t9+9Cen+smz1x7e8YLnHrj3wbM3P3+\\u002f7wkAWFpu\\u002fMKvfvJNr73xJ9\\u002fz\\u002fYMfXvn+l\\u002fke\\u002f0+\\u002f+j\\u002f\\u002f7995144dowAgsizL05SHoZTS9\\u002f1I60KhIIQIw7CvTRHnAhG01rk2PIfnPefaiYnR5sbq6ury3r17Bkevjk1kkAeVqTiz84sr5YrXri93jFZ9HsYYYxwIjLG0vrEqpZRSOq8IAPi+7\\u002ftSg\\u002fI8sbxRFxzLxfD84pLOswO7tzdXNoWbJ2XoS9RogIChRXAeUqCe8wcA3OwEgFNDem1LFBbDs6dPzp0702w2p6cm4jiO47i+sRZF0eD4QyBvKJil1WwGlfFCqR3H+ld\\u002f\\u002fTdOn53bs\\u002fcgQ3H27Nl77n\\u002f44BVXTe3a44kQCay1HIBzLoRws2ycc+x2s9ygskyS1KSUNkkiTXrm5ImXv+xlRw5f84XPf6nZbH7605957\\u002fveN3QNAMCQnBr6TzmMEXtOLPfQyDnaEF05f\\u002ffkoOdz2QprB6ryk+Lp9PlHwT5lWe2PfOzOd77l5qcoDry62vriPxz7iXe\\u002feEA2Dq982bWvfNm1g4+r6+19uyfe8OrnDHUBAHj59x\\u002f+n59+8OTZtR7laGVLxYp7tc1mk3Pe7XYZY1mWOnvAWtNbzh0g8MQVB3cc2DvV7SZnzj7BBASFTevKK4\\u002fwPNUaiWx1Us4vLmdKFyvFdrPhBpAvhNFGMqEzFXqeyhRZ8KTkTOR5rk0aCs\\u002fkhMhLUcQZCGM9ktKyuNn1cJP353nebXdGyiWTpowJhoQMOWeMCc65UwIdNV4C1kkzJEZalQMftSp6suhVEDFJEiIiIturPW+JCMjktdrgx8sLa0D+4kqjOLr9Qx\\u002f9xWuPHhFhaXRishunXhCQSbuttXpqDDKtted5nue5qYYHH3ywUqns3btXKVWpVOqL6y5+MWmuUyiuu+aqT\\u002f71xx5+4P5HHnksztJO0t21d9fgpFJyKViulBeERETUG4juageXWiwWHQ9yflHOubU2yzLGBBA62nBPxpVrox5bcdNcBACO5xChU88QgYAAgbsVV\\u002fvIcv2Xn7hn7sI6Ebzs+w4\\u002f\\u002fzl7L6WNLX2eJWW1661kdb21Y\\u002fsoAFhr23FaioJLL\\u002f7QFdPv+ZHbx0a3ctI4UURULvVmRwQiEkMAsAjUn0k2RGmaabKMAAUPPT83lpENI3\\u002f37p3GJmfPncxVJj2eDw3QLMuTNFfEc21y41YX1XGnVfAFY0IKzOKu54m0kyVJF5GPj48m3U4GVmurdV6pjCwvzI9PTkgEDijACgBmLRpDWg0bVKAtEcVxikhKZ4iIqI1GxlRvcPRnzbeCmMfQAoGb9wFEdFqKLZcKjktaq21\\u002fFoaT3ja5WQ\\u002fp\\u002fIV5ynNDbHJm51VHr19rtP7qE58kxicnJ\\u002fftP7B3714iw7gtFMuNRoMxSNNYKTU5OXn48FUTExMu6pYxNjY2kqZplmVaq26cT01MXnP0SKeb7Dmwf9fefdbasanJwUkNASDnHASy3Oosy9zdsV4EV8\\u002flMPANuht3xCD6I4ycH+2StgNeau304BqbT\\u002fLSavrfRRX3T55eloLv2TN+\\u002f4Pn\\u002f+jDX11db02Ol37sh289eu2uYQPJ98T1Rzc51wC\\u002f90f\\u002fMLN99Mjhne6jIIbA0AIwBJfKYgiBIEsyaY3VRvoeQ57muS+9ysjErl171tcbjz7yeBKnnMlh1r6yvHDs2Fw3tci9UqVaikShNJIkXT\\u002fyu92ESCGoSrmUJBlDCcCmt42laT4yUgFg3W57fHxyZWVJW0M26TRbJks5s1QtjxY4WK\\u002fd2uT9MgjCMNRZHgReOhS8PAAiBsFlXY2G9wonIYAbQG6LbkusV0XfWiLC3pjto5smzW5npVkbHZt4w1ve0mg2a82WNjYMwzAsIOddpcKoyMB2Wo1CobB79+4gCCqVShR4nuc1Gg2t9cLCQrVajaKoWCwWduzM263M4u4Dh+IkKxaLMgiJSPcFCwBoAkLGBAPGSWnGBKITF+R4hEOSJIwxJ22IyFqLiFJKN7sHAM6bTUCI6IQJOMHSFzhEPf8d9nU1HKIoeJJq+t9FFffPnlvbt2f8o3991yf\\u002f9oFrD8\\u002f84Euv\\u002fcqdp378Zz70ljc8\\u002f2f\\u002f9TcxkD799w\\u002ffdd+Zj\\u002f3JewfXKYAhIQKiBbDg7EJLlhsLaJk1VmcGKFPWVCvl7TO7DPGHHz12bm4+KpaEx2ho3fAkbmVJy+QWGU9Qa63TbtSOu6VKUUqfyISe7LbWGBOjlYBz2W2txXFKuq21bTRqnea6lFwpledpmnTzNJFoua6WPC1tx5ebT1ZKzqUwRilr+sF\\u002fPe1luD3oPwzq5UK5bhoRiTQAcO5GSY+c3PgDwERv+tZEGKw1m8tr65lFHvrjxZnJ3buNhSxT3STJMqWtaaytCeEZY772ta+dOHEiCAIXZmat5ZwXCoWzZ8\\u002f6vr979+4kSQJfVovl1dWVbROTI9vGAj9cXl42xrQ6m+4KSwSMIyJyQZgVCgVre6uFO7iBzhhzt+z0NOctlFJmmaIhGnCdB42tXyEQWSdk3P5B\\u002fyerpv9dVHE\\u002fzdRjxxbnF+sf\\u002f7P3zcxUPSHe\\u002ftYXLMzX3\\u002fm+Pz4\\u002fX\\u002fvAf3nL5fUUgPVa+9d\\u002f6zNve\\u002fNNVx6cHuwUxAhchCqzhhDIEnFggEIiF2iZMroTqyAKq6NT4xMzp0+ff+DBR+JEcaGUQeoJdAAAj1PoEQMDQAJjY1JSuU6arISHrzhYrhRntu88e+50uVTdPrOtXKo2mjXOZK2+vrS44vN0YX7WD2SexIwjAwwYMQYqra8sJq3aQnGo9opzXQhP5nlajMrD1LLZfhJfqtW9Bbbg4mHkewIu+QkhSX8z6gc4zs5faMVdUSyKKIrTLG51tQUupSyW\\u002fLJAgtGRPO52p7dN3n3XN3xP7N+3Z2JiIgzD48ePj4yMIGKjPpLn+e5dO4QQCJyA+cWq5X6jm2W1lhDSDwIaWiONkBHCoJY055yRBbBkyYXrM2SIWCoXnPeSAyKgtoRIjAAtISI4AeXukAgA+mk8jmx6VGTdlLJ7fn1B5LjMk1XT9757Ku4vLNWTJP+NX3mTK0AHAJ4Qe\\u002fdM\\u002fNJ\\u002ffP3P\\u002f\\u002fIn7rrv3M3Pu2gywKHRil\\u002f2+t963nP2\\u002fft\\u002f\\u002fQPD+wUw7HFgJ3OAEQEZK4U0FpFxqwmJVarjY+PblIZHHju2ML8yMjKiNek8cVOZPZBSSTuNY0QUhUKAEEpe3jGW6yyN1z2RToxdsTivybSTDp+fO5llyfj45Lkzp9bXa4xBp7WctCEKPDA9mxY5GGKx7qoYx3ZvKsFKZxZtGIZOj0dEAIbomGVvawwN2sNbR12OZoYbg4hPt6e\\u002fheEVywQXy8vL3TQRnW6hVAbUFowBCxaMNtpoUnrvzLTKs0B65XKpGEZB4LcbzeXlJZOrOO42NurNZoMDM0ZLxuOsUy5PlCuCC6GzLM3UWKGglOoOhZlyBCTrZDtnaPLMWqv7yTnOPymEmJqaWl1dbTabg5tycgkuvk0YusHBx0GDAxgC6tHP5g\\u002fh6VXTfzp94DtUVhsAcmVKpeCGS2yY66\\u002fZOTpSeOzY\\u002fKWUU2\\u002fEz\\u002f\\u002f+X33RLVf+wW\\u002f98JavBCBaBEaMEBkwS8SILIJAFieZZJJQBH44Nb2jUBw5f2H5\\u002fIUlJnzknrY2y7J0KMSYgQ6FRd9qrXWat9vtBmMTMzviLF2YVWpqXMINVx3cEYXF0bFqvTZab2w06q1OY2ljeYkLDLgKfYmQ6FxleQ5WM8Z83\\u002fel0JJ7cpNjdeO40+0qraMwTBKXncsZG2wBABiXl1IOA0tWs8vpLXmauvYwLIJRm6zB92QSx91ul0CoXOeWckW5MUQ5cik835PysUcfjQJZDMLbbr0ljbM8jQMvLBVCiaxQikphtGfvzsALC6WIAU+SeGlx3pAVjAMAY8yorFmvh3zzpBJBkDLGMOYJMIwLAkJG1hhEBmgZB8Zhx87taRa32g0CwxhDRsYYbXpug\\u002f4dIwASuVtG3GLkAAAw16n3kQAAnKvt6VTTfzp94DtUVhsADh\\u002fa\\u002fvixBXuJsic9UalEG7XN0qQOA7L5ow++c8tX4DwECECI1EsvYgYALGoLSZIZCb4femE0OjrOpX9+YbHdjUvlKgCz1lhr86FYaYlWq3babSJBsRiFI2FUKs8vX4gqpbi9frI2\\u002f7G4tbq2rJWdmBxrNtra5EaTkEzlppl0PBkwP+w262SUNYCIyHlushwtAFg6NDhRrbaxsrJirZ2YmOJcIiJHhpwJxpEzjhYYhoK56OnhLfS0nU1WOmh4nuc+Op\\u002fVAMNqB2lrM2XSnKReWV62hJZJLj3pBUiUdtqdPCv6PgNz8vixvfv3LHaXmvVaG3iz3SgXK83mhsq0BUMGzs6eGa2OaWuy3Djvf7fd2b1793jlcDH0zfBTZcTJWJtxC4A2Cou5Ni4BywkfRLTWjo6OhmHo2s6rQURaawSXdXwR+nQCuFXyWAbM9rXWwbfwPVFx\\u002f2UvvvpP\\u002fvyOE6dXtk1Vh\\u002fefPLP82BMLP\\u002fnuzXlP+GZkAwCib+G7\\u002fwjAWS7EBI8KBSLItbry0KHJqan19dqxY8c4YK4VWCIwYO2wnZPnSbdVFwI5ULdTs9q02jUE3mlkjus\\u002f8WjD8f7GxiL0\\u002fMIM+plSaZ7m3ToHzQAQEAGtRep7e8ywpS4lciEla7ZbZBGAMUBg6HJCXTxBIYyAoWCcCS654FIIxpERWnDxJOg814huYLn3in3XAQIgALM2G1qx2RdyfXll9uTpG57zfBB+oVTeqLcfuPu+4ydPJJninBurAsEQNCNm0Q5vAxm4tvtn0S7PL1gA4yLwiZDs\\u002fLkTJx+9b2Zm5rqjmzN9xYiPlj1juM5ylF6r1SRkiOhLYa01xqRx1xhz4tgTVx480KhtzM7OTk5OgvUSazgyISQAODKzxlAfbrJzmKjc+zDGunYfTHKEoWr673nXreOj5cGvjp1Y\\u002fMX\\u002f8re\\u002f9gtvOLh\\u002f6sn6PBvKagPA9HRlfLT45a8eu+X5BweWmNb2E5+6f2KiePVVm\\u002fLqm5INwFDoPgCDnue+d1DP81qt9r59B\\u002fxAJkly8uRxAGvJEFkksGTB2mFHhzHK6hwBEBkZjaTRAkrGAXo0ufXPDVaCXl0aQrBAlvddxgTcvVgEp2\\u002f0YIl6A70fluKIYbAFgEarif15D95bwpsxJIkWkQSTXDJP+FwywSQw4kwSWuYqFwB3bQZ2sBItANhc1VfX52fnJJNRqZxmeb3RatQblTCqhKAtKZ1LTgACafPfxOj42MQoAgMgAAQEt58BAoIvJfXW\\u002f9ZkDedcgEq67cFJd8xMB5wTkLUGhZdqMMAAwFqy2iijtNLGGsZganLyxS++7cEHy+1We3x8lHNhjEbgANi3XHpNgN60D\\u002fYcDI6BIACoPisd\\u002fGRme8+hdNlq+t8tFfcBoFyMPvnh973mbf\\u002ftje\\u002f43Te\\u002f4fnPu2HPvQ+e+8tP3NPppMNL1s2d3\\u002fj+1\\u002f7m9dft+skf\\u002f74taycHgTc1WaqWIwAQrqrVRSAAAKsNACsVC7t37igXC\\u002fMX5s6eOWWMQtKAFiwRGbLGmk2ltsfMGOeMu9HDhKd6kwRu4G9uHctzP+wzPmKAZKFfBMgJHgRiRORmux2sAVdYD9Gi4ECuH\\u002fbHBQIAcgEAhGgIrLFoCcAwoERnyEgy90+5\\u002f4lR6IXEiJElRhysazOg4cohZClut+prqyrNZBC22t0sy4XnBUEEDCWRZIAMLOJA2oyMj\\u002fztJz4+OMK3gDe8+V9u3fWUeMNrX7V11z8dLq2m\\u002f11UcR8AisXgbz7yE7\\u002f8X\\u002f\\u002fu9\\u002f7oyx8pBe1O+vwb9\\u002f2nn33VgGzSNP+Jn\\u002f3I2Gh05uzqu37iT9zOASbGiu946y3\\u002f8k3PBwDh9KWBnAFAQAvE3DT\\u002fNddcMzJaBqRTp4\\u002fnKiEyHImsQQJLBmzPe+PAOWdSCC6E5NwgAAghdJISwaWU009Ad1TlaoWRBTDkxA4nBmhtL3URXUpBDwOVA4ChEzGXwOX8kDv3Zn9HUVZboFznZCm1SIzQhr66rMzZvm1zTtodIQxDpbJWq+V5XiHyiSiLm8ZayT3h8UwZwt4xkVildJkJ7+84nklyy6XV9Lf2uFyfZ0nFfQAol6Pf+JU3L682T5xaPnRwastvhRAf+v1\\u002ftbTSzNLL+Dn8QM5M9ySnYIQAbMD++7B5Go+Oju\\u002fbsyuKghMnTtQ3VoqR1+22iQjQJZ84tr85ovfs2dPtdjwphWBgLQBwwZMhO2EL+qJmoEmARSJLwHq6DCD2THRie\\u002fbs7fUGQHSKZe+yCZkTNoMG9AJ0erDWWhcUQNaXAgCJ0BIhoSWXiUDdOL2UchBsJ95Mz+wk3W6WRMWwk8TMg7GpkUIQ1mq1ehIjZxwxz9KcDAEMKMeoyybMfSfxTJJbHPbvndy\\u002fdzM+6LLY0mcLnTwTsnEol4Lrrt21dW8fjPXO4D3JibZNVi7LMoRgY6PFsdFv\\u002fjQEDuIxEIa3gefv3burGIXK5CdPPIFoBQfPk9rkRATogs83nVQA8Cu\\u002f8itDR\\u002f5nRM9oYZwx1iuDfAncRJMjm00SIsi1QQYcELjgyBmTArlF0pkiZAisl37PmMsh6+ablF9vNVc21nNrkizRWqdpN8+TemM9SZMoinKtm+1uoVgiZAQGCNz2WYVnmNzyn3\\u002frM412\\u002fIrvv+aK\\u002fVNamy9\\u002f9fi9D82+90duH54kOXZi6b\\u002f99y\\u002fdctPBF918MMu054kTJ5de+n2Hh470rMYHP\\u002fiB06dPSc9Nqg6\\u002fPwsA1hICMs57do5ThpzfFoEAYPv0tisO7ucMz56bTbqdicmJ0WqVC8hVTkQAREBg4YYj1w4d+tuE66+\\u002fHgA5ckA0gOSEEyIDxIFhy4ZKSA8avTskIEQODDggua0xtidzkFy+DwMOYEbHq73fAkxMTze73fHpqXq9brRqNTaWlhfTJCEymBMAEChr7XAapqsd8izBM09u+fTnHx5Obtm\\u002fd3JmeuSLX3n88FXbB8ktP\\u002fVzH331y69zxoDDrh2jg\\u002fYA\\u002f+NDf37h\\u002fAUGhEAI1pPec1\\u002fwguc99\\u002fmFcqXV7SRJBkwixzQzSmsgklIikgsGR0ApuVMiyE2P9Od819Y2krjT6bTTNAuk5JzPzc0++uijxShEdNP+2IvRAyKighcA4o4d0+95z4+7C1tYmD9z5kxfmXIjZ\\u002fMluohbzqWA3nBiAD2vFAEQ2Klt05MT02mWnD07OzOz\\u002ffd++78Mfvwdx9ve+ua3vfXNW\\u002ff+8+NnfvrfbNnz\\u002fve\\u002fZ319hYwlIimF5wXdnnbKnPW4d89lNAr3mp+5xvKPgv2OJrdcivMXFs6cPoNgGFlAu3\\u002f\\u002ffs6Be6ybdBaXl2uNTjfOWp04iAqAyBgHIK1UnudOm8jTBBEZHyggjAMScjKmWhmdmB7rdDqFMJqZmS5VJ87Mzj\\u002f0yCOCMyEYY4AExiqtNRgTSo8zUEOZv1LKIAjSzIVxIAD13yYAAGPCsWlhjJqc3La6vmYMMOkRQJblBw9due\\u002fKa5uxOnXydL3R3DOzGej27MEzMXPh6dVwAIBuNy8UhkLXLsbv\\u002fM4fbt31NPCPopks108cW\\u002fxuT265FMyYYuBrrRr1tdXV5R\\u002f9Vz\\u002f8gltuKJaC4yfPjI9PPvjw4xu1thcUuhcWiYgIrdU0pHsDgJSyWq02Gg3GWKPRGKlWuRBZoonmEZExJqV89IkznucdvfG2tUY2f36WBEcixmllfW1iYqIUevWFpUAKq4eDyMAaE3ihMcqF6gIAY8zlL1sXm29BMMaa7QYyAWg9P2h1O6WR0bHxyaBYWlqcX1petRYEf6pAuu8InomZ+zRrOADAh\\u002f7ijrm5jf\\u002f0H16zZf+3E5\\u002f94qOf\\u002fNT93+3JLZdCCia5WFtZ8QPvRbe9sNFYT9MOcsYENhv1c+fOpYkJwuJ6reEy4fs5U0TGEgIZ201ijizNs5FKNcnSpYXlbhKPjUwSMCRwNZOl73nCY4IdPnx09vyFscrowtKFSrk4Mb09TbqddrMcBgJAm80ga8a47\\u002fuOYACYMYp6de7dX+9mBXLW6XSCsISWGGOc8x07dszMzDDA+fn5hYUFRuSUumcPnqGZ+3RqOED\\u002fLC9\\u002fybULS42Z6erwV982LC43fuMDn1uvdb6rk1u+ftepF950cMvOLE0XFxcLhcKBg3sKRf\\u002fee+89cv2RwxM7WqX0\\u002fNzqwsKCykFpqtfrBggtGSAw1m0tQiC9ZqdN2ihruiOjmqxVutnuNisNA8gBiaHHBfekxz0mWbVUvOUFN9XWV0ZGi\\u002fX1tXqrwQhKUSFgCMqYobKBgFx6gdYamUbGkDFr3UIj3PZC\\u002foCIBCISMiIyxsRxPDY2tmfX7tHR6tLi4trycpp0i0NFLp8NeOZm7jet4QCXOwsArK63PvbJe9\\u002f8+ucOtJpf+ZVfO33mDMDmxJHgSGScZkyE+\\u002fbt+cVf\\u002fCWt9a\\u002f91mdDT\\u002fzv73\\u002f5MG1rrf\\u002fu7x\\u002fdt2f8yOGdl+2zfVv1A\\u002f\\u002fn277bk1v+9M\\u002fvuJRyJqcm\\u002fZOnV1ZWhAQ\\u002f4EEkTp06dfiq66SUvu+32+1uJxcyqFQqRJYI+pqatZYAyFqa9D3OhdYKkRmjWRCWSiUpfSJyFSk450IIITzOcaO2NrNjqrYOHhfPe97zzl84d\\u002fLkcZVnoRcSbrqQAMBoq7TlTABDRA5MMQMWDAw9OkQUhCyKIq2stVbpbPfu3ZNT41qpU8dPxHEchiHnrC+5LsLTMXOfTp9\\u002fFL49Zu6TnWVyvPz+H78oLvD84uLxU6cd2QAAI0vWOt+AoxzHomqN+CtfP365xBXxuh+83rWfvM93fXLLm19\\u002fmYC1bjd2SbJZlhkL1x59zvnz53ObJ0mCiJ1Op9vJZ3aMbayvDXL8rQVrNRECWKVMGPpCeESm04mJjBBeGIbdTpssuHBHZ5wI4TEGYRjedec3br75pkcfe5B2bh+tjuRZJhAylSMBuhAxAABQRnfTLPIDi8CAAROsl+VERD2hQ0QCiEnp5TqR0i+F4Z6duwSy+QsXLlw4z5AiP9AmH078hEvqM3zv1XDYcpZGKw48L7jcsuZhEIRh6CjHEYnJlXN9AwARSRHC00tceTp94LszueU\\u002f\\u002fPRlyuHedddds7Oz1Wrl+PHjNz73utXV1W0z2zzm5Xm+uLiYJAmiaLdbWudEhJY02cHWAEnGrbVJpy18D62RvmdylaZOo0O0ZAgEMmO4VRoFZnE3M3nc7lx55ZV\\u002f\\u002f5nPFquRx0UQeGkrZoy5UhwOSpk4SRlyYCA4B+ZCiSUZS\\u002f3lRhBRGMAkV4i8WCzuP3BgdHSk0WicPHEiS9NCIbTG5vlmEiVcrj7D914Nh8FZllea\\u002f+PPvvbIYxeiSP7AS4685geui6KL\\u002fGxS+p7sWZOMMUQ0bsW4vv4mPAlPL3Hl6fSB75XkFgB421vf+uu\\u002f9p8LhcL+A7s3NjYWl8\\u002ffFNx0\\u002fPRxFP76+rpSqlgoNup1X3AAA0QMiMgiWSBiCFmaUQZJN46KhTzNQoySbkwIpUIRCclYALRgGZIlQEAydmZ66n\\u002f9w5de+\\u002frXMMR2o1ktV2r1dY\\u002f7FpgdiuEyAJpskqUouE\\u002fAJMdeWq5jscx5qAUAJEkSRVEURfv27fM8r9vpzM+fl5JzpDhPdK6wn9x72foM33s1HNxZisXg1W\\u002f9YODJt7zxeYvLjQ\\u002f+4Rc\\u002f\\u002fLE7P\\u002fGh\\u002f82JTQeGyIYqLSIicg\\u002f6ZAPQK7n01Ikr\\u002fy9MbgGAC\\u002fMXbrvttvHxsS99+e8r1QIRnThx4iMf+ci\\u002feNsPe56n+0vqqix1xVxpyNBxR5BcaCk9ITNKXbqIJ3vLx1sDRITImTGWG\\u002fdq8jSLouiJxx5\\u002f0Yte9I1vfL3b7UrhcyaJyA7FClgAhiLTSgAxxjzilgEiEgNEhugiBYAh454fZLm67vrry6VSvbZ+3913+ZIzsHmaCcbD0Hda43B9hqnJchR5QeC5Gg5h6N1x16mn6PO7\\u002f\\u002fXtiPjI4\\u002fOD66s3ugtLjb\\u002f84\\u002fc+57rdURREkfdN3WLwT2Tmfvbzj378z9733z\\u002f4zh\\u002f94Vv\\u002fxwff8fE\\u002ffd\\u002f\\u002f87mHfvLffXTwSoyxi8vN\\u002f\\u002fD\\u002f+fgv\\u002fdzrPv3XP\\u002f0TP\\u002fZ9v\\u002fYLb\\u002fjMx3\\u002f68KGZF7\\u002fmN1bXWoMDMi68IAyigheEXHpMSOEHF\\u002f15AQwlt6zXNn8LAMdOLL75Xb9\\u002fbm7tKfoMkluGd34LYIy9860vePjxC5\\u002f\\u002f4hPD+11yy0tefNVwcsvff\\u002fmxL3312Lm59UG3QXKL1ps0\\u002fC0ntwBAo9FcXV297bbb3v72t09PT99www3Pec5zAKBcLq+vrwdBsLi46KqROLIZwP3clVgJgsAYE0WRtTYIAs65tZrIMA5cIGOA2Mv\\u002fy7Isy7LJycknnniiVCoxxtI0dS4EKeVwTTkpeuW\\u002fiUhrnee5Uspa6yqiBEHgeR5jjAETFuHQoUPuiyeeeCJOOq1WCwkAnLHbg6vPcOvNV24Z4q6Gwy03HXyKPs8qM\\u002fcX\\u002fu2r9u4ed3x3YObe\\u002f9DsXfedc906nTRJ8+ffuO+VL712MElaLUf\\u002f8d+8slTw\\u002f+jDXx+SAAwAwEUw9ZfrgL7NA7AZSPtLP\\u002ffaV77syCt+6AOf+NT9x08unTi98uu\\u002f9ek3v+sPf+5\\u002f\\u002f8Hh5JZL+\\u002fzcL3\\u002fynzy55T\\u002f957956NHzx08t\\u002fcUn7n7X+\\u002f\\u002fkssktH\\u002fj9L37sb+7N+4souuSWr9156o3v+N2Pfvye02dX\\u002f+ITd\\u002f\\u002fQO373zrtP\\u002f82H318u9rTHufMbz33xrx490ktucX+nzqwMDj6AMUYI8elPf\\u002fod73jHe9\\u002f7XiKan5+fmZnZsW0H51wpNTIy4ghDGT3YamvcNs\\u002fzTOWXbrXWyuhLt0KINFcXzi8Uy5VTJ08\\u002f58bnhWGBc2mttdbCcJCUJUuau1wVS9Ya0kZrrbNcZXmhUCgUClEUiUzpUqlyxVWHSlFUq9XOnT6TxgkZPQjrH2iAT8eEfTp94Flv5qaZloK\\u002f4iVbQ\\u002fKq5ei5N+w9cWoxz20QMABAZOjW6QAkwGFG45jWcAz6pYkr\\u002fy9Jbjl8aPuH\\u002f\\u002fDHBh8ddu7Y2W62pZRf\\u002fepXX3jrTe985zvvuveu8cmppbWlTqfDGMuyrNlaEByJYFBTv78ltGQRXCX+oa31BAOGSIwAGOMWGVoEhkobncTGUrlYPnbi5GsPv7ZSHet02mgVoHWrYfdAFi25LC8gS8YYa8CiBQSwgUCyloiEMWbXrj0j1TFP4B1f\\u002f6rSGWNQqZZ73ushy+npmLBPpw88683cyYnSSLUQeJfRHmemR06cWUnz3LnaEBGRIzo3KAFwRAtDds7NL7joOi9NXBn+9sn6fLcntxQudqs4nDl7JggCrbW1dmxsrNFaf9WrXrV92+5GEs\\u002fMzExOTi4vbYyPT2Rp4vz7gwgC55UeHR0feP+Ht3HccQlmAAyRQ39iQAhPqWx0x6jnyyAIyqXqC2659b577urWawhaXqyteVKQNhYtWrJkyZBFa4kAIMsEOq\\u002f05NT0vn37fN\\u002ffWFs+deqU5BgEgRQ8ixMAa5ENNI6nNmG\\u002fl8zcA\\u002fsmZ7ZXv\\u002fKNU6955Q3D3Vrt9BOfuv\\u002f2Ww+5fFoAAOTAOBERECBQbwWFnsC57dYXvOmNrx0+AlySuHJZfM8ntwAAY+z87Pn9+\\u002ffdfvvtCLhr1644i5vd5olTZ4vF4s0331yvdaQXGmMGM6HDW84FAEEvInNzi8xFoPX0ZwAEYIg4NjrRaNaEEMYozrmQ4d59U\\u002ffcdVfgSwbM9zfHkidk6MmcLCFCXxghuNBqAiJ000SHDx8eGR1N8+zYsWNJkpDASrmUZdmw4uHwZPUZvvdqOISBd+3VO+6463St0R6tltxOAHj02IVWJxkO0kHssTRHKogM+wINEVdWNi3sZw\\u002f+4I8\\u002fPDt7fvBxcP39z5tzgo5n9vSWy4PQxda7D0DQl7d5njNEIWWe5zu2T\\u002f\\u002f0+9\\u002fj+nzwd39v\\u002fvz5Wq35xBPHGGCr1bz77rtf9vLv45wbY4ql8u7du7sdUy63Gfqtduz7\\u002fiD6ZnjrYnAu0dbIaG3RcgALjJHtr61Ec3NzKDhpUx2rMsZrzeb4+MTRo0cff+BuZpEPzYQKyTzJyXIAJCJyyfwALqs\\u002fz3MhBCKKnXt2Z1k6f2Hu3LlZz\\u002fPAKq01aeWoeAsuW5\\u002fhe6+GAwD84r9\\u002fzW\\u002f\\u002f3udf\\u002foYP\\u002fOBLr\\u002f2h1z6n1oj\\u002f8hP33HHXqQ\\u002f9wb+6fphbD9KB+h8ZYy5RHACIbXKfP\\u002fnIR+cvLNRqdSG4tXRg\\u002f74X3vqijVrtlhe+AFjvGIiMMebSYONOwjhnDIwhrbUxBhE558456uiVMca5q+kJiLC0uNRut8\\u002fPnb\\u002f\\u002f\\u002fvtbrVYYRUl\\u002fUaAdM9Pvf++Puvbs7PnjJ0\\u002f3LusSyiHgl+58cliGMGCyvQHW02oyRAyCQCnVI0EAADh75szqyury8urOnTvPz84VCoWf\\u002fdmfffChN\\u002f\\u002fbf\\u002ffTpVJpo15LUzU+Pt5N6aEHHz9x4sSBKw4NIj4HW0KIO13qZ2EOba0UnNAiESEwYASGASdgMgg930\\u002fiWBlbrzc36uvdbnfb1BQRIVxs51gLZKRgPfdP7yvh7iKOUyKy1oqCLy6s1k+eONbttKNA+LKg8sz3vEFt\\u002fC241IT9HjNzB\\u002fiZ971seqrygT\\u002f80p33nckyPTZS+Mh\\u002ff\\u002fewexBgU+YQ9TJr3c7enr6rDQDuu\\u002feheqPearWKxUgIceTokeuvP3rPAw9kxmiDYKyyhjQpY8BaQwQGgDO0lKo87SapytEScBb5EToK69X06c\\u002fAGtOstyuVSqk6tl5vnZs963ne6upqpVQGAD1cihVw2Hy9RKK4gcIBLBFDpEttiaHtkyKKIpdLQ0RyqE4qEqLFUlhcXV4pF0urq6tXH7rqLz\\u002f6F\\u002ffc\\u002fY1f\\u002fdVf3rZ9usRlWBLnGhvH77lzdWnl0a9\\u002fhQAMkCU0QIasJbQInucRQt+rCb07QspU6m4BcYgFEBSCME26VqvAk5OjY61GfW168vtvuzXIE0DL7aZhZsgayxgTSBYRkRGAxT6LZEy4Jy8CblYXzjVWFyU3gRdqo9I8SxLrKvcRWAB43o2behFczoQd\\u002fvbJ+ny3mLnDeMsPPf+VLzv6+In5sZHSnt1jl3oCCYjAVfYjAEBA6ftKZVpbAGRDdQ7LhVKr2U66caVcOHLt1eNjZZ13kNn7Hzq2a\\u002f8VDLDWaPoy4FLEnVRbgwSFUjFLMmU0kphbXNi\\u002fd1+m8pgYEIAlAANg3LQcEhSLUXl88gtf\\u002fPwtt9xSGhntHH8iAChXKmEYZlmWD5VDsJb5QbFXDRite8WO5t3XAABAgARkgQGQBSSG0Ntz8daaYdpzLQIApZTneZyjUpANZaQHGCYbMRL4IONu1wv9HdM7PMEWz8\\u002f+m\\u002ff91E++5923PP+mxVNn7vmff2HOnRFrtWlNtUaDJOd+0M4yQBYUCoazOM7a3Vhwr1AoZUkGBo4ePXr77bf\\u002f2V\\u002f9ubI2TdM0SxBJCuZLFnm8vXouRPIZBBnw5PzBUnlC0cZ9X7pp78EzF+azen1whbmiVAEHYsg4I4HIuFt\\u002fjwiYNhoMgTJi8cJsq76eZzFjzJIhIsYYcj7gSrfe9Lwfeu3WuKPvYTN3C8ql4AU3Hti6t49Go+ka6HzQ4KYHrLUWEfuDEQAgCMLaRmNycrJW2+i0Gju2b1tZWSqG0YXl1U43DbxQadIqYyK3BpDzuJN003VfBoY0A37+wny1MlaqlNNeDhbrTRugZQQIVGs0jcq9IFpeXt6zb+9Xvva\\u002fyr6vVY4crNVmaPqy0+kmScYYA7DgKqVs6iq2x8HBIiA4v7obCe5uLt0C9FSlS6C1znOtlNJDFYZzMn6ppHXOQOYtHRUK+w4eeOnLXvzxj340aTX+8P\\u002f6b603LE6VK43TZ0p5Oj5StgoaDBOjc86KDBIEDBj4\\u002fkbHSK9MgMYoCxoQLyxe+MKXPz+\\u002fcEEIFgReIJAhToyU9+3evn105Otf+FzVkyOSR9YWLI4D7hBeOSqdX1wwSVwa71nCAFBvtlbXNkYqoxxJIBi0jFvgFjkBgOdFTtiKU6dOra2taa09zzPGWGvdxOpgYZzl9WejmQsAf\\u002fAnfz574QLrp0xAXzQDADq+BwDgPCK9T9SvbXlZDEzhwXEAYTheoW8Buz5QrzdXVtf6NON+tdlGxGHbutlqVaqldrvped7sufNLS0ulUqFUHsnSOO52OKA1WucaOQompJCFKGi2m9wPyEKWxLPnzpYLxV27d4flIgAAMaea9wLkyaZpKhgk3bYnd2yfnrr6qkPLy8uRH2RJwjkvlTb9HIzzSqXSbrcHey4Lp38ON\\u002f5REEIw5nwE0htaD8J4oIpifn5RMJ7ZnLSodVrXj1TTNJWM75jc\\u002ftlPfuq6K6\\u002fePjLtVWB1YSlJkjIPfAFasgJn63G3HidEVB0bNULIQlQqV70wIgBrgSP7ocNv6bSaYHXa7azNL5i4s3pybqn16BSE2zCc4mGRTGjMeB7uVZUAq3kFF3OVZptSsVQuVyqVXKUc0AAhs4xZ4AYYICJD3w0usbCwEMexi0EA6DmOh58UDbmSf\\u002f+PPzw3OyuE9Hyv2WwGQVAqFi\\u002fMz+\\u002fdt39iYmJqamrPnr0zM9tLpVBwIACykGtwcV5xCl4AKgfpgcpBeAADFtcf6wjA+o3lxRoCfPV\\u002fffXhhx\\u002faWN+YGB8jou0z0+999zvcxcyenz124pRgvUXLYJhy+qMZ+pTjPhIRv6hS9EW47HGGPemDgwz6uBMNnY4h9iIDGRNcbAY0+J5kjJ0+fXrf\\u002ft0rKyudTqder\\u002fuFciEISOV52gWtrM6ZZYZpMjnnnFSu80RKqcBMjFRDXxQiP+l23fMBcIzeMgAAGwRBIQpGqmXGUDIWSG95YbFcKhEZY4zSm3r89unp8xceQHSPHACo\\u002fwfQ19q20MzgYV6K\\u002flfDHQgAOp2OEMLzhBDiIsoh4\\u002fscwErfD6NKo77xt\\u002f\\u002fP39x31x1po7Fw5txNR47u2LN3fnklrjUpTZNO1xjDpUi11SisEApsqg1HmqhWu1ZVx8b2X3nF6Oh4N06VMoEvI+nX1lcF4zpNIi7SZh3SuNaNLUBC2M6VsaCJuDFBnIhGY+rGI2Ok2kMeRQLQbrITDBEgWSQDRBYNAGjVckVvhEuHCMNQDi3hZC4yKDdx\\u002fsL8ubkLeRoL7mmthR80m81rjx55yctfeeMNhwDAAmgLnRRUbDlnUkCeQ6LBGJifX9izfyZNqRqgEbC8lqAbZb2VxlyUEQCBEFCvtQDF9ES1MjZZGRlfW6udOHEa0Gq9qa+jsUgWwMKQIf5tw4BaBsQDAETEGAOQnDPO+bBlLD1vdXX14MGDWR7HcbywsBCG\\u002fqGrj1QrJZ1nsVbOgUaMKWuTJNFaK6XWVpYLhUKn0ykXC2ncXV1cSLK8R8pomRvlBIC20WgEUgohHn7w\\u002ft07d2VpXK2UgiAIgmB8fPzokaODKxkfH+92u8XiZazTAS57a1s7PSXCMDTG5A7Z5lvLmu1A06gXaqUECcrzOMvOttvbJ6dGt2+78+GHf+Rt\\u002f\\u002fLRtQfW4mbIRJd0sRwpozea3TTVzEYpaV4Mq+NjcRyDYJKQZ5olKrIgZVAIomIxioCIaG1dNTvNWrPGBcYl2VRqwXSFMh5iUYii1AVt+Fpt\\u002fOGsq9XIzt2DK+wknVanWQ5LCMAcQQCzoA0CI0jTtEc5xhjuRm6fvzo1\\u002fUnsEIuWtNatZmd0YjzLsvHJiff9xPvHJ7flFiyA0ZBpyHKwFjiAAeASavU0igLiMs0g03ZxxRBRsRgaAmvBEGhjTa6JiMhIITzOL8wv7929a\\u002fb8KiGcOHXy5MnjE6MjCC5vrAfO4CkEyLcBw4x5MNSstUSE6CT75uUplQnBJibGlpazffv2Pfzwoy960YtmZ2c\\u002f\\u002frG\\u002f7sSJNYQMtDKMo9G23Wk5\\u002f2uj3vQDr9uJ\\u002fcDL0hwYpkO2vnuvAIAAWmutc855sVi87sjRUqEoGI873V27dm3bti0YWvtxfGJiZmam0WhsypmnlDlPTTP9b4f7EAB4noeIrgT80FfQWF3jxkyUCmu1jTSJO43mwYP7pe+tLC2Pj43ZoP7BP\\u002f2jSHgcWSEIO0mr6kOSxW2daCCWWkXEgXi3Y4iPjo5Cls+fObfuLZcKxdALa0ZbNJ2ki4y107ibxDkRGdthkKFWOtdKSYQCegFZTFLetuHGerlYOTS5WaNGep4QgphLLbBEYBEsoSW0lrCfOCAG4oWI3JMCAGf2DI41jCzLGGNhsaC1DsPwta997ZUHZx5+fG73nt3KgrFACMQBOcsNWOe\\u002fYYJxaLW7G7WTR2+4ot1GY00r7oUSWufvQ2eq8k43abUaaZa3u\\u002fHZs2eIaG5urt1uj5RLyMhu2rKACFzgxUl33zEMRlieawBgjABA9xOhAEBr7fv+yZMn\\u002fcA7dOjQ2XOnd+3a819\\u002f87fv+NodjVaHcykEc2sGC+HFcScMC1rnaZpzjpzLYjHKc22MCaItQRIWAJAgiqIkS9cajR07dpw8\\u002fsSb3vSm1eXFtY2NxcXFhYWF0ydOvvl1L3c\\u002fqFQqfcp5UgxGwnBja6enhDs+5+j7vjdUxyLrdtorq4euOYzVapylc3PnjDG1lZXq+MTy+vq2fXsXLlwYqY6sLq8kKt++b8\\u002fS6mKiEvSFF\\u002fh5rpM8ozRuZ8n46FTajVe6WdrpGmVC4SGxNE3DapSTcukfudG51blSiSsxxaQUXCIAk5Y4YwwElIvlUrE4zFkQkRCIDBFYskTWgNFojCUgClivRKFwEdTuxTvFCfrWzuXAhO+pzGyb2ra6ulqqlG94zo0nz67m2miCNNNxmhlCIX3OubKktRZApZJXb+Vfv\\u002fOuEydO\\u002fPyen9fGGGO4Jx2tWmsNWceqiYgjW1pa2bVjJs3yTKlA8G7SRQ6WNFqyQ2ORMcYY+05RzrCcGW64eTD3GI3avNqFxflWqzE+MWatXVlZkcJfXFw8f25WMPQlD4NQepy0AbTFQrEYeSPVsU63ZQ2kWex7oSUtkBmrGJGLy+qvL9Kb0fAE84Q4uH9\\u002fs9lsNBorKyulUqkTx2dPn5nZucP3N0dGEsczMzOPP\\u002f74YM9lMaCZbw0jIyNZlmVZkqZpPFRhOCpG995zWkvGfW9iarJYrew\\u002feGB5bXV5adXzvOXl5R\\u002f50R\\u002f7xte+DsDiTndlbWN0fLzeRMYEl1KZDpdCCt8Y0+52arUaWpRcCGBN1USLKLC+3GQ+B4A0yzKtACAsRCOlSqfTkTzyhDMLrEAeSt+TPM9TP4gKlfLgComoXC5n3QQsIRki0kAarKvXajg4x73wfX\\u002fwAwBwVOSq5rg9ZoiK8jzPskwIb3V1XQjvRbfeNjMzk2u7tlFLklxpQ0QAaIwxhnKjlVIBl6sr7TzPb3vRi2970Yvrtab0PSEEIgcgt3CVBdDaEpFSqt1sjVTHpJQqS2655ZY\\u002f+L0PTm2buDDXbbUapVJR94PeAcDz\\u002fI31elQsIfYGroNruz7uFhxN9toX6RWbGBAAPAl\\u002f3fKtu5LBiQbnLURFa22e54VCYVhuT01OWDIrKytXX33o5MmTr3\\u002f96++\\u002f78GzZ88y4RejkIh0nkWhD2CNzhFss1EDsAAs8CSA5QjCEwDMeXAAGCEiMULuHMJJN96+bTqO42JUYILfeeedt99++7ETJ3bu3NnqtP1wk3Lanc7ExMSRI0fuvPOObdu2KZ1tbKyNjFa73S7nyIaMxsHTG+zZcr\\u002fDGOpsAaDT6Qz2DM\\u002fDBpMj0a6p+bR+9b6rL6yvy3Jh+67djx47bnIjOC960Sf+7C9VmlmlOWCJe8lq3UcERlblkfAizzfICMAAF4HvHMTk\\u002fgNEImYUkgVgoRQFAgRAAuhmZRIsZ5yIW8MJuNUAOkEry97d998fjI0OrlAK0WzUPOQ0qLyMgEwgAoM+Abmc0GFc+piGXatSyomJidXVVUSe5tnha6+xwNbW1qSUeZ7nSufaGELGhCVSSimlgvIIR+KIxIAIkZHzCNXXN5xsI0aMCSKDyMHS3Nzc\\u002fj27W61OnnZo+zZ3DX4ggyhsNpvVkZHBxQjPL1dH3FTxlrFOz4xffusgJEJrQSmTJpkaGjE7ds586R++vGfPrizL4jiempr6whe+MDExtVFvAEBP6eoRr2NVgy0CuAWoLQCw\\u002fn5LAGCRwA0bpVSj0VBKEQIq1FpvrNd37Ni1srZarVZh6PlsrK+Xq+PVarVUKnW7XS7Q87wsy6y1QRAY9VRCfPBgtzzhy\\u002fKay8JyLIxU4jhudGPmCTB6fmnRGBPHsUDGgdtMZWlqMwWAXECmE0IDjFkEArAcCZhBZoAIGGEvwIkQkJABSYaMLABDcnZgj3gEceZ+QMAJ0M30IvGUCIaipABylSmlfMkZuD6AhAAEPQdwDz3KuZS7QJ9y2FAaGWOs1mhawHKx1Gw29+07UCrCMqLv+0RkjNF5lmtjjMm1TdNUZ\\u002fn82Vltcq2sNjkQQw5S+pxjliliJISHHBgKIRkC55xHvscFEhnO2fzC+bnzs8Yoxlin02k0GziUMJekqlyuZllGRNRPtXWNwcV\\u002fp+DcSnZIQuZ5Pj09xTmfm5urVEYajdbCwlKn0xl0GAi9QcO1B9vhPTDkT3QhDL4fam2RCc4YESWZqjVbBw8eXFpZHhkZEUOrAK2srhjiY2Nj27ZtO3funJDM87wkjRljQgg9tNDiMLZc26DRu1Lc7DPcuBQS5EhU4Rq79XapVGLAFy8sGmURERhagpxRDlaBAQBGgKEk5EAMEQGBAxByhiCILEJP2LhxTYwReAwBLQBYAELmItIIoZs5lnDRqjHCUqhyxsWwdZKnmVEKhd\\u002fzmyA4roWIBDS4NXHp3bqG860R0XA2S57nzWYzy1WaZDt370qS5MzZ5rFjx5rt1sLCQpKpbrebZVma5WmaxnGapmltdc30YaEXpMgYO3LdUSKKigVjDCJ6nkdE0g+3b9++tro8PTW2b++u9ZXlc2dOG5UkSXzw4H59Wp+bnRtcDPd97vtCWwLrlExjnLr4VG\\u002funxvWWs6llJKxfiAnAAAUS4VDhw5tbGzU6\\u002fXpPdOzs7O+79fr9UKp7DoMj0hEHPx2SwOhxwgHcEqBENJYyxhzK6wKZOtrG3v27fV93\\u002ff9KNpMhYrjZGFhYXx8fNeuXfPz81meCBEAgJsKH3Tbgid\\u002fpL1LGXryT9YTAMAHzjJbEmG727GxCrmn4tTkijGGjBGh4Wg45hKJCF3MCxIAIfYCFbjTuC0xgN5iye7QRIA2VwoAqEcwzLpwTgTh+YBgEQiBAAHJAjJDpms9IdVQjIXRxmPcCSUGYAkIGCMgAELmSBK2yJzhhnuF1lprN59mkqTS88+dX7Bav+QVP3D3vfc+9NBDJ06cSJKkXC5nSqdpqpQyxiil0jTNUlXwA+YSvhizCADAgJDsXV\\u002f\\u002fGhEVK2X3E8\\u002fzcqWKxWIQRACwfWbq9a971b49O0dGKyePzzOgkydPFgqlqFAYXEynmxaK1SxOnvJNfbtBhC5bXUqOvcUaAQCOXHNtp9NeX1+PosjzvDRNsywvFksEjBAICBCAiIgGjmFwbwHcJyRwQ2fzddgex2UAkOWae1ITZWkmhBCeXF5dO3vmXKFQ8jxvmHIE5xfm5w8ePLht27apqamFxQvWWlcfMI47zuPw9IHghA\\u002fB5UbRpfBAqEZcLpcJVdpKqqMj1ai8lC\\u002fnOgfODIPM5AnkKeSEAMiQEQAgWiTgwAShAcMtMEvMAoLhFnpeEjKWgUJrEMBpWRYAgQEwAJt13fBDAARGaDkwIht4RY5sODqJI0Z+ANayTd2FyLrlYawBckrgpsyB\\u002fg27rePfTlYMOliySytrALDvwIHp6enPfvazTzzxhCOV+fl5rTUZg0gugcEYo7VVAEAEAC6lDnpiFMarZWXN6Gi13W4nSSJ9L0lsIQpnZ2cLhcL5udPlSB756Z+8+fnPO3\\u002f2tBDsyJEjjz1xbH5xYXAxfhC1k5bWGsg6Ih8m+0G3bzOIiDMphGHsIkug1W6++MUv\\u002fvznv7i2trZv9752u72+vo6cEyAMTZtcKmoGbUQEBDQcXWIv9KQNABIAk7wQFZMkkT4DAOkHeZ4vLq9MToxWq1WnQThwzhuNRq1W27lzZvfu3Una7Xbb7kDGGHH5ebyLiGFwte6b3n+bg+dJyQYAgGFuibiUftju1hCxVCpZYxBcdAtaIYyRiIiIILHd7RJaBOCARIwIGCC5Qk8EDEATsD61GwvGQ8N6Fg4AIAEjQADfH3jzrSMlZwsFcqukFZxzzsFoAGDkDE3mJB4hA3JHGPIQDJMNADjv6hb4np9lWbk68pKXvCyO0yeeeCJN04mxEWNMHMdGMDKWCyal5Jxba43SVhnHFF0mBxERkQXKs0QZDbas81RlCSLlaYImn9m2zfd9o+LHHn3kxMlj199w3ckTTzz2+CPrtY08z2987vMGF9NN0oXFJWY0h56S5vAdJBsAcNq3tVbr3PRj\\u002fwDg4UceefkrXnro0BUbGxtKqVqtRkRppjzfVWclJ3Z6jU2q6EsbRAJgPVdBf+FhZABAwBDA93zf97tJGkbFNE2tAcE9a621dufOncsLS4Mr0Vpba+v1+tTUxPbt29ud5tzcuW7cSdOUc375ukL9p\\u002fpkz3l4\\u002f1Mjk4ijpcQXGTETehmCFcxYS9ZyYBJIWvCRGwTOOSLftW3MqaYD9uGkMBG5\\u002fY4RO3lCCJxJAEBnI5FlAE7v0nkOjscMUQ4AxN3cWuJDUfBccKNz3lv0GRABnYuAMQIL\\u002fRe0VVsbQCmFiFuU9SAMD197zezs+YmpyfPnzxOCECLJMyLyPE8ppUERkda51qC11rkKZIDMonvJAESkyTIiozOrNVqNVgNpgVYAeQyJbB53t2\\u002ff0Wis33f\\u002fw297y7943vNfeOed9+zZUyIU40NzvXmaobFGKcKeWHVwbXCsj5D6WYsEgATE3OP754JFZUjnOjMqz4YUXQL4v\\u002f\\u002fkT979nvdIL1pd3YgzKJQnTLNjwXFpAreOMPReDPRvpH+xDAAMMssAwPKLb8Eg5lpTbmtxNhoUOmkOSVoMIzBocjMzuf38mdlB50ylXLIk6SZpd3x0bGJsdHV5qdGsE1GhEKonKbvlRsil1IL9jMnBnuHGpSDE4mhVZbmyhgeeApNpRWC63a4STDCOlowxQAaZ5JK10mSYcty8OUGPciyCcaZL\\u002f7qsJidnAJyhYpEYglWpgp4rclMiWWTFUkVZzYcziBjPlfWYRwCOfVm07lcWbN+3CcJ5otytDt+wq2GltdZDS4ukSbKxsXHdc67zQq\\u002fRbiR5Nj05Za1WSjUbdUQ0xlilhWS+7wtPWqAk6yIjR4QckDEmGEdEhhI82axtIFHJ90nroud3681iWM6QLS+tWsEeePzUD3SNkJXdO65+8P7j3\\u002ffyl1aHKGfvzh0P33v\\u002f2HjFEQ0AACGAmwAGpVRQiEhTludCiFzl3W4XEUfLJecX34LeeH1yDDoM9xyMo14DyQtEqjp+KLUAz+vNlQFApvJOkp6enXvrD7\\u002fzD\\u002f\\u002fgT5M8CXikqZmkTUuKrDVGueWQ3EIxAGCtNYastQiccymEQMFRCqVz31LkeQhW5cZwJqKiV6hkTFR27RNc7BjbVpK8KGTI0Wpz7vjZKNy0D\\u002f1SUO9unJnVZ88ed2OIiDwhCSHPNX8a2toA2FPbeoOpT1boRgIAADBEHM7w27trl8oyMrZYLHZarWIx2jY11W3VkzgGsL1IdkRGFpFbsIz3f0tERNY9fKLByQB6AsfBmB55OCA4i4d8GfQkBpFbUsQRfhAWslxfdfXVg590uhq9imGMcex2u0B6dLRKZJqthtba93ozY1vncwbIskwIwTn3egsmAgD4QXDFVYd27d59bvb87Nyc74WZVlmWJUkXkXHJwzDinBljtM4RebHoxWgYgHuabny7j5Y0UG9BQneniMgI0zjhYRgUCjlSJ81X1mpRWLnm8PUj1cl9+68ScnMsFnx\\u002f366drW5rwG+GgVwaTQDAGDMEfhh5QWhUTgM16FvClgFEl04coXUsii7uPD4+vry6srS01Kh3PRmMjZatkeXSWKOzRqCIjCVjjLG2Rznkoit6lOPyECVxlpmsVrNM0MTU1EiplGtFXPojo22NCphFJoBCopBskUASMTS15dXyUAV6S7pUKgBa9+ARgPqPZMs1D+Myd9rbefn+T4Z\\u002f91P\\u002feuuuZxkKxXJuwCodBB7z\\u002fFzZTtyVkvmCg9HO3IGnoJzBY3JCyUGpfNvU9lKpctdd98zPL1YqI1mujaaRkTGBrNGotTuxlJysjeMuAEZRiMAsWOoJNkvOxwgsiiIAxqFHToiIyJCYSkyeKWWVFczFFI+FxdHR0VKptG1y0g7Fs8RJPBxSsAVCCOey45zn2hSLxUqlEnfa9Y21rV2fBtx4uuyockNqeGAhERC5tOFBt7jdatdrzbW1tXylHHpZhrWNVlgoFqPAokdkCNx8lAHoOTwQkXPpeZ7vRUEQ+H7IPHlhaQEAQGWlSrlSKjfb7cxYMtYTAeecAAWRb7RUBnVOxnhSrsyfn9h+ZHAlYE2xGGXdGIB6fMzhshxoCO72t9zsZZ8J9Lu59syOXo2K7wocueaqYyfO1ev1PM+lYIyxJEmIZCCEtZYQAb4Z5SilnLNysPPmF7yg1s6A4ZX79u7YNlWIorWN1XajNT297YqDB8+cPj2\\u002fMI8InpBZngORH0jOOQNrnfvLABA5J5tRpkct7p\\u002fLNwAWelGSpY081Rw5FwL0trHq9tFqsVySobfaWB1cjDVGDZngW8AYc5TDGDMmLxaLMzMz9Y312vqq47X\\u002fWAzGwfBYcQNoQDzgHioxIISLTe12o95p1CSYOO5yJVQrNe2EeZxAW2fnY499DH7CORdCep7neZ6UUgiBnE9MTREjitNyKRKcSymVNUrpNOsQ95yliyZHpWyWospSBt1OW3U3p1w5AsMnFRXUnzZ5MlzKKZ4Mg4fz1a\\u002fdNVIZec+\\u002fesfWHs8+fObzXzkzt7xjxw5rbbNZJwueL5XOlFI+Z0II1X+tT0o5vu93Oh1rrRhKz3rjqzeLy3yHsFmIME6zRqNVePICa45tE5Exxvf9arWap5uhh\\u002f8oXJZs3Mdh4gEAsAhkwRIAw6HOUxPjlTCkrJs1NuJWlqUwGpQLvtBK55wBDAZsj6W5o2mt8zxvmo4xxhjSQOB5jIFn7Uat4QG4aeU8V35YQOl5XHhoZa5ZrjDv2jSN447weKu2WZ9WMMzjrUsPEPRCTIgub\\u002fH1+MIlnAIu23sIruff\\u002ft1n77jz7onxEZ3nQeAnaWLJSsZyra3WaZbqLCMAIGOtE7kEQADk1BVwMr\\u002f\\u002f+Le8hWEMV4gexvD1Q892AADw\\u002fCDXVgqvWK4a4IXiSLFUGRkZ0VrHcSfPkkIxEBBmWay1FkI4DQmegnKEEIwxa+3E2MjW754d2Ltz5htSPJmKYYyTaai1JiLOOee8\\u002f76f9Lk\\u002fNdzTH35t7oCD8eT2AAAAQ2uGmfeVBw5krQZoXSn4Be5L5hfDCgbFcjCmOO9ra0BkgYanFxgAWAvGGKOtBvAKxSgKBFoTJ8zYIAiA81QpFhaQM8kYao1JRzd9FSAlEqpBaaRaHKoaxxCyJPE8HwERYEvU1lNjcI+Du34yDPq4n1hrV1bXVlZXrM6l7OW2cAZaa6UUEXVaDSIiY63Vtg8isqQBgPpw7cH2UjB80iENANh3Fw9AyJShMCz4UalYrG6f2YVMcM6npqZarUa9ts4Y455nTO5Wj3dkA09BOUmSMMYYY1+\\u002f695qtfKut\\u002f+LrT2+o\\u002firv\\u002fvCP9z5QK5MAJcvwa615py7BgAQUZ7nT6HdfVNc9oXRJarLcAfj+CUAAPzAq9\\u002fwA69+w+DjdxBoLEdy4SQDOA8vATD7zWXO8B64bO8+Vx88mf6DAs65MVYIAQDWuIK3xBjzvZDAkLHWSmOUMT3hY9wMysXEAxeb3xeB8CLjrY8BwbhRPfhoyAKDIAi4EJ1OZ3V1NYyKY2MTjLF9+\\u002fYtBd7a+rKTNqSsMQaFdMTz\\u002fwM4d+65GD2jAwAAAABJRU5ErkJggg==\",\"type\":\"image\",\"xaxis\":\"x\",\"yaxis\":\"y\",\"hovertemplate\":\"x: %{x}\\u003cbr\\u003ey: %{y}\\u003cbr\\u003ecolor: [%{z[0]}, %{z[1]}, %{z[2]}]\\u003cextra\\u003e\\u003c\\u002fextra\\u003e\"}],                        {\"template\":{\"data\":{\"histogram2dcontour\":[{\"type\":\"histogram2dcontour\",\"colorbar\":{\"outlinewidth\":0,\"ticks\":\"\"},\"colorscale\":[[0.0,\"#0d0887\"],[0.1111111111111111,\"#46039f\"],[0.2222222222222222,\"#7201a8\"],[0.3333333333333333,\"#9c179e\"],[0.4444444444444444,\"#bd3786\"],[0.5555555555555556,\"#d8576b\"],[0.6666666666666666,\"#ed7953\"],[0.7777777777777778,\"#fb9f3a\"],[0.8888888888888888,\"#fdca26\"],[1.0,\"#f0f921\"]]}],\"choropleth\":[{\"type\":\"choropleth\",\"colorbar\":{\"outlinewidth\":0,\"ticks\":\"\"}}],\"histogram2d\":[{\"type\":\"histogram2d\",\"colorbar\":{\"outlinewidth\":0,\"ticks\":\"\"},\"colorscale\":[[0.0,\"#0d0887\"],[0.1111111111111111,\"#46039f\"],[0.2222222222222222,\"#7201a8\"],[0.3333333333333333,\"#9c179e\"],[0.4444444444444444,\"#bd3786\"],[0.5555555555555556,\"#d8576b\"],[0.6666666666666666,\"#ed7953\"],[0.7777777777777778,\"#fb9f3a\"],[0.8888888888888888,\"#fdca26\"],[1.0,\"#f0f921\"]]}],\"heatmap\":[{\"type\":\"heatmap\",\"colorbar\":{\"outlinewidth\":0,\"ticks\":\"\"},\"colorscale\":[[0.0,\"#0d0887\"],[0.1111111111111111,\"#46039f\"],[0.2222222222222222,\"#7201a8\"],[0.3333333333333333,\"#9c179e\"],[0.4444444444444444,\"#bd3786\"],[0.5555555555555556,\"#d8576b\"],[0.6666666666666666,\"#ed7953\"],[0.7777777777777778,\"#fb9f3a\"],[0.8888888888888888,\"#fdca26\"],[1.0,\"#f0f921\"]]}],\"heatmapgl\":[{\"type\":\"heatmapgl\",\"colorbar\":{\"outlinewidth\":0,\"ticks\":\"\"},\"colorscale\":[[0.0,\"#0d0887\"],[0.1111111111111111,\"#46039f\"],[0.2222222222222222,\"#7201a8\"],[0.3333333333333333,\"#9c179e\"],[0.4444444444444444,\"#bd3786\"],[0.5555555555555556,\"#d8576b\"],[0.6666666666666666,\"#ed7953\"],[0.7777777777777778,\"#fb9f3a\"],[0.8888888888888888,\"#fdca26\"],[1.0,\"#f0f921\"]]}],\"contourcarpet\":[{\"type\":\"contourcarpet\",\"colorbar\":{\"outlinewidth\":0,\"ticks\":\"\"}}],\"contour\":[{\"type\":\"contour\",\"colorbar\":{\"outlinewidth\":0,\"ticks\":\"\"},\"colorscale\":[[0.0,\"#0d0887\"],[0.1111111111111111,\"#46039f\"],[0.2222222222222222,\"#7201a8\"],[0.3333333333333333,\"#9c179e\"],[0.4444444444444444,\"#bd3786\"],[0.5555555555555556,\"#d8576b\"],[0.6666666666666666,\"#ed7953\"],[0.7777777777777778,\"#fb9f3a\"],[0.8888888888888888,\"#fdca26\"],[1.0,\"#f0f921\"]]}],\"surface\":[{\"type\":\"surface\",\"colorbar\":{\"outlinewidth\":0,\"ticks\":\"\"},\"colorscale\":[[0.0,\"#0d0887\"],[0.1111111111111111,\"#46039f\"],[0.2222222222222222,\"#7201a8\"],[0.3333333333333333,\"#9c179e\"],[0.4444444444444444,\"#bd3786\"],[0.5555555555555556,\"#d8576b\"],[0.6666666666666666,\"#ed7953\"],[0.7777777777777778,\"#fb9f3a\"],[0.8888888888888888,\"#fdca26\"],[1.0,\"#f0f921\"]]}],\"mesh3d\":[{\"type\":\"mesh3d\",\"colorbar\":{\"outlinewidth\":0,\"ticks\":\"\"}}],\"scatter\":[{\"fillpattern\":{\"fillmode\":\"overlay\",\"size\":10,\"solidity\":0.2},\"type\":\"scatter\"}],\"parcoords\":[{\"type\":\"parcoords\",\"line\":{\"colorbar\":{\"outlinewidth\":0,\"ticks\":\"\"}}}],\"scatterpolargl\":[{\"type\":\"scatterpolargl\",\"marker\":{\"colorbar\":{\"outlinewidth\":0,\"ticks\":\"\"}}}],\"bar\":[{\"error_x\":{\"color\":\"#2a3f5f\"},\"error_y\":{\"color\":\"#2a3f5f\"},\"marker\":{\"line\":{\"color\":\"#E5ECF6\",\"width\":0.5},\"pattern\":{\"fillmode\":\"overlay\",\"size\":10,\"solidity\":0.2}},\"type\":\"bar\"}],\"scattergeo\":[{\"type\":\"scattergeo\",\"marker\":{\"colorbar\":{\"outlinewidth\":0,\"ticks\":\"\"}}}],\"scatterpolar\":[{\"type\":\"scatterpolar\",\"marker\":{\"colorbar\":{\"outlinewidth\":0,\"ticks\":\"\"}}}],\"histogram\":[{\"marker\":{\"pattern\":{\"fillmode\":\"overlay\",\"size\":10,\"solidity\":0.2}},\"type\":\"histogram\"}],\"scattergl\":[{\"type\":\"scattergl\",\"marker\":{\"colorbar\":{\"outlinewidth\":0,\"ticks\":\"\"}}}],\"scatter3d\":[{\"type\":\"scatter3d\",\"line\":{\"colorbar\":{\"outlinewidth\":0,\"ticks\":\"\"}},\"marker\":{\"colorbar\":{\"outlinewidth\":0,\"ticks\":\"\"}}}],\"scattermapbox\":[{\"type\":\"scattermapbox\",\"marker\":{\"colorbar\":{\"outlinewidth\":0,\"ticks\":\"\"}}}],\"scatterternary\":[{\"type\":\"scatterternary\",\"marker\":{\"colorbar\":{\"outlinewidth\":0,\"ticks\":\"\"}}}],\"scattercarpet\":[{\"type\":\"scattercarpet\",\"marker\":{\"colorbar\":{\"outlinewidth\":0,\"ticks\":\"\"}}}],\"carpet\":[{\"aaxis\":{\"endlinecolor\":\"#2a3f5f\",\"gridcolor\":\"white\",\"linecolor\":\"white\",\"minorgridcolor\":\"white\",\"startlinecolor\":\"#2a3f5f\"},\"baxis\":{\"endlinecolor\":\"#2a3f5f\",\"gridcolor\":\"white\",\"linecolor\":\"white\",\"minorgridcolor\":\"white\",\"startlinecolor\":\"#2a3f5f\"},\"type\":\"carpet\"}],\"table\":[{\"cells\":{\"fill\":{\"color\":\"#EBF0F8\"},\"line\":{\"color\":\"white\"}},\"header\":{\"fill\":{\"color\":\"#C8D4E3\"},\"line\":{\"color\":\"white\"}},\"type\":\"table\"}],\"barpolar\":[{\"marker\":{\"line\":{\"color\":\"#E5ECF6\",\"width\":0.5},\"pattern\":{\"fillmode\":\"overlay\",\"size\":10,\"solidity\":0.2}},\"type\":\"barpolar\"}],\"pie\":[{\"automargin\":true,\"type\":\"pie\"}]},\"layout\":{\"autotypenumbers\":\"strict\",\"colorway\":[\"#636efa\",\"#EF553B\",\"#00cc96\",\"#ab63fa\",\"#FFA15A\",\"#19d3f3\",\"#FF6692\",\"#B6E880\",\"#FF97FF\",\"#FECB52\"],\"font\":{\"color\":\"#2a3f5f\"},\"hovermode\":\"closest\",\"hoverlabel\":{\"align\":\"left\"},\"paper_bgcolor\":\"white\",\"plot_bgcolor\":\"#E5ECF6\",\"polar\":{\"bgcolor\":\"#E5ECF6\",\"angularaxis\":{\"gridcolor\":\"white\",\"linecolor\":\"white\",\"ticks\":\"\"},\"radialaxis\":{\"gridcolor\":\"white\",\"linecolor\":\"white\",\"ticks\":\"\"}},\"ternary\":{\"bgcolor\":\"#E5ECF6\",\"aaxis\":{\"gridcolor\":\"white\",\"linecolor\":\"white\",\"ticks\":\"\"},\"baxis\":{\"gridcolor\":\"white\",\"linecolor\":\"white\",\"ticks\":\"\"},\"caxis\":{\"gridcolor\":\"white\",\"linecolor\":\"white\",\"ticks\":\"\"}},\"coloraxis\":{\"colorbar\":{\"outlinewidth\":0,\"ticks\":\"\"}},\"colorscale\":{\"sequential\":[[0.0,\"#0d0887\"],[0.1111111111111111,\"#46039f\"],[0.2222222222222222,\"#7201a8\"],[0.3333333333333333,\"#9c179e\"],[0.4444444444444444,\"#bd3786\"],[0.5555555555555556,\"#d8576b\"],[0.6666666666666666,\"#ed7953\"],[0.7777777777777778,\"#fb9f3a\"],[0.8888888888888888,\"#fdca26\"],[1.0,\"#f0f921\"]],\"sequentialminus\":[[0.0,\"#0d0887\"],[0.1111111111111111,\"#46039f\"],[0.2222222222222222,\"#7201a8\"],[0.3333333333333333,\"#9c179e\"],[0.4444444444444444,\"#bd3786\"],[0.5555555555555556,\"#d8576b\"],[0.6666666666666666,\"#ed7953\"],[0.7777777777777778,\"#fb9f3a\"],[0.8888888888888888,\"#fdca26\"],[1.0,\"#f0f921\"]],\"diverging\":[[0,\"#8e0152\"],[0.1,\"#c51b7d\"],[0.2,\"#de77ae\"],[0.3,\"#f1b6da\"],[0.4,\"#fde0ef\"],[0.5,\"#f7f7f7\"],[0.6,\"#e6f5d0\"],[0.7,\"#b8e186\"],[0.8,\"#7fbc41\"],[0.9,\"#4d9221\"],[1,\"#276419\"]]},\"xaxis\":{\"gridcolor\":\"white\",\"linecolor\":\"white\",\"ticks\":\"\",\"title\":{\"standoff\":15},\"zerolinecolor\":\"white\",\"automargin\":true,\"zerolinewidth\":2},\"yaxis\":{\"gridcolor\":\"white\",\"linecolor\":\"white\",\"ticks\":\"\",\"title\":{\"standoff\":15},\"zerolinecolor\":\"white\",\"automargin\":true,\"zerolinewidth\":2},\"scene\":{\"xaxis\":{\"backgroundcolor\":\"#E5ECF6\",\"gridcolor\":\"white\",\"linecolor\":\"white\",\"showbackground\":true,\"ticks\":\"\",\"zerolinecolor\":\"white\",\"gridwidth\":2},\"yaxis\":{\"backgroundcolor\":\"#E5ECF6\",\"gridcolor\":\"white\",\"linecolor\":\"white\",\"showbackground\":true,\"ticks\":\"\",\"zerolinecolor\":\"white\",\"gridwidth\":2},\"zaxis\":{\"backgroundcolor\":\"#E5ECF6\",\"gridcolor\":\"white\",\"linecolor\":\"white\",\"showbackground\":true,\"ticks\":\"\",\"zerolinecolor\":\"white\",\"gridwidth\":2}},\"shapedefaults\":{\"line\":{\"color\":\"#2a3f5f\"}},\"annotationdefaults\":{\"arrowcolor\":\"#2a3f5f\",\"arrowhead\":0,\"arrowwidth\":1},\"geo\":{\"bgcolor\":\"white\",\"landcolor\":\"#E5ECF6\",\"subunitcolor\":\"white\",\"showland\":true,\"showlakes\":true,\"lakecolor\":\"white\"},\"title\":{\"x\":0.05},\"mapbox\":{\"style\":\"light\"}}},\"xaxis\":{\"anchor\":\"y\",\"domain\":[0.0,1.0]},\"yaxis\":{\"anchor\":\"x\",\"domain\":[0.0,1.0]},\"margin\":{\"t\":60}},                        {\"responsive\": true}                    ).then(function(){\n",
              "                            \n",
              "var gd = document.getElementById('63481afe-f6b4-463b-9dd0-0eb6f233e8b0');\n",
              "var x = new MutationObserver(function (mutations, observer) {{\n",
              "        var display = window.getComputedStyle(gd).display;\n",
              "        if (!display || display === 'none') {{\n",
              "            console.log([gd, 'removed!']);\n",
              "            Plotly.purge(gd);\n",
              "            observer.disconnect();\n",
              "        }}\n",
              "}});\n",
              "\n",
              "// Listen for the removal of the full notebook cells\n",
              "var notebookContainer = gd.closest('#notebook-container');\n",
              "if (notebookContainer) {{\n",
              "    x.observe(notebookContainer, {childList: true});\n",
              "}}\n",
              "\n",
              "// Listen for the clearing of the current output cell\n",
              "var outputEl = gd.closest('.output');\n",
              "if (outputEl) {{\n",
              "    x.observe(outputEl, {childList: true});\n",
              "}}\n",
              "\n",
              "                        })                };                            </script>        </div>\n",
              "</body>\n",
              "</html>"
            ]
          },
          "metadata": {}
        }
      ]
    },
    {
      "cell_type": "code",
      "source": [],
      "metadata": {
        "id": "QrlEK7yAnFsT"
      },
      "execution_count": null,
      "outputs": []
    }
  ]
}