{
  "nbformat": 4,
  "nbformat_minor": 0,
  "metadata": {
    "colab": {
      "provenance": [],
      "authorship_tag": "ABX9TyM+67lYczD4iqEPn4sG0Y/p",
      "include_colab_link": true
    },
    "kernelspec": {
      "name": "python3",
      "display_name": "Python 3"
    },
    "language_info": {
      "name": "python"
    }
  },
  "cells": [
    {
      "cell_type": "markdown",
      "metadata": {
        "id": "view-in-github",
        "colab_type": "text"
      },
      "source": [
        "<a href=\"https://colab.research.google.com/github/vcdemy/20240806/blob/main/20240806%E7%AD%86%E8%A8%98.ipynb\" target=\"_parent\"><img src=\"https://colab.research.google.com/assets/colab-badge.svg\" alt=\"Open In Colab\"/></a>"
      ]
    },
    {
      "cell_type": "markdown",
      "source": [
        "# 20240806筆記"
      ],
      "metadata": {
        "id": "gA_jVmVsEVk6"
      }
    },
    {
      "cell_type": "markdown",
      "source": [
        "## Python的變數命名"
      ],
      "metadata": {
        "id": "R1-9cWCoEY5z"
      }
    },
    {
      "cell_type": "markdown",
      "source": [
        "* 開頭字元必須為英文字母跟底線\n",
        "* 除了開頭字元外可以有數字\n",
        "* 變數會區分大小寫"
      ],
      "metadata": {
        "id": "odBZvLP5EdDI"
      }
    },
    {
      "cell_type": "code",
      "source": [],
      "metadata": {
        "id": "HdCAT1z9EcbN"
      },
      "execution_count": null,
      "outputs": []
    },
    {
      "cell_type": "code",
      "execution_count": null,
      "metadata": {
        "id": "4x1tVcyvEQkt"
      },
      "outputs": [],
      "source": []
    }
  ]
}