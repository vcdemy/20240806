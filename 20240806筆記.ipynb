{
  "nbformat": 4,
  "nbformat_minor": 0,
  "metadata": {
    "colab": {
      "provenance": [],
      "authorship_tag": "ABX9TyOH1dfJKjkDIqu0PTnbVj9m",
      "include_colab_link": true
    },
    "kernelspec": {
      "name": "python3",
      "display_name": "Python 3"
    },
    "language_info": {
      "name": "python"
    }
  },
  "cells": [
    {
      "cell_type": "markdown",
      "metadata": {
        "id": "view-in-github",
        "colab_type": "text"
      },
      "source": [
        "<a href=\"https://colab.research.google.com/github/vcdemy/20240806/blob/main/20240806%E7%AD%86%E8%A8%98.ipynb\" target=\"_parent\"><img src=\"https://colab.research.google.com/assets/colab-badge.svg\" alt=\"Open In Colab\"/></a>"
      ]
    },
    {
      "cell_type": "markdown",
      "source": [
        "# 20240806筆記"
      ],
      "metadata": {
        "id": "gA_jVmVsEVk6"
      }
    },
    {
      "cell_type": "markdown",
      "source": [
        "## Python的變數命名"
      ],
      "metadata": {
        "id": "R1-9cWCoEY5z"
      }
    },
    {
      "cell_type": "markdown",
      "source": [
        "* 開頭字元必須為英文字母跟底線\n",
        "* 除了開頭字元外可以有數字\n",
        "* 變數會區分大小寫"
      ],
      "metadata": {
        "id": "odBZvLP5EdDI"
      }
    },
    {
      "cell_type": "code",
      "source": [
        "x = 1"
      ],
      "metadata": {
        "id": "HdCAT1z9EcbN"
      },
      "execution_count": 1,
      "outputs": []
    },
    {
      "cell_type": "code",
      "execution_count": 2,
      "metadata": {
        "colab": {
          "base_uri": "https://localhost:8080/",
          "height": 143
        },
        "id": "4x1tVcyvEQkt",
        "outputId": "958fdf0b-47d7-457b-9b36-31cdaf055269"
      },
      "outputs": [
        {
          "output_type": "error",
          "ename": "NameError",
          "evalue": "name 'X' is not defined",
          "traceback": [
            "\u001b[0;31m---------------------------------------------------------------------------\u001b[0m",
            "\u001b[0;31mNameError\u001b[0m                                 Traceback (most recent call last)",
            "\u001b[0;32m<ipython-input-2-b5fec669aca1>\u001b[0m in \u001b[0;36m<cell line: 1>\u001b[0;34m()\u001b[0m\n\u001b[0;32m----> 1\u001b[0;31m \u001b[0mX\u001b[0m\u001b[0;34m\u001b[0m\u001b[0;34m\u001b[0m\u001b[0m\n\u001b[0m",
            "\u001b[0;31mNameError\u001b[0m: name 'X' is not defined"
          ]
        }
      ],
      "source": [
        "X"
      ]
    },
    {
      "cell_type": "code",
      "source": [
        "123abc = 1"
      ],
      "metadata": {
        "colab": {
          "base_uri": "https://localhost:8080/",
          "height": 108
        },
        "id": "CvqQt9MPFBfr",
        "outputId": "942113a6-92f9-47ba-ec2c-cc5ee6e9295c"
      },
      "execution_count": 3,
      "outputs": [
        {
          "output_type": "error",
          "ename": "SyntaxError",
          "evalue": "invalid decimal literal (<ipython-input-3-567295c77224>, line 1)",
          "traceback": [
            "\u001b[0;36m  File \u001b[0;32m\"<ipython-input-3-567295c77224>\"\u001b[0;36m, line \u001b[0;32m1\u001b[0m\n\u001b[0;31m    123abc = 1\u001b[0m\n\u001b[0m      ^\u001b[0m\n\u001b[0;31mSyntaxError\u001b[0m\u001b[0;31m:\u001b[0m invalid decimal literal\n"
          ]
        }
      ]
    },
    {
      "cell_type": "code",
      "source": [
        "_abc = 1"
      ],
      "metadata": {
        "id": "CYErFT44FErJ"
      },
      "execution_count": 4,
      "outputs": []
    },
    {
      "cell_type": "code",
      "source": [
        "_abc"
      ],
      "metadata": {
        "colab": {
          "base_uri": "https://localhost:8080/"
        },
        "id": "ZDBk7-BkFHL0",
        "outputId": "f0c84a03-14cf-422a-d734-67ccdd12c754"
      },
      "execution_count": 5,
      "outputs": [
        {
          "output_type": "execute_result",
          "data": {
            "text/plain": [
              "1"
            ]
          },
          "metadata": {},
          "execution_count": 5
        }
      ]
    },
    {
      "cell_type": "code",
      "source": [
        "abc123 = 1"
      ],
      "metadata": {
        "id": "z3U8rkfEFIAS"
      },
      "execution_count": 6,
      "outputs": []
    },
    {
      "cell_type": "markdown",
      "source": [
        "## 基本資料型態\n",
        "\n",
        "* int => 整數\n",
        "* float => 浮點數\n",
        "* bool => 布林變數 (True, False)\n",
        "* str => 字串"
      ],
      "metadata": {
        "id": "Z84Fi8SCGKZw"
      }
    },
    {
      "cell_type": "markdown",
      "source": [
        "### int"
      ],
      "metadata": {
        "id": "tz8gW2kUHDt-"
      }
    },
    {
      "cell_type": "code",
      "source": [
        "x"
      ],
      "metadata": {
        "colab": {
          "base_uri": "https://localhost:8080/"
        },
        "id": "49A9vtDcFJU4",
        "outputId": "7df52eef-e8a7-4792-c0f6-2adb5cf7c845"
      },
      "execution_count": 7,
      "outputs": [
        {
          "output_type": "execute_result",
          "data": {
            "text/plain": [
              "1"
            ]
          },
          "metadata": {},
          "execution_count": 7
        }
      ]
    },
    {
      "cell_type": "code",
      "source": [
        "type(x)"
      ],
      "metadata": {
        "colab": {
          "base_uri": "https://localhost:8080/"
        },
        "id": "faxi61cSG-iO",
        "outputId": "c25fbb20-7c1c-4245-983d-04a5b28ae596"
      },
      "execution_count": 8,
      "outputs": [
        {
          "output_type": "execute_result",
          "data": {
            "text/plain": [
              "int"
            ]
          },
          "metadata": {},
          "execution_count": 8
        }
      ]
    },
    {
      "cell_type": "markdown",
      "source": [
        "### float"
      ],
      "metadata": {
        "id": "9ZZqn_vJHhrW"
      }
    },
    {
      "cell_type": "code",
      "source": [
        "y = 3.14"
      ],
      "metadata": {
        "id": "HMa5RHRbHAZy"
      },
      "execution_count": 9,
      "outputs": []
    },
    {
      "cell_type": "code",
      "source": [
        "type(y)"
      ],
      "metadata": {
        "colab": {
          "base_uri": "https://localhost:8080/"
        },
        "id": "LouUS6jDHkci",
        "outputId": "6db41753-6f11-4c21-f967-8c9ed4c9c534"
      },
      "execution_count": 10,
      "outputs": [
        {
          "output_type": "execute_result",
          "data": {
            "text/plain": [
              "float"
            ]
          },
          "metadata": {},
          "execution_count": 10
        }
      ]
    },
    {
      "cell_type": "markdown",
      "source": [
        "### int v.s. float"
      ],
      "metadata": {
        "id": "i9_VGHCMH3lA"
      }
    },
    {
      "cell_type": "code",
      "source": [
        "m = 4\n",
        "n = 2\n",
        "type(m/n)"
      ],
      "metadata": {
        "colab": {
          "base_uri": "https://localhost:8080/"
        },
        "id": "O2AgsdJ2HlRC",
        "outputId": "f1d18301-21cd-4137-c77e-dae40a519f6c"
      },
      "execution_count": 11,
      "outputs": [
        {
          "output_type": "execute_result",
          "data": {
            "text/plain": [
              "float"
            ]
          },
          "metadata": {},
          "execution_count": 11
        }
      ]
    },
    {
      "cell_type": "code",
      "source": [
        "m / n"
      ],
      "metadata": {
        "colab": {
          "base_uri": "https://localhost:8080/"
        },
        "id": "Qac_gERUIJ3J",
        "outputId": "92a13d13-3b79-4c8a-e348-7b8eae3f04de"
      },
      "execution_count": 12,
      "outputs": [
        {
          "output_type": "execute_result",
          "data": {
            "text/plain": [
              "2.0"
            ]
          },
          "metadata": {},
          "execution_count": 12
        }
      ]
    },
    {
      "cell_type": "code",
      "source": [
        "# 整數除法\n",
        "m // n"
      ],
      "metadata": {
        "colab": {
          "base_uri": "https://localhost:8080/"
        },
        "id": "DnaExrbUINbH",
        "outputId": "3455b1a1-b443-4284-b0b9-589248530a7b"
      },
      "execution_count": 13,
      "outputs": [
        {
          "output_type": "execute_result",
          "data": {
            "text/plain": [
              "2"
            ]
          },
          "metadata": {},
          "execution_count": 13
        }
      ]
    },
    {
      "cell_type": "markdown",
      "source": [
        "### bool"
      ],
      "metadata": {
        "id": "SchpCajzIlBx"
      }
    },
    {
      "cell_type": "code",
      "source": [
        "m > n"
      ],
      "metadata": {
        "colab": {
          "base_uri": "https://localhost:8080/"
        },
        "id": "qvZx0OFlIQMU",
        "outputId": "5e820db4-f0b7-4fc2-8ae2-83658d0a84cf"
      },
      "execution_count": 15,
      "outputs": [
        {
          "output_type": "execute_result",
          "data": {
            "text/plain": [
              "True"
            ]
          },
          "metadata": {},
          "execution_count": 15
        }
      ]
    },
    {
      "cell_type": "code",
      "source": [
        "m < n"
      ],
      "metadata": {
        "colab": {
          "base_uri": "https://localhost:8080/"
        },
        "id": "JJkrteHeIqjr",
        "outputId": "235b13a7-f152-4d6d-ec62-e8281dc2912c"
      },
      "execution_count": 16,
      "outputs": [
        {
          "output_type": "execute_result",
          "data": {
            "text/plain": [
              "False"
            ]
          },
          "metadata": {},
          "execution_count": 16
        }
      ]
    },
    {
      "cell_type": "code",
      "source": [
        "k = m > n"
      ],
      "metadata": {
        "id": "2iW5YJPhI5hR"
      },
      "execution_count": 17,
      "outputs": []
    },
    {
      "cell_type": "code",
      "source": [
        "type(k)"
      ],
      "metadata": {
        "colab": {
          "base_uri": "https://localhost:8080/"
        },
        "id": "yW5asvykJCB-",
        "outputId": "ea949fa3-8d23-440e-efdd-6946e3e80377"
      },
      "execution_count": 18,
      "outputs": [
        {
          "output_type": "execute_result",
          "data": {
            "text/plain": [
              "bool"
            ]
          },
          "metadata": {},
          "execution_count": 18
        }
      ]
    },
    {
      "cell_type": "code",
      "source": [
        "m == n"
      ],
      "metadata": {
        "colab": {
          "base_uri": "https://localhost:8080/"
        },
        "id": "U2sB1I01JHg3",
        "outputId": "ac82a8df-6e7c-4e1e-e09a-ac8e9c325bae"
      },
      "execution_count": 19,
      "outputs": [
        {
          "output_type": "execute_result",
          "data": {
            "text/plain": [
              "False"
            ]
          },
          "metadata": {},
          "execution_count": 19
        }
      ]
    },
    {
      "cell_type": "code",
      "source": [
        "p = m == n"
      ],
      "metadata": {
        "id": "dhLkfAWmJnYU"
      },
      "execution_count": 20,
      "outputs": []
    },
    {
      "cell_type": "code",
      "source": [
        "p"
      ],
      "metadata": {
        "colab": {
          "base_uri": "https://localhost:8080/"
        },
        "id": "bzqLDE2rJvPL",
        "outputId": "2205f2b1-9c10-4e33-9153-e3de64df7e2b"
      },
      "execution_count": 21,
      "outputs": [
        {
          "output_type": "execute_result",
          "data": {
            "text/plain": [
              "False"
            ]
          },
          "metadata": {},
          "execution_count": 21
        }
      ]
    },
    {
      "cell_type": "markdown",
      "source": [
        "### str => 文字訊息"
      ],
      "metadata": {
        "id": "ISuxGYe8KFUQ"
      }
    },
    {
      "cell_type": "code",
      "source": [
        "q = dog"
      ],
      "metadata": {
        "colab": {
          "base_uri": "https://localhost:8080/",
          "height": 143
        },
        "id": "I3JK8thoJ3iv",
        "outputId": "1b18fa2e-9c41-4c3e-e7b8-e68b6de53f41"
      },
      "execution_count": 22,
      "outputs": [
        {
          "output_type": "error",
          "ename": "NameError",
          "evalue": "name 'dog' is not defined",
          "traceback": [
            "\u001b[0;31m---------------------------------------------------------------------------\u001b[0m",
            "\u001b[0;31mNameError\u001b[0m                                 Traceback (most recent call last)",
            "\u001b[0;32m<ipython-input-22-c5cb21e8bc90>\u001b[0m in \u001b[0;36m<cell line: 1>\u001b[0;34m()\u001b[0m\n\u001b[0;32m----> 1\u001b[0;31m \u001b[0mq\u001b[0m \u001b[0;34m=\u001b[0m \u001b[0mdog\u001b[0m\u001b[0;34m\u001b[0m\u001b[0;34m\u001b[0m\u001b[0m\n\u001b[0m",
            "\u001b[0;31mNameError\u001b[0m: name 'dog' is not defined"
          ]
        }
      ]
    },
    {
      "cell_type": "code",
      "source": [
        "q = 'dog'"
      ],
      "metadata": {
        "id": "uVErTZkNKRvw"
      },
      "execution_count": 23,
      "outputs": []
    },
    {
      "cell_type": "code",
      "source": [
        "type(q)"
      ],
      "metadata": {
        "colab": {
          "base_uri": "https://localhost:8080/"
        },
        "id": "Qv_4lksMKfgb",
        "outputId": "3c7dd1f6-878f-4cb0-8713-e1042c16a212"
      },
      "execution_count": 24,
      "outputs": [
        {
          "output_type": "execute_result",
          "data": {
            "text/plain": [
              "str"
            ]
          },
          "metadata": {},
          "execution_count": 24
        }
      ]
    },
    {
      "cell_type": "markdown",
      "source": [
        "## Line Notify 使用簡介"
      ],
      "metadata": {
        "id": "kHZKLOwQK83m"
      }
    },
    {
      "cell_type": "markdown",
      "source": [
        "* [Line Notify Help](https://help2.line.me/line_notify/web/pc?lang=zh-Hant)\n",
        "* [取得 Line Notify Token](https://notify-bot.line.me/en/)\n",
        "* [Line Notify API Document](https://notify-bot.line.me/doc/en/)\n",
        "* [Sticker List](https://github.com/vcdemy/linenotify/blob/main/misc/sticker_list.pdf)"
      ],
      "metadata": {
        "id": "JmxxKGVBLT2R"
      }
    },
    {
      "cell_type": "code",
      "source": [
        "!wget https://raw.githubusercontent.com/vcdemy/linenotify/main/py/linenotify.py"
      ],
      "metadata": {
        "colab": {
          "base_uri": "https://localhost:8080/"
        },
        "id": "Ef3urSOcKgwM",
        "outputId": "a1a5f36f-fa84-4005-f671-1acd38aa56ae"
      },
      "execution_count": 25,
      "outputs": [
        {
          "output_type": "stream",
          "name": "stdout",
          "text": [
            "--2024-08-06 05:35:47--  https://raw.githubusercontent.com/vcdemy/linenotify/main/py/linenotify.py\n",
            "Resolving raw.githubusercontent.com (raw.githubusercontent.com)... 185.199.108.133, 185.199.109.133, 185.199.110.133, ...\n",
            "Connecting to raw.githubusercontent.com (raw.githubusercontent.com)|185.199.108.133|:443... connected.\n",
            "HTTP request sent, awaiting response... 200 OK\n",
            "Length: 818 [text/plain]\n",
            "Saving to: ‘linenotify.py’\n",
            "\n",
            "linenotify.py       100%[===================>]     818  --.-KB/s    in 0s      \n",
            "\n",
            "2024-08-06 05:35:47 (28.8 MB/s) - ‘linenotify.py’ saved [818/818]\n",
            "\n"
          ]
        }
      ]
    },
    {
      "cell_type": "code",
      "source": [
        "from linenotify import Notify"
      ],
      "metadata": {
        "id": "SUO02QQbRw6d"
      },
      "execution_count": 26,
      "outputs": []
    },
    {
      "cell_type": "code",
      "source": [
        "token = \"\""
      ],
      "metadata": {
        "id": "gsgdtWX4RzeU"
      },
      "execution_count": 37,
      "outputs": []
    },
    {
      "cell_type": "code",
      "source": [
        "Notify(token, \"I love you！\")"
      ],
      "metadata": {
        "colab": {
          "base_uri": "https://localhost:8080/"
        },
        "id": "T-hhciQdR3hO",
        "outputId": "90eef2d6-334f-4ff6-b624-fa6bddbf5747"
      },
      "execution_count": 28,
      "outputs": [
        {
          "output_type": "execute_result",
          "data": {
            "text/plain": [
              "<Response [200]>"
            ]
          },
          "metadata": {},
          "execution_count": 28
        }
      ]
    },
    {
      "cell_type": "code",
      "source": [
        "Notify(token, \"I love you！\", 6370, 11088016)"
      ],
      "metadata": {
        "colab": {
          "base_uri": "https://localhost:8080/"
        },
        "id": "tqXvF07WSAg0",
        "outputId": "65bd388b-9046-42a0-e549-6f4fb08de881"
      },
      "execution_count": 31,
      "outputs": [
        {
          "output_type": "execute_result",
          "data": {
            "text/plain": [
              "<Response [200]>"
            ]
          },
          "metadata": {},
          "execution_count": 31
        }
      ]
    },
    {
      "cell_type": "code",
      "source": [
        "Notify(token, \"I love you！\", 6370, 11088016, img=\"lena.png\")"
      ],
      "metadata": {
        "colab": {
          "base_uri": "https://localhost:8080/"
        },
        "id": "vVOLaC3rVfnK",
        "outputId": "9376a47c-93b2-45fb-db7f-2e240d9391b1"
      },
      "execution_count": 38,
      "outputs": [
        {
          "output_type": "execute_result",
          "data": {
            "text/plain": [
              "<Response [200]>"
            ]
          },
          "metadata": {},
          "execution_count": 38
        }
      ]
    },
    {
      "cell_type": "code",
      "source": [
        "Notify(token, \" \", 6370, 11088016, img=\"lena.png\")"
      ],
      "metadata": {
        "colab": {
          "base_uri": "https://localhost:8080/"
        },
        "id": "qwfuwUr5YWBD",
        "outputId": "a3266fb9-6f6f-47c9-fd34-a907d690fae4"
      },
      "execution_count": 35,
      "outputs": [
        {
          "output_type": "execute_result",
          "data": {
            "text/plain": [
              "<Response [200]>"
            ]
          },
          "metadata": {},
          "execution_count": 35
        }
      ]
    },
    {
      "cell_type": "markdown",
      "source": [
        "## YOLOv8使用簡介"
      ],
      "metadata": {
        "id": "g6SisUeMjRTd"
      }
    },
    {
      "cell_type": "code",
      "source": [
        "!pip install ultralytics"
      ],
      "metadata": {
        "colab": {
          "base_uri": "https://localhost:8080/"
        },
        "collapsed": true,
        "id": "qd8_eypCYqXJ",
        "outputId": "538ccdd8-d80f-4c65-95da-e71c5e57e034"
      },
      "execution_count": 39,
      "outputs": [
        {
          "output_type": "stream",
          "name": "stdout",
          "text": [
            "Collecting ultralytics\n",
            "  Downloading ultralytics-8.2.73-py3-none-any.whl.metadata (41 kB)\n",
            "\u001b[?25l     \u001b[90m━━━━━━━━━━━━━━━━━━━━━━━━━━━━━━━━━━━━━━━━\u001b[0m \u001b[32m0.0/41.3 kB\u001b[0m \u001b[31m?\u001b[0m eta \u001b[36m-:--:--\u001b[0m\r\u001b[2K     \u001b[90m━━━━━━━━━━━━━━━━━━━━━━━━━━━━━━━━━━━━━━━━\u001b[0m \u001b[32m41.3/41.3 kB\u001b[0m \u001b[31m1.5 MB/s\u001b[0m eta \u001b[36m0:00:00\u001b[0m\n",
            "\u001b[?25hRequirement already satisfied: numpy<2.0.0,>=1.23.0 in /usr/local/lib/python3.10/dist-packages (from ultralytics) (1.26.4)\n",
            "Requirement already satisfied: matplotlib>=3.3.0 in /usr/local/lib/python3.10/dist-packages (from ultralytics) (3.7.1)\n",
            "Requirement already satisfied: opencv-python>=4.6.0 in /usr/local/lib/python3.10/dist-packages (from ultralytics) (4.10.0.84)\n",
            "Requirement already satisfied: pillow>=7.1.2 in /usr/local/lib/python3.10/dist-packages (from ultralytics) (9.4.0)\n",
            "Requirement already satisfied: pyyaml>=5.3.1 in /usr/local/lib/python3.10/dist-packages (from ultralytics) (6.0.1)\n",
            "Requirement already satisfied: requests>=2.23.0 in /usr/local/lib/python3.10/dist-packages (from ultralytics) (2.31.0)\n",
            "Requirement already satisfied: scipy>=1.4.1 in /usr/local/lib/python3.10/dist-packages (from ultralytics) (1.13.1)\n",
            "Requirement already satisfied: torch>=1.8.0 in /usr/local/lib/python3.10/dist-packages (from ultralytics) (2.3.1+cu121)\n",
            "Requirement already satisfied: torchvision>=0.9.0 in /usr/local/lib/python3.10/dist-packages (from ultralytics) (0.18.1+cu121)\n",
            "Requirement already satisfied: tqdm>=4.64.0 in /usr/local/lib/python3.10/dist-packages (from ultralytics) (4.66.4)\n",
            "Requirement already satisfied: psutil in /usr/local/lib/python3.10/dist-packages (from ultralytics) (5.9.5)\n",
            "Requirement already satisfied: py-cpuinfo in /usr/local/lib/python3.10/dist-packages (from ultralytics) (9.0.0)\n",
            "Requirement already satisfied: pandas>=1.1.4 in /usr/local/lib/python3.10/dist-packages (from ultralytics) (2.1.4)\n",
            "Requirement already satisfied: seaborn>=0.11.0 in /usr/local/lib/python3.10/dist-packages (from ultralytics) (0.13.1)\n",
            "Collecting ultralytics-thop>=2.0.0 (from ultralytics)\n",
            "  Downloading ultralytics_thop-2.0.0-py3-none-any.whl.metadata (8.5 kB)\n",
            "Requirement already satisfied: contourpy>=1.0.1 in /usr/local/lib/python3.10/dist-packages (from matplotlib>=3.3.0->ultralytics) (1.2.1)\n",
            "Requirement already satisfied: cycler>=0.10 in /usr/local/lib/python3.10/dist-packages (from matplotlib>=3.3.0->ultralytics) (0.12.1)\n",
            "Requirement already satisfied: fonttools>=4.22.0 in /usr/local/lib/python3.10/dist-packages (from matplotlib>=3.3.0->ultralytics) (4.53.1)\n",
            "Requirement already satisfied: kiwisolver>=1.0.1 in /usr/local/lib/python3.10/dist-packages (from matplotlib>=3.3.0->ultralytics) (1.4.5)\n",
            "Requirement already satisfied: packaging>=20.0 in /usr/local/lib/python3.10/dist-packages (from matplotlib>=3.3.0->ultralytics) (24.1)\n",
            "Requirement already satisfied: pyparsing>=2.3.1 in /usr/local/lib/python3.10/dist-packages (from matplotlib>=3.3.0->ultralytics) (3.1.2)\n",
            "Requirement already satisfied: python-dateutil>=2.7 in /usr/local/lib/python3.10/dist-packages (from matplotlib>=3.3.0->ultralytics) (2.8.2)\n",
            "Requirement already satisfied: pytz>=2020.1 in /usr/local/lib/python3.10/dist-packages (from pandas>=1.1.4->ultralytics) (2024.1)\n",
            "Requirement already satisfied: tzdata>=2022.1 in /usr/local/lib/python3.10/dist-packages (from pandas>=1.1.4->ultralytics) (2024.1)\n",
            "Requirement already satisfied: charset-normalizer<4,>=2 in /usr/local/lib/python3.10/dist-packages (from requests>=2.23.0->ultralytics) (3.3.2)\n",
            "Requirement already satisfied: idna<4,>=2.5 in /usr/local/lib/python3.10/dist-packages (from requests>=2.23.0->ultralytics) (3.7)\n",
            "Requirement already satisfied: urllib3<3,>=1.21.1 in /usr/local/lib/python3.10/dist-packages (from requests>=2.23.0->ultralytics) (2.0.7)\n",
            "Requirement already satisfied: certifi>=2017.4.17 in /usr/local/lib/python3.10/dist-packages (from requests>=2.23.0->ultralytics) (2024.7.4)\n",
            "Requirement already satisfied: filelock in /usr/local/lib/python3.10/dist-packages (from torch>=1.8.0->ultralytics) (3.15.4)\n",
            "Requirement already satisfied: typing-extensions>=4.8.0 in /usr/local/lib/python3.10/dist-packages (from torch>=1.8.0->ultralytics) (4.12.2)\n",
            "Requirement already satisfied: sympy in /usr/local/lib/python3.10/dist-packages (from torch>=1.8.0->ultralytics) (1.13.1)\n",
            "Requirement already satisfied: networkx in /usr/local/lib/python3.10/dist-packages (from torch>=1.8.0->ultralytics) (3.3)\n",
            "Requirement already satisfied: jinja2 in /usr/local/lib/python3.10/dist-packages (from torch>=1.8.0->ultralytics) (3.1.4)\n",
            "Requirement already satisfied: fsspec in /usr/local/lib/python3.10/dist-packages (from torch>=1.8.0->ultralytics) (2024.6.1)\n",
            "Collecting nvidia-cuda-nvrtc-cu12==12.1.105 (from torch>=1.8.0->ultralytics)\n",
            "  Using cached nvidia_cuda_nvrtc_cu12-12.1.105-py3-none-manylinux1_x86_64.whl.metadata (1.5 kB)\n",
            "Collecting nvidia-cuda-runtime-cu12==12.1.105 (from torch>=1.8.0->ultralytics)\n",
            "  Using cached nvidia_cuda_runtime_cu12-12.1.105-py3-none-manylinux1_x86_64.whl.metadata (1.5 kB)\n",
            "Collecting nvidia-cuda-cupti-cu12==12.1.105 (from torch>=1.8.0->ultralytics)\n",
            "  Using cached nvidia_cuda_cupti_cu12-12.1.105-py3-none-manylinux1_x86_64.whl.metadata (1.6 kB)\n",
            "Collecting nvidia-cudnn-cu12==8.9.2.26 (from torch>=1.8.0->ultralytics)\n",
            "  Using cached nvidia_cudnn_cu12-8.9.2.26-py3-none-manylinux1_x86_64.whl.metadata (1.6 kB)\n",
            "Collecting nvidia-cublas-cu12==12.1.3.1 (from torch>=1.8.0->ultralytics)\n",
            "  Using cached nvidia_cublas_cu12-12.1.3.1-py3-none-manylinux1_x86_64.whl.metadata (1.5 kB)\n",
            "Collecting nvidia-cufft-cu12==11.0.2.54 (from torch>=1.8.0->ultralytics)\n",
            "  Using cached nvidia_cufft_cu12-11.0.2.54-py3-none-manylinux1_x86_64.whl.metadata (1.5 kB)\n",
            "Collecting nvidia-curand-cu12==10.3.2.106 (from torch>=1.8.0->ultralytics)\n",
            "  Using cached nvidia_curand_cu12-10.3.2.106-py3-none-manylinux1_x86_64.whl.metadata (1.5 kB)\n",
            "Collecting nvidia-cusolver-cu12==11.4.5.107 (from torch>=1.8.0->ultralytics)\n",
            "  Using cached nvidia_cusolver_cu12-11.4.5.107-py3-none-manylinux1_x86_64.whl.metadata (1.6 kB)\n",
            "Collecting nvidia-cusparse-cu12==12.1.0.106 (from torch>=1.8.0->ultralytics)\n",
            "  Using cached nvidia_cusparse_cu12-12.1.0.106-py3-none-manylinux1_x86_64.whl.metadata (1.6 kB)\n",
            "Collecting nvidia-nccl-cu12==2.20.5 (from torch>=1.8.0->ultralytics)\n",
            "  Using cached nvidia_nccl_cu12-2.20.5-py3-none-manylinux2014_x86_64.whl.metadata (1.8 kB)\n",
            "Collecting nvidia-nvtx-cu12==12.1.105 (from torch>=1.8.0->ultralytics)\n",
            "  Using cached nvidia_nvtx_cu12-12.1.105-py3-none-manylinux1_x86_64.whl.metadata (1.7 kB)\n",
            "Requirement already satisfied: triton==2.3.1 in /usr/local/lib/python3.10/dist-packages (from torch>=1.8.0->ultralytics) (2.3.1)\n",
            "Collecting nvidia-nvjitlink-cu12 (from nvidia-cusolver-cu12==11.4.5.107->torch>=1.8.0->ultralytics)\n",
            "  Using cached nvidia_nvjitlink_cu12-12.6.20-py3-none-manylinux2014_x86_64.whl.metadata (1.5 kB)\n",
            "Requirement already satisfied: six>=1.5 in /usr/local/lib/python3.10/dist-packages (from python-dateutil>=2.7->matplotlib>=3.3.0->ultralytics) (1.16.0)\n",
            "Requirement already satisfied: MarkupSafe>=2.0 in /usr/local/lib/python3.10/dist-packages (from jinja2->torch>=1.8.0->ultralytics) (2.1.5)\n",
            "Requirement already satisfied: mpmath<1.4,>=1.1.0 in /usr/local/lib/python3.10/dist-packages (from sympy->torch>=1.8.0->ultralytics) (1.3.0)\n",
            "Downloading ultralytics-8.2.73-py3-none-any.whl (865 kB)\n",
            "\u001b[2K   \u001b[90m━━━━━━━━━━━━━━━━━━━━━━━━━━━━━━━━━━━━━━━━\u001b[0m \u001b[32m865.5/865.5 kB\u001b[0m \u001b[31m12.6 MB/s\u001b[0m eta \u001b[36m0:00:00\u001b[0m\n",
            "\u001b[?25hUsing cached nvidia_cublas_cu12-12.1.3.1-py3-none-manylinux1_x86_64.whl (410.6 MB)\n",
            "Using cached nvidia_cuda_cupti_cu12-12.1.105-py3-none-manylinux1_x86_64.whl (14.1 MB)\n",
            "Using cached nvidia_cuda_nvrtc_cu12-12.1.105-py3-none-manylinux1_x86_64.whl (23.7 MB)\n",
            "Using cached nvidia_cuda_runtime_cu12-12.1.105-py3-none-manylinux1_x86_64.whl (823 kB)\n",
            "Using cached nvidia_cudnn_cu12-8.9.2.26-py3-none-manylinux1_x86_64.whl (731.7 MB)\n",
            "Using cached nvidia_cufft_cu12-11.0.2.54-py3-none-manylinux1_x86_64.whl (121.6 MB)\n",
            "Using cached nvidia_curand_cu12-10.3.2.106-py3-none-manylinux1_x86_64.whl (56.5 MB)\n",
            "Using cached nvidia_cusolver_cu12-11.4.5.107-py3-none-manylinux1_x86_64.whl (124.2 MB)\n",
            "Using cached nvidia_cusparse_cu12-12.1.0.106-py3-none-manylinux1_x86_64.whl (196.0 MB)\n",
            "Using cached nvidia_nccl_cu12-2.20.5-py3-none-manylinux2014_x86_64.whl (176.2 MB)\n",
            "Using cached nvidia_nvtx_cu12-12.1.105-py3-none-manylinux1_x86_64.whl (99 kB)\n",
            "Downloading ultralytics_thop-2.0.0-py3-none-any.whl (25 kB)\n",
            "Using cached nvidia_nvjitlink_cu12-12.6.20-py3-none-manylinux2014_x86_64.whl (19.7 MB)\n",
            "Installing collected packages: nvidia-nvtx-cu12, nvidia-nvjitlink-cu12, nvidia-nccl-cu12, nvidia-curand-cu12, nvidia-cufft-cu12, nvidia-cuda-runtime-cu12, nvidia-cuda-nvrtc-cu12, nvidia-cuda-cupti-cu12, nvidia-cublas-cu12, nvidia-cusparse-cu12, nvidia-cudnn-cu12, nvidia-cusolver-cu12, ultralytics-thop, ultralytics\n",
            "Successfully installed nvidia-cublas-cu12-12.1.3.1 nvidia-cuda-cupti-cu12-12.1.105 nvidia-cuda-nvrtc-cu12-12.1.105 nvidia-cuda-runtime-cu12-12.1.105 nvidia-cudnn-cu12-8.9.2.26 nvidia-cufft-cu12-11.0.2.54 nvidia-curand-cu12-10.3.2.106 nvidia-cusolver-cu12-11.4.5.107 nvidia-cusparse-cu12-12.1.0.106 nvidia-nccl-cu12-2.20.5 nvidia-nvjitlink-cu12-12.6.20 nvidia-nvtx-cu12-12.1.105 ultralytics-8.2.73 ultralytics-thop-2.0.0\n"
          ]
        }
      ]
    },
    {
      "cell_type": "code",
      "source": [
        "from ultralytics import YOLO\n",
        "\n",
        "model = YOLO(\"yolov8n.pt\")\n",
        "results = model(\"test02.jpg\")\n",
        "results[0].plot()"
      ],
      "metadata": {
        "colab": {
          "base_uri": "https://localhost:8080/",
          "height": 276
        },
        "collapsed": true,
        "id": "Q4BBY_FVjtFc",
        "outputId": "53de4555-78d7-4987-f3d5-22ae4e800dde"
      },
      "execution_count": 59,
      "outputs": [
        {
          "output_type": "stream",
          "name": "stdout",
          "text": [
            "\n",
            "image 1/1 /content/test02.jpg: 448x640 23 cars, 1 truck, 187.9ms\n",
            "Speed: 5.2ms preprocess, 187.9ms inference, 1.3ms postprocess per image at shape (1, 3, 448, 640)\n"
          ]
        },
        {
          "output_type": "execute_result",
          "data": {
            "text/plain": [
              "array([[[163, 225, 255],\n",
              "        [153, 215, 245],\n",
              "        [140, 198, 227],\n",
              "        ...,\n",
              "        [118, 148, 143],\n",
              "        [103, 127, 119],\n",
              "        [ 81, 108,  99]],\n",
              "\n",
              "       [[132, 189, 215],\n",
              "        [134, 191, 217],\n",
              "        [120, 176, 201],\n",
              "        ...,\n",
              "        [116, 143, 139],\n",
              "        [101, 124, 116],\n",
              "        [ 84, 107,  99]],\n",
              "\n",
              "       [[113, 163, 181],\n",
              "        [ 98, 146, 164],\n",
              "        [ 82, 128, 146],\n",
              "        ...,\n",
              "        [120, 143, 139],\n",
              "        [103, 121, 114],\n",
              "        [ 85, 103,  96]],\n",
              "\n",
              "       ...,\n",
              "\n",
              "       [[ 83,  74,  65],\n",
              "        [ 83,  74,  65],\n",
              "        [ 82,  73,  64],\n",
              "        ...,\n",
              "        [ 56,  53,  49],\n",
              "        [ 57,  52,  49],\n",
              "        [ 57,  52,  49]],\n",
              "\n",
              "       [[ 83,  74,  65],\n",
              "        [ 83,  74,  65],\n",
              "        [ 82,  73,  64],\n",
              "        ...,\n",
              "        [ 56,  53,  49],\n",
              "        [ 57,  52,  49],\n",
              "        [ 57,  52,  49]],\n",
              "\n",
              "       [[ 83,  74,  65],\n",
              "        [ 83,  74,  65],\n",
              "        [ 82,  73,  64],\n",
              "        ...,\n",
              "        [ 57,  54,  50],\n",
              "        [ 58,  53,  50],\n",
              "        [ 58,  53,  50]]], dtype=uint8)"
            ],
            "text/html": [
              "<style>\n",
              "      .ndarray_repr .ndarray_raw_data {\n",
              "        display: none;\n",
              "      }\n",
              "      .ndarray_repr.show_array .ndarray_raw_data {\n",
              "        display: block;\n",
              "      }\n",
              "      .ndarray_repr.show_array .ndarray_image_preview {\n",
              "        display: none;\n",
              "      }\n",
              "      </style>\n",
              "      <div id=\"id-d6b0325d-36fe-49e1-9148-66d3e258f214\" class=\"ndarray_repr\"><pre>ndarray (183, 275, 3) <button style=\"padding: 0 2px;\">show data</button></pre><img src=\"data:image/png;base64,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\" class=\"ndarray_image_preview\" /><pre class=\"ndarray_raw_data\">array([[[163, 225, 255],\n",
              "        [153, 215, 245],\n",
              "        [140, 198, 227],\n",
              "        ...,\n",
              "        [118, 148, 143],\n",
              "        [103, 127, 119],\n",
              "        [ 81, 108,  99]],\n",
              "\n",
              "       [[132, 189, 215],\n",
              "        [134, 191, 217],\n",
              "        [120, 176, 201],\n",
              "        ...,\n",
              "        [116, 143, 139],\n",
              "        [101, 124, 116],\n",
              "        [ 84, 107,  99]],\n",
              "\n",
              "       [[113, 163, 181],\n",
              "        [ 98, 146, 164],\n",
              "        [ 82, 128, 146],\n",
              "        ...,\n",
              "        [120, 143, 139],\n",
              "        [103, 121, 114],\n",
              "        [ 85, 103,  96]],\n",
              "\n",
              "       ...,\n",
              "\n",
              "       [[ 83,  74,  65],\n",
              "        [ 83,  74,  65],\n",
              "        [ 82,  73,  64],\n",
              "        ...,\n",
              "        [ 56,  53,  49],\n",
              "        [ 57,  52,  49],\n",
              "        [ 57,  52,  49]],\n",
              "\n",
              "       [[ 83,  74,  65],\n",
              "        [ 83,  74,  65],\n",
              "        [ 82,  73,  64],\n",
              "        ...,\n",
              "        [ 56,  53,  49],\n",
              "        [ 57,  52,  49],\n",
              "        [ 57,  52,  49]],\n",
              "\n",
              "       [[ 83,  74,  65],\n",
              "        [ 83,  74,  65],\n",
              "        [ 82,  73,  64],\n",
              "        ...,\n",
              "        [ 57,  54,  50],\n",
              "        [ 58,  53,  50],\n",
              "        [ 58,  53,  50]]], dtype=uint8)</pre></div><script>\n",
              "      (() => {\n",
              "      const titles = ['show data', 'hide data'];\n",
              "      let index = 0\n",
              "      document.querySelector('#id-d6b0325d-36fe-49e1-9148-66d3e258f214 button').onclick = (e) => {\n",
              "        document.querySelector('#id-d6b0325d-36fe-49e1-9148-66d3e258f214').classList.toggle('show_array');\n",
              "        index = (++index) % 2;\n",
              "        document.querySelector('#id-d6b0325d-36fe-49e1-9148-66d3e258f214 button').textContent = titles[index];\n",
              "        e.preventDefault();\n",
              "        e.stopPropagation();\n",
              "      }\n",
              "      })();\n",
              "    </script>"
            ]
          },
          "metadata": {},
          "execution_count": 59
        }
      ]
    },
    {
      "cell_type": "code",
      "source": [],
      "metadata": {
        "id": "stiY10HvoIoG"
      },
      "execution_count": null,
      "outputs": []
    }
  ]
}