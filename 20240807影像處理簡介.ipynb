{
  "nbformat": 4,
  "nbformat_minor": 0,
  "metadata": {
    "colab": {
      "provenance": [],
      "authorship_tag": "ABX9TyOSE3Mn/kkFZMjL2M146zMz",
      "include_colab_link": true
    },
    "kernelspec": {
      "name": "python3",
      "display_name": "Python 3"
    },
    "language_info": {
      "name": "python"
    }
  },
  "cells": [
    {
      "cell_type": "markdown",
      "metadata": {
        "id": "view-in-github",
        "colab_type": "text"
      },
      "source": [
        "<a href=\"https://colab.research.google.com/github/vcdemy/20240806/blob/main/20240807%E5%BD%B1%E5%83%8F%E8%99%95%E7%90%86%E7%B0%A1%E4%BB%8B.ipynb\" target=\"_parent\"><img src=\"https://colab.research.google.com/assets/colab-badge.svg\" alt=\"Open In Colab\"/></a>"
      ]
    },
    {
      "cell_type": "markdown",
      "source": [
        "# 影像處理簡介"
      ],
      "metadata": {
        "id": "oFd79XFwQ9Ko"
      }
    },
    {
      "cell_type": "markdown",
      "source": [
        "## 簡單爬蟲範例"
      ],
      "metadata": {
        "id": "7wHJQY5HR2AF"
      }
    },
    {
      "cell_type": "code",
      "source": [
        "import requests"
      ],
      "metadata": {
        "id": "kmWTosXmR4sv"
      },
      "execution_count": 1,
      "outputs": []
    },
    {
      "cell_type": "code",
      "source": [
        "url = \"https://onecms-res.cloudinary.com/image/upload/s--dL9HE8xu--/c_fill,g_auto,h_468,w_830/f_auto,q_auto/v1/8days-migration/lin-chiling-main-data.jpg\""
      ],
      "metadata": {
        "id": "5H8xwhmJSAXw"
      },
      "execution_count": 2,
      "outputs": []
    },
    {
      "cell_type": "code",
      "source": [
        "r = requests.get(url)"
      ],
      "metadata": {
        "id": "a1yZv12ISCYe"
      },
      "execution_count": 3,
      "outputs": []
    },
    {
      "cell_type": "code",
      "source": [
        "# f = open('lin.jpg', 'wb')\n",
        "# f.write(r.content)\n",
        "# f.close()"
      ],
      "metadata": {
        "id": "rCJODpHfUGi1"
      },
      "execution_count": null,
      "outputs": []
    },
    {
      "cell_type": "code",
      "source": [
        "with open('lin.jpg', 'wb') as f:\n",
        "  f.write(r.content)"
      ],
      "metadata": {
        "id": "iZdoVsXFSHyC"
      },
      "execution_count": 4,
      "outputs": []
    },
    {
      "cell_type": "code",
      "source": [
        "r = requests.get(\"http://s.pimg.tw/album2/pwalker/albumset/12000824/zoomcrop/170x170.jpg\")\n",
        "with open('test.jpg', 'wb') as f:\n",
        "  f.write(r.content)"
      ],
      "metadata": {
        "id": "E0jlxGEYT29O"
      },
      "execution_count": 5,
      "outputs": []
    },
    {
      "cell_type": "markdown",
      "source": [
        "## 抓取相簿"
      ],
      "metadata": {
        "id": "ekxGOD_fUCWf"
      }
    },
    {
      "cell_type": "code",
      "source": [
        "from bs4 import BeautifulSoup"
      ],
      "metadata": {
        "id": "3xyKYtwnU020"
      },
      "execution_count": 6,
      "outputs": []
    },
    {
      "cell_type": "code",
      "source": [
        "url = \"https://pwalker.pixnet.net/album/list\""
      ],
      "metadata": {
        "id": "BBdFgXCBUnWH"
      },
      "execution_count": 7,
      "outputs": []
    },
    {
      "cell_type": "code",
      "source": [
        "r = requests.get(url)"
      ],
      "metadata": {
        "id": "qLX78hCBVECU"
      },
      "execution_count": 8,
      "outputs": []
    },
    {
      "cell_type": "code",
      "source": [
        "r.encoding = 'utf8'"
      ],
      "metadata": {
        "id": "vrzC2rXcVZZD"
      },
      "execution_count": 12,
      "outputs": []
    },
    {
      "cell_type": "code",
      "source": [
        "soup = BeautifulSoup(r.text)"
      ],
      "metadata": {
        "id": "ZnYEipdbVH_3"
      },
      "execution_count": 13,
      "outputs": []
    },
    {
      "cell_type": "code",
      "source": [
        "for i in soup.select('img.thumb'):\n",
        "  print(i['alt'], \"==>\", i['src'])"
      ],
      "metadata": {
        "colab": {
          "base_uri": "https://localhost:8080/"
        },
        "id": "nlM9lMgiVU9A",
        "outputId": "64d08370-73b9-4ca2-9976-99b2e09687c8"
      },
      "execution_count": 17,
      "outputs": [
        {
          "output_type": "stream",
          "name": "stdout",
          "text": [
            "林岱縈 ==> http://s.pimg.tw/album2/pwalker/albumset/12000824/zoomcrop/120x120.jpg?v=1721917147\n",
            "畇二 ==> http://s.pimg.tw/album2/pwalker/albumset/11981756/zoomcrop/120x120.jpg?v=1721222511\n",
            "吳心緹 ==> http://s.pimg.tw/album2/pwalker/albumset/11973692/zoomcrop/120x120.jpg?v=1720613640\n",
            "李多慧 ==> http://s.pimg.tw/album2/pwalker/albumset/11971244/zoomcrop/120x120.jpg?v=1720450465\n",
            "拐拐 2024 ==> http://s.pimg.tw/album2/pwalker/albumset/11968520/zoomcrop/120x120.jpg?v=1720316406\n",
            "夏語心 ==> http://s.pimg.tw/album2/pwalker/albumset/11957920/zoomcrop/120x120.jpg?v=1720506877\n",
            "程瀟 ==> http://s.pimg.tw/album2/pwalker/albumset/11950900/zoomcrop/120x120.jpg?v=1719668358\n",
            "勇兔 ==> http://s.pimg.tw/album2/pwalker/albumset/11920756/zoomcrop/120x120.jpg?v=1716813883\n",
            "薔薔 ==> http://s.pimg.tw/album2/pwalker/albumset/11916720/zoomcrop/120x120.jpg?v=1716473509\n",
            "王心恬 ==> http://s.pimg.tw/album2/pwalker/albumset/11687573/zoomcrop/120x120.jpg?v=1721135485\n",
            "壯壯 ==> http://s.pimg.tw/album2/pwalker/albumset/11560857/zoomcrop/120x120.jpg?v=1722154774\n",
            "鍾欣怡 ==> http://s.pimg.tw/album2/pwalker/albumset/11536557/zoomcrop/120x120.jpg?v=1701545225\n",
            "邵雨薇 ==> http://s.pimg.tw/album2/pwalker/albumset/11485013/zoomcrop/120x120.jpg?v=1722154657\n",
            "徐凱希 ==> http://s.pimg.tw/album2/pwalker/albumset/11449133/zoomcrop/120x120.jpg?v=1720613353\n",
            "李千娜 ==> http://s.pimg.tw/album2/pwalker/albumset/11360833/zoomcrop/120x120.jpg?v=1710071169\n",
            "方志友 ==> http://s.pimg.tw/album2/pwalker/albumset/11322833/zoomcrop/120x120.jpg?v=1689686526\n",
            "胡晴雯 ==> http://s.pimg.tw/album2/pwalker/albumset/11319569/zoomcrop/120x120.jpg?v=1689381687\n",
            "柯以柔 ==> http://s.pimg.tw/album2/pwalker/albumset/11316805/zoomcrop/120x120.jpg?v=1689253147\n",
            "馮媛甄 ==> http://s.pimg.tw/album2/pwalker/albumset/11313057/zoomcrop/120x120.jpg?v=1689253028\n",
            "溫嵐 ==> http://s.pimg.tw/album2/pwalker/albumset/11313025/zoomcrop/120x120.jpg?v=1720613382\n",
            "林莎 ==> http://s.pimg.tw/album2/pwalker/albumset/11307717/zoomcrop/120x120.jpg?v=1720506907\n",
            "小嫻 ==> http://s.pimg.tw/album2/pwalker/albumset/11307581/zoomcrop/120x120.jpg?v=1688868886\n",
            "阿圓 ==> http://s.pimg.tw/album2/pwalker/albumset/11305465/zoomcrop/120x120.jpg?v=1688777884\n",
            "楊丞琳 ==> http://s.pimg.tw/album2/pwalker/albumset/11304785/zoomcrop/120x120.jpg?v=1688736138\n",
            "玉兔 ==> http://s.pimg.tw/album2/pwalker/albumset/11302653/zoomcrop/120x120.jpg?v=1688648504\n",
            "林萱瑜 ==> http://s.pimg.tw/album2/pwalker/albumset/11295789/zoomcrop/120x120.jpg?v=1688386529\n",
            "峮峮 ==> http://s.pimg.tw/album2/pwalker/albumset/11292681/zoomcrop/120x120.jpg?v=1722432380\n",
            "盧映融 ==> http://s.pimg.tw/album2/pwalker/albumset/11291285/zoomcrop/120x120.jpg?v=1688480301\n",
            "雷達達 ==> http://s.pimg.tw/album2/pwalker/albumset/11291257/zoomcrop/120x120.jpg?v=1688131280\n",
            "郭書瑤 ==> http://s.pimg.tw/album2/pwalker/albumset/11287109/zoomcrop/120x120.jpg?v=1696855791\n",
            "梁以辰 ==> http://s.pimg.tw/album2/pwalker/albumset/11285693/zoomcrop/120x120.jpg?v=1687785708\n",
            "林葦茹 ==> http://s.pimg.tw/album2/pwalker/albumset/11285689/zoomcrop/120x120.jpg?v=1687783225\n",
            "曾韋綺 ==> http://s.pimg.tw/album2/pwalker/albumset/11283861/zoomcrop/120x120.jpg?v=1690657441\n",
            "篠崎泫 ==> http://s.pimg.tw/album2/pwalker/albumset/11283061/zoomcrop/120x120.jpg?v=1721656082\n",
            "王怡仁 ==> http://s.pimg.tw/album2/pwalker/albumset/11283049/zoomcrop/120x120.jpg?v=1687580060\n",
            "安心亞 ==> http://s.pimg.tw/album2/pwalker/albumset/11282069/zoomcrop/120x120.jpg?v=1687480663\n",
            "曾智希 ==> http://s.pimg.tw/album2/pwalker/albumset/11281665/zoomcrop/120x120.jpg?v=1687438676\n",
            "荳荳 ==> http://s.pimg.tw/album2/pwalker/albumset/11280841/zoomcrop/120x120.jpg?v=1690050668\n",
            "張鈞甯 ==> http://s.pimg.tw/album2/pwalker/albumset/11279513/zoomcrop/120x120.jpg?v=1687351878\n",
            "金淵珍 ==> http://s.pimg.tw/album2/pwalker/albumset/11273941/zoomcrop/120x120.jpg?v=1697376233\n",
            "蔡黃汝 ==> http://s.pimg.tw/album2/pwalker/albumset/11270849/zoomcrop/120x120.jpg?v=1686748097\n",
            "王麗雅 ==> http://s.pimg.tw/album2/pwalker/albumset/11269621/zoomcrop/120x120.jpg?v=1686663036\n",
            "簡嫚書 ==> http://s.pimg.tw/album2/pwalker/albumset/11268305/zoomcrop/120x120.jpg?v=1686576205\n",
            "拐拐-其他 ==> http://s.pimg.tw/album2/pwalker/albumset/11266257/zoomcrop/120x120.jpg?v=1686456324\n",
            "9M88 ==> http://s.pimg.tw/album2/pwalker/albumset/11265993/zoomcrop/120x120.jpg?v=1686400840\n",
            "花花(張嘉雲) ==> http://s.pimg.tw/album2/pwalker/albumset/11265045/zoomcrop/120x120.jpg?v=1686312088\n",
            "瑞瑪席丹 ==> http://s.pimg.tw/album2/pwalker/albumset/11260433/zoomcrop/120x120.jpg?v=1721135376\n",
            "李冰冰 ==> http://s.pimg.tw/album2/pwalker/albumset/11258745/zoomcrop/120x120.jpg?v=1685966552\n",
            "何美 ==> http://s.pimg.tw/album2/pwalker/albumset/11256253/zoomcrop/120x120.jpg?v=1685841929\n",
            "莫允雯 ==> http://s.pimg.tw/album2/pwalker/albumset/11254293/zoomcrop/120x120.jpg?v=1688844483\n",
            "愷樂 ==> http://s.pimg.tw/album2/pwalker/albumset/11254029/zoomcrop/120x120.jpg?v=1689494166\n",
            "蔡依林 ==> http://s.pimg.tw/album2/pwalker/albumset/11250941/zoomcrop/120x120.jpg?v=1685622102\n",
            "楊千霈 ==> http://s.pimg.tw/album2/pwalker/albumset/11250929/zoomcrop/120x120.jpg?v=1685539199\n",
            "許瑋甯 ==> http://s.pimg.tw/album2/pwalker/albumset/11250909/zoomcrop/120x120.jpg?v=1685538686\n",
            "黃喬歆 ==> http://s.pimg.tw/album2/pwalker/albumset/11249093/zoomcrop/120x120.jpg?v=1685452443\n",
            "曾菀婷 ==> http://s.pimg.tw/album2/pwalker/albumset/11248089/zoomcrop/120x120.jpg?v=1685452455\n",
            "林真亦 ==> http://s.pimg.tw/album2/pwalker/albumset/11247005/zoomcrop/120x120.jpg?v=1687010700\n",
            "吳怡霈 ==> http://s.pimg.tw/album2/pwalker/albumset/11245665/zoomcrop/120x120.jpg?v=1685148817\n",
            "朱芯儀 ==> http://s.pimg.tw/album2/pwalker/albumset/11245317/zoomcrop/120x120.jpg?v=1685105268\n",
            "陳語安 ==> http://s.pimg.tw/album2/pwalker/albumset/11243393/zoomcrop/120x120.jpg?v=1684931951\n",
            "葉羿君 ==> http://s.pimg.tw/album2/pwalker/albumset/11242373/zoomcrop/120x120.jpg?v=1684848530\n",
            "袁艾菲 ==> http://s.pimg.tw/album2/pwalker/albumset/11240729/zoomcrop/120x120.jpg?v=1684759343\n",
            "何妤玟 ==> http://s.pimg.tw/album2/pwalker/albumset/11240717/zoomcrop/120x120.jpg?v=1684758524\n",
            "林可彤 ==> http://s.pimg.tw/album2/pwalker/albumset/11236313/zoomcrop/120x120.jpg?v=1684419226\n",
            "陳孝萱 ==> http://s.pimg.tw/album2/pwalker/albumset/11234805/zoomcrop/120x120.jpg?v=1685452471\n",
            "蔡宜家 ==> http://s.pimg.tw/album2/pwalker/albumset/11233773/zoomcrop/120x120.jpg?v=1684242564\n",
            "莫棠予 ==> http://s.pimg.tw/album2/pwalker/albumset/11232577/zoomcrop/120x120.jpg?v=1688130058\n",
            "周曉涵 ==> http://s.pimg.tw/album2/pwalker/albumset/11202573/zoomcrop/120x120.jpg?v=1705151878\n",
            "李維維 ==> http://s.pimg.tw/album2/pwalker/albumset/11229701/zoomcrop/120x120.jpg?v=1689771946\n",
            "王尹平 ==> http://s.pimg.tw/album2/pwalker/albumset/11229437/zoomcrop/120x120.jpg?v=1684029938\n"
          ]
        }
      ]
    },
    {
      "cell_type": "code",
      "source": [],
      "metadata": {
        "id": "6_KTkl_wVXDz"
      },
      "execution_count": null,
      "outputs": []
    },
    {
      "cell_type": "markdown",
      "source": [
        "## 常用python影像處理套件\n",
        "\n",
        "* pillow (PIL)\n",
        "* scikit-image\n",
        "* opencv"
      ],
      "metadata": {
        "id": "3rWR9udpRGUE"
      }
    },
    {
      "cell_type": "markdown",
      "source": [
        "### pillow (PIL)"
      ],
      "metadata": {
        "id": "hzbRcHDvRhv3"
      }
    },
    {
      "cell_type": "code",
      "execution_count": null,
      "metadata": {
        "id": "aoyaePe1Q0_s"
      },
      "outputs": [],
      "source": []
    }
  ]
}