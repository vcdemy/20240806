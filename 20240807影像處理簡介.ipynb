{
  "nbformat": 4,
  "nbformat_minor": 0,
  "metadata": {
    "colab": {
      "provenance": [],
      "mount_file_id": "1cTDtBV_0Ivkx6rWRlo_BGtBXb_PQlVNO",
      "authorship_tag": "ABX9TyNjwQGopuxfdLCmU1FACQsL",
      "include_colab_link": true
    },
    "kernelspec": {
      "name": "python3",
      "display_name": "Python 3"
    },
    "language_info": {
      "name": "python"
    }
  },
  "cells": [
    {
      "cell_type": "markdown",
      "metadata": {
        "id": "view-in-github",
        "colab_type": "text"
      },
      "source": [
        "<a href=\"https://colab.research.google.com/github/vcdemy/20240806/blob/main/20240807%E5%BD%B1%E5%83%8F%E8%99%95%E7%90%86%E7%B0%A1%E4%BB%8B.ipynb\" target=\"_parent\"><img src=\"https://colab.research.google.com/assets/colab-badge.svg\" alt=\"Open In Colab\"/></a>"
      ]
    },
    {
      "cell_type": "markdown",
      "source": [
        "# 影像處理簡介"
      ],
      "metadata": {
        "id": "oFd79XFwQ9Ko"
      }
    },
    {
      "cell_type": "markdown",
      "source": [
        "## 簡單爬蟲範例"
      ],
      "metadata": {
        "id": "7wHJQY5HR2AF"
      }
    },
    {
      "cell_type": "code",
      "source": [
        "import requests"
      ],
      "metadata": {
        "id": "kmWTosXmR4sv"
      },
      "execution_count": 1,
      "outputs": []
    },
    {
      "cell_type": "code",
      "source": [
        "url = \"https://onecms-res.cloudinary.com/image/upload/s--dL9HE8xu--/c_fill,g_auto,h_468,w_830/f_auto,q_auto/v1/8days-migration/lin-chiling-main-data.jpg\""
      ],
      "metadata": {
        "id": "5H8xwhmJSAXw"
      },
      "execution_count": 2,
      "outputs": []
    },
    {
      "cell_type": "code",
      "source": [
        "r = requests.get(url)"
      ],
      "metadata": {
        "id": "a1yZv12ISCYe"
      },
      "execution_count": 3,
      "outputs": []
    },
    {
      "cell_type": "code",
      "source": [
        "# f = open('lin.jpg', 'wb')\n",
        "# f.write(r.content)\n",
        "# f.close()"
      ],
      "metadata": {
        "id": "rCJODpHfUGi1"
      },
      "execution_count": null,
      "outputs": []
    },
    {
      "cell_type": "code",
      "source": [
        "with open('lin.jpg', 'wb') as f:\n",
        "  f.write(r.content)"
      ],
      "metadata": {
        "id": "iZdoVsXFSHyC"
      },
      "execution_count": 4,
      "outputs": []
    },
    {
      "cell_type": "code",
      "source": [
        "r = requests.get(\"http://s.pimg.tw/album2/pwalker/albumset/12000824/zoomcrop/170x170.jpg\")\n",
        "with open('test.jpg', 'wb') as f:\n",
        "  f.write(r.content)"
      ],
      "metadata": {
        "id": "E0jlxGEYT29O"
      },
      "execution_count": 5,
      "outputs": []
    },
    {
      "cell_type": "markdown",
      "source": [
        "## 抓取美女相簿"
      ],
      "metadata": {
        "id": "ekxGOD_fUCWf"
      }
    },
    {
      "cell_type": "code",
      "source": [
        "from bs4 import BeautifulSoup"
      ],
      "metadata": {
        "id": "3xyKYtwnU020"
      },
      "execution_count": 6,
      "outputs": []
    },
    {
      "cell_type": "code",
      "source": [
        "url = \"https://pwalker.pixnet.net/album/list\""
      ],
      "metadata": {
        "id": "BBdFgXCBUnWH"
      },
      "execution_count": 28,
      "outputs": []
    },
    {
      "cell_type": "code",
      "source": [
        "r = requests.get(url)"
      ],
      "metadata": {
        "id": "qLX78hCBVECU"
      },
      "execution_count": 29,
      "outputs": []
    },
    {
      "cell_type": "code",
      "source": [
        "r.encoding = 'utf8'"
      ],
      "metadata": {
        "id": "vrzC2rXcVZZD"
      },
      "execution_count": 30,
      "outputs": []
    },
    {
      "cell_type": "code",
      "source": [
        "soup = BeautifulSoup(r.text)"
      ],
      "metadata": {
        "id": "ZnYEipdbVH_3"
      },
      "execution_count": 31,
      "outputs": []
    },
    {
      "cell_type": "code",
      "source": [
        "for i in soup.select('img.thumb'):\n",
        "  # print(i['alt'], \"==>\", i['src'])\n",
        "  r = requests.get(i['src'])\n",
        "  with open('images/'+i['alt']+'.jpg', 'wb') as f:\n",
        "    f.write(r.content)"
      ],
      "metadata": {
        "id": "nlM9lMgiVU9A"
      },
      "execution_count": 32,
      "outputs": []
    },
    {
      "cell_type": "code",
      "source": [
        "!ls images"
      ],
      "metadata": {
        "colab": {
          "base_uri": "https://localhost:8080/"
        },
        "id": "0KyM_YlCdReB",
        "outputId": "b394161b-fa12-415f-e3ab-d26409db5467"
      },
      "execution_count": 33,
      "outputs": [
        {
          "output_type": "stream",
          "name": "stdout",
          "text": [
            " 9M88.jpg     張鈞甯.jpg       李多慧.jpg   溫嵐.jpg\t   胡晴雯.jpg\t       邵雨薇.jpg\n",
            " 何妤玟.jpg   徐凱希.jpg       李維維.jpg   玉兔.jpg\t  '花花(張嘉雲).jpg'   郭書瑤.jpg\n",
            " 何美.jpg     愷樂.jpg\t       林可彤.jpg   王尹平.jpg\t   荳荳.jpg\t       金淵珍.jpg\n",
            " 勇兔.jpg    '拐拐 2024.jpg'   林岱縈.jpg   王心恬.jpg\t   莫允雯.jpg\t       鍾欣怡.jpg\n",
            " 吳心緹.jpg   拐拐-其他.jpg    林真亦.jpg   王怡仁.jpg\t   莫棠予.jpg\t       阿圓.jpg\n",
            " 吳怡霈.jpg   方志友.jpg       林莎.jpg     王麗雅.jpg\t   葉羿君.jpg\t       陳孝萱.jpg\n",
            " 周曉涵.jpg   曾智希.jpg       林萱瑜.jpg   瑞瑪席丹.jpg   蔡依林.jpg\t       陳語安.jpg\n",
            " 壯壯.jpg     曾菀婷.jpg       林葦茹.jpg   畇二.jpg\t   蔡宜家.jpg\t       雷達達.jpg\n",
            " 夏語心.jpg   曾韋綺.jpg       柯以柔.jpg   盧映融.jpg\t   蔡黃汝.jpg\t       馮媛甄.jpg\n",
            " 安心亞.jpg   朱芯儀.jpg       梁以辰.jpg   程瀟.jpg\t   薔薔.jpg\t       黃喬歆.jpg\n",
            " 小嫻.jpg     李冰冰.jpg       楊丞琳.jpg   篠崎泫.jpg\t   袁艾菲.jpg\n",
            " 峮峮.jpg     李千娜.jpg       楊千霈.jpg   簡嫚書.jpg\t   許瑋甯.jpg\n"
          ]
        }
      ]
    },
    {
      "cell_type": "code",
      "source": [
        "!rm images/林*.jpg"
      ],
      "metadata": {
        "id": "glcyNuFgdbVz"
      },
      "execution_count": 34,
      "outputs": []
    },
    {
      "cell_type": "code",
      "source": [
        "!ls images"
      ],
      "metadata": {
        "colab": {
          "base_uri": "https://localhost:8080/"
        },
        "id": "tpu_lPzzdiwq",
        "outputId": "365746eb-c660-4f7d-ff2a-692a18bf5966"
      },
      "execution_count": 35,
      "outputs": [
        {
          "output_type": "stream",
          "name": "stdout",
          "text": [
            " 9M88.jpg     峮峮.jpg\t       李冰冰.jpg   王心恬.jpg\t        荳荳.jpg     郭書瑤.jpg\n",
            " 何妤玟.jpg   張鈞甯.jpg       李千娜.jpg   王怡仁.jpg\t        莫允雯.jpg   金淵珍.jpg\n",
            " 何美.jpg     徐凱希.jpg       李多慧.jpg   王麗雅.jpg\t        莫棠予.jpg   鍾欣怡.jpg\n",
            " 勇兔.jpg     愷樂.jpg\t       李維維.jpg   瑞瑪席丹.jpg        葉羿君.jpg   阿圓.jpg\n",
            " 吳心緹.jpg  '拐拐 2024.jpg'   柯以柔.jpg   畇二.jpg\t        蔡依林.jpg   陳孝萱.jpg\n",
            " 吳怡霈.jpg   拐拐-其他.jpg    梁以辰.jpg   盧映融.jpg\t        蔡宜家.jpg   陳語安.jpg\n",
            " 周曉涵.jpg   方志友.jpg       楊丞琳.jpg   程瀟.jpg\t        蔡黃汝.jpg   雷達達.jpg\n",
            " 壯壯.jpg     曾智希.jpg       楊千霈.jpg   篠崎泫.jpg\t        薔薔.jpg     馮媛甄.jpg\n",
            " 夏語心.jpg   曾菀婷.jpg       溫嵐.jpg     簡嫚書.jpg\t        袁艾菲.jpg   黃喬歆.jpg\n",
            " 安心亞.jpg   曾韋綺.jpg       玉兔.jpg     胡晴雯.jpg\t        許瑋甯.jpg\n",
            " 小嫻.jpg     朱芯儀.jpg       王尹平.jpg  '花花(張嘉雲).jpg'   邵雨薇.jpg\n"
          ]
        }
      ]
    },
    {
      "cell_type": "markdown",
      "source": [
        "## 掛載google drive"
      ],
      "metadata": {
        "id": "ZFOwsHiCd3x9"
      }
    },
    {
      "cell_type": "code",
      "source": [],
      "metadata": {
        "id": "qEH1YZOwd7TA"
      },
      "execution_count": null,
      "outputs": []
    },
    {
      "cell_type": "markdown",
      "source": [
        "## 抓取電商相簿"
      ],
      "metadata": {
        "id": "TVxASOY-X4Ao"
      }
    },
    {
      "cell_type": "code",
      "source": [
        "url = \"https://www.green-n-safe.com/\"\n",
        "headers = {'User-Agent':'Mozilla/5.0 (Windows NT 10.0; Win64; x64) AppleWebKit/537.36 (KHTML, like Gecko) Chrome/127.0.0.0 Safari/537.36'}\n",
        "r = requests.get(url, headers=headers)\n",
        "soup = BeautifulSoup(r.text)\n",
        "for i in soup.select('img.embed__img'):\n",
        "  try:\n",
        "    print(i['alt'], \"==>\", i['src'])\n",
        "  except:\n",
        "    pass"
      ],
      "metadata": {
        "colab": {
          "base_uri": "https://localhost:8080/"
        },
        "id": "6_KTkl_wVXDz",
        "outputId": "98dee184-ecda-4a6c-f8a6-5470a86bde89"
      },
      "execution_count": 26,
      "outputs": [
        {
          "output_type": "stream",
          "name": "stdout",
          "text": [
            "春日居水蜜桃-1 ==> https://www.green-n-safe.com/uploads/images/thumbs/0011702_春日居水蜜桃-1.jpeg\n",
            "【山海樓】山海風土禮讚禮盒-1 ==> https://www.green-n-safe.com/uploads/images/thumbs/0011488_【山海樓】山海風土禮讚禮盒-1.jpeg\n",
            "伊比利豬梅花肉片-1 ==> https://www.green-n-safe.com/uploads/images/thumbs/0011588_伊比利豬梅花肉片-1.jpeg\n",
            "澎湖現撈野生大明蝦-2 ==> https://www.green-n-safe.com/uploads/images/thumbs/0011695_澎湖現撈野生大明蝦-2.jpeg\n",
            "晴王包裝散2 ==> https://www.green-n-safe.com/uploads/images/thumbs/0006055_晴王包裝散2.jpeg\n",
            "三星上將黃金蜜雪梨-2 ==> https://www.green-n-safe.com/uploads/images/thumbs/0011697_三星上將黃金蜜雪梨-2.jpeg\n",
            "日本長野水蜜桃-2 ==> https://www.green-n-safe.com/uploads/images/thumbs/0006384_日本長野水蜜桃-2.jpeg\n",
            "台灣安格斯黑牛燒烤組-1 ==> https://www.green-n-safe.com/uploads/images/thumbs/0011686_台灣安格斯黑牛燒烤組-1.jpeg\n",
            "紅藜燕麥豆漿-1 ==> https://www.green-n-safe.com/uploads/images/thumbs/0010422_紅藜燕麥豆漿-1.jpeg\n",
            "蜂王乳大豆異黃酮熟女飲-1 ==> https://www.green-n-safe.com/uploads/images/thumbs/0011171_蜂王乳大豆異黃酮熟女飲-1.jpeg\n",
            "梨山秋香蘋果-1 ==> https://www.green-n-safe.com/uploads/images/thumbs/0009167_梨山秋香蘋果-1.jpeg\n",
            "酸菜魚-2 ==> https://www.green-n-safe.com/uploads/images/thumbs/0011184_酸菜魚-2.jpeg\n",
            "在地輕焙南瓜籽油-1 ==> https://www.green-n-safe.com/uploads/images/thumbs/0011586_在地輕焙南瓜籽油-1.jpeg\n",
            "有機東方美人茶禮盒-2 ==> https://www.green-n-safe.com/uploads/images/thumbs/0008712_有機東方美人茶禮盒-2.jpeg\n",
            "法國空運LABEYRIE鮭魚卵-1 ==> https://www.green-n-safe.com/uploads/images/thumbs/0011567_法國空運LABEYRIE鮭魚卵-1.jpeg\n",
            "舒肥極嫩雞胸肉 ==> https://www.green-n-safe.com/uploads/images/thumbs/0005333_舒肥極嫩雞胸肉.jpeg\n",
            "紐澳良雞翅-1 ==> https://www.green-n-safe.com/uploads/images/thumbs/0011690_紐澳良雞翅-1.jpeg\n",
            "麻油雞米糕 ==> https://www.green-n-safe.com/uploads/images/thumbs/0007337_麻油雞米糕.jpeg\n",
            "春一枝天然水果手作冰棒(蜂蜜文旦口味)-1 ==> https://www.green-n-safe.com/uploads/images/thumbs/0011705_春一枝天然水果手作冰棒(蜂蜜文旦口味)-1.jpeg\n",
            "原生月桃植萃洗髮皂-2 ==> https://www.green-n-safe.com/uploads/images/thumbs/0011459_原生月桃植萃洗髮皂-2.jpeg\n",
            "紐澳良雞翅-1 ==> https://www.green-n-safe.com/uploads/images/thumbs/0011690_紐澳良雞翅-1.jpeg\n",
            "迷迭香生醃雞胸肉 ==> https://www.green-n-safe.com/uploads/images/thumbs/0005598_迷迭香生醃雞胸肉.jpeg\n",
            "麻油雞米糕 ==> https://www.green-n-safe.com/uploads/images/thumbs/0007337_麻油雞米糕.jpeg\n",
            "伊比利豬梅花肉片-1 ==> https://www.green-n-safe.com/uploads/images/thumbs/0011588_伊比利豬梅花肉片-1.jpeg\n",
            "會員獨享 ==> https://www.green-n-safe.com/uploads/images/thumbs/0001070_0001070_會員獨享1176x640-3.jpeg\n",
            "伊比利豬梅花肉片-1 ==> https://www.green-n-safe.com/uploads/images/thumbs/0011588_伊比利豬梅花肉片-1.jpeg\n",
            "澎湖現撈野生大明蝦-2 ==> https://www.green-n-safe.com/uploads/images/thumbs/0011695_澎湖現撈野生大明蝦-2.jpeg\n",
            "紐澳良雞翅-1 ==> https://www.green-n-safe.com/uploads/images/thumbs/0011690_紐澳良雞翅-1.jpeg\n",
            "麻油雞米糕 ==> https://www.green-n-safe.com/uploads/images/thumbs/0007337_麻油雞米糕.jpeg\n",
            "鬼頭刀酸菜魚-3 ==> https://www.green-n-safe.com/uploads/images/thumbs/0011620_鬼頭刀酸菜魚-3.jpeg\n",
            "永豐高纖麵 ==> https://www.green-n-safe.com/uploads/images/thumbs/0006162_永豐高纖麵.jpeg\n",
            "紅藜燕麥豆漿-1 ==> https://www.green-n-safe.com/uploads/images/thumbs/0010422_紅藜燕麥豆漿-1.jpeg\n",
            "芝麻杏仁黑米漿-1 ==> https://www.green-n-safe.com/uploads/images/thumbs/0010423_芝麻杏仁黑米漿-1.jpeg\n",
            "台灣安格斯黑牛燒烤組-1 ==> https://www.green-n-safe.com/uploads/images/thumbs/0011686_台灣安格斯黑牛燒烤組-1.jpeg\n",
            "春一枝天然水果手作冰棒(蜂蜜文旦口味)-1 ==> https://www.green-n-safe.com/uploads/images/thumbs/0011705_春一枝天然水果手作冰棒(蜂蜜文旦口味)-1.jpeg\n",
            "酸菜魚-2 ==> https://www.green-n-safe.com/uploads/images/thumbs/0011184_酸菜魚-2.jpeg\n",
            "口水雞-1 ==> https://www.green-n-safe.com/uploads/images/thumbs/0011045_口水雞-1.jpeg\n",
            "熱銷推薦 ==> https://www.green-n-safe.com/uploads/images/thumbs/0001075_0001075_熱銷推薦1176x640-2.jpeg\n",
            "伊比利豬梅花肉片-1 ==> https://www.green-n-safe.com/uploads/images/thumbs/0011588_伊比利豬梅花肉片-1.jpeg\n",
            "台灣安格斯黑牛燒烤組-1 ==> https://www.green-n-safe.com/uploads/images/thumbs/0011686_台灣安格斯黑牛燒烤組-1.jpeg\n",
            "【山海樓】山海風土禮讚禮盒-1 ==> https://www.green-n-safe.com/uploads/images/thumbs/0011488_【山海樓】山海風土禮讚禮盒-1.jpeg\n",
            "寶島果乾芋泥粽-1 ==> https://www.green-n-safe.com/uploads/images/thumbs/0011466_寶島果乾芋泥粽-1.jpeg\n",
            "寶島果乾芋泥粽-1 ==> https://www.green-n-safe.com/uploads/images/thumbs/0011466_寶島果乾芋泥粽-1.jpeg\n",
            "麻油雞米糕 ==> https://www.green-n-safe.com/uploads/images/thumbs/0007337_麻油雞米糕.jpeg\n",
            "澎湖現撈野生大明蝦-2 ==> https://www.green-n-safe.com/uploads/images/thumbs/0011695_澎湖現撈野生大明蝦-2.jpeg\n",
            "澎湖野生紅條分切禮盒組-1 ==> https://www.green-n-safe.com/uploads/images/thumbs/0008240_澎湖野生紅條分切禮盒組-1.jpeg\n",
            "永豐餘生技 獨家聯名商品 ==> https://www.green-n-safe.com/uploads/images/thumbs/0001564_獨家名廚系列商品-活動頁-2.jpeg\n",
            "麻油雞米糕 ==> https://www.green-n-safe.com/uploads/images/thumbs/0007337_麻油雞米糕.jpeg\n",
            "【山海樓】山海風土禮讚禮盒-1 ==> https://www.green-n-safe.com/uploads/images/thumbs/0011488_【山海樓】山海風土禮讚禮盒-1.jpeg\n",
            "Bo.lan泰式紅咖哩雞_1000 ==> https://www.green-n-safe.com/uploads/images/thumbs/0005956_Bo.lan泰式紅咖哩雞_1000.jpeg\n",
            "山海烏魚子小卷醬-山海樓聯名-1 ==> https://www.green-n-safe.com/uploads/images/thumbs/0011152_山海烏魚子小卷醬-山海樓聯名-1.jpeg\n",
            "在家享用各式小吃24小時不打烊 ==> https://www.green-n-safe.com/uploads/images/thumbs/0005865_0315-港式小吃-1176X640.jpeg\n",
            "酸菜魚-2 ==> https://www.green-n-safe.com/uploads/images/thumbs/0011184_酸菜魚-2.jpeg\n",
            "紐澳良雞翅-1 ==> https://www.green-n-safe.com/uploads/images/thumbs/0011690_紐澳良雞翅-1.jpeg\n",
            "迷迭香生醃雞胸肉 ==> https://www.green-n-safe.com/uploads/images/thumbs/0005598_迷迭香生醃雞胸肉.jpeg\n",
            "麻油雞米糕 ==> https://www.green-n-safe.com/uploads/images/thumbs/0007337_麻油雞米糕.jpeg\n",
            "寵物手工零食黑芝麻草飼牛-1 ==> https://www.green-n-safe.com/uploads/images/thumbs/0010827_寵物手工零食黑芝麻草飼牛-1.jpeg\n",
            "寵物鮮食包無穀雞肉-1 ==> https://www.green-n-safe.com/uploads/images/thumbs/0010859_寵物鮮食包無穀雞肉-1.jpeg\n",
            "宮崎日曬魩仔魚 ==> https://www.green-n-safe.com/uploads/images/thumbs/0007982_現撈野生魩仔魚(熟凍).jpeg\n",
            "日本有機蔬菜紙-1 ==> https://www.green-n-safe.com/uploads/images/thumbs/0008333_日本有機蔬菜紙-1.jpeg\n"
          ]
        }
      ]
    },
    {
      "cell_type": "markdown",
      "source": [
        "## 常用python影像處理套件\n",
        "\n",
        "* pillow (PIL)\n",
        "* scikit-image\n",
        "* opencv"
      ],
      "metadata": {
        "id": "3rWR9udpRGUE"
      }
    },
    {
      "cell_type": "markdown",
      "source": [
        "### pillow (PIL)"
      ],
      "metadata": {
        "id": "hzbRcHDvRhv3"
      }
    },
    {
      "cell_type": "code",
      "execution_count": null,
      "metadata": {
        "id": "aoyaePe1Q0_s"
      },
      "outputs": [],
      "source": []
    }
  ]
}