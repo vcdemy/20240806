{
  "nbformat": 4,
  "nbformat_minor": 0,
  "metadata": {
    "colab": {
      "provenance": [],
      "authorship_tag": "ABX9TyNqBBxu0qDklHjpYWludS3j",
      "include_colab_link": true
    },
    "kernelspec": {
      "name": "python3",
      "display_name": "Python 3"
    },
    "language_info": {
      "name": "python"
    }
  },
  "cells": [
    {
      "cell_type": "markdown",
      "metadata": {
        "id": "view-in-github",
        "colab_type": "text"
      },
      "source": [
        "<a href=\"https://colab.research.google.com/github/vcdemy/20240806/blob/main/20240807%E7%AD%86%E8%A8%98.ipynb\" target=\"_parent\"><img src=\"https://colab.research.google.com/assets/colab-badge.svg\" alt=\"Open In Colab\"/></a>"
      ]
    },
    {
      "cell_type": "markdown",
      "source": [
        "# 20240807筆記"
      ],
      "metadata": {
        "id": "tcBO99d0h69w"
      }
    },
    {
      "cell_type": "markdown",
      "source": [
        "## python的基礎容器型別\n",
        "\n",
        "* list (*) => [ ]\n",
        "* tuple => ( )\n",
        "* dict (*) => { }\n",
        "* set => { }"
      ],
      "metadata": {
        "id": "97OWQs4Ph-SV"
      }
    },
    {
      "cell_type": "markdown",
      "source": [
        "### list => [ ]"
      ],
      "metadata": {
        "id": "fLiyz5O9ipke"
      }
    },
    {
      "cell_type": "markdown",
      "source": [
        "* indexing (索引)\n",
        "* slicing (切片)"
      ],
      "metadata": {
        "id": "i31hdvxHjQf7"
      }
    },
    {
      "cell_type": "code",
      "execution_count": 1,
      "metadata": {
        "id": "0yTFg4l2hsf5"
      },
      "outputs": [],
      "source": [
        "x = ['a', 'b', 'c', 'd', 'e']"
      ]
    },
    {
      "cell_type": "code",
      "source": [
        "type(x)"
      ],
      "metadata": {
        "colab": {
          "base_uri": "https://localhost:8080/"
        },
        "id": "gszuuynRj3wU",
        "outputId": "1d569c00-d91a-4f04-ca93-e93cf84bdeaf"
      },
      "execution_count": 2,
      "outputs": [
        {
          "output_type": "execute_result",
          "data": {
            "text/plain": [
              "list"
            ]
          },
          "metadata": {},
          "execution_count": 2
        }
      ]
    },
    {
      "cell_type": "markdown",
      "source": [
        "#### indexing"
      ],
      "metadata": {
        "id": "ZeVw9tP8kAMb"
      }
    },
    {
      "cell_type": "code",
      "source": [
        "x[0]"
      ],
      "metadata": {
        "colab": {
          "base_uri": "https://localhost:8080/",
          "height": 35
        },
        "id": "q8xeOxijj8AS",
        "outputId": "580fcc9b-8ef5-48aa-9e76-55945d27cd30"
      },
      "execution_count": 3,
      "outputs": [
        {
          "output_type": "execute_result",
          "data": {
            "text/plain": [
              "'a'"
            ],
            "application/vnd.google.colaboratory.intrinsic+json": {
              "type": "string"
            }
          },
          "metadata": {},
          "execution_count": 3
        }
      ]
    },
    {
      "cell_type": "code",
      "source": [
        "x[3]"
      ],
      "metadata": {
        "colab": {
          "base_uri": "https://localhost:8080/",
          "height": 35
        },
        "id": "gYdPHae6kFIy",
        "outputId": "f1bd8e3c-8621-4ccc-9e04-8fd76d96cff0"
      },
      "execution_count": 4,
      "outputs": [
        {
          "output_type": "execute_result",
          "data": {
            "text/plain": [
              "'d'"
            ],
            "application/vnd.google.colaboratory.intrinsic+json": {
              "type": "string"
            }
          },
          "metadata": {},
          "execution_count": 4
        }
      ]
    },
    {
      "cell_type": "code",
      "source": [
        "x[-2]"
      ],
      "metadata": {
        "colab": {
          "base_uri": "https://localhost:8080/",
          "height": 35
        },
        "id": "7OpsOPiukNdG",
        "outputId": "c4f7411d-7de4-48ca-9cd8-a405e2906130"
      },
      "execution_count": 5,
      "outputs": [
        {
          "output_type": "execute_result",
          "data": {
            "text/plain": [
              "'d'"
            ],
            "application/vnd.google.colaboratory.intrinsic+json": {
              "type": "string"
            }
          },
          "metadata": {},
          "execution_count": 5
        }
      ]
    },
    {
      "cell_type": "markdown",
      "source": [
        "#### 練習\n",
        "\n",
        "請取出底下網址上的圖片的檔名：\n",
        "\n",
        "https://onecms-res.cloudinary.com/image/upload/s--dL9HE8xu--/c_fill,g_auto,h_468,w_830/f_auto,q_auto/v1/8days-migration/lin-chiling-main-data.jpg"
      ],
      "metadata": {
        "id": "30-xHgGzkjem"
      }
    },
    {
      "cell_type": "code",
      "source": [
        "url = \"https://onecms-res.cloudinary.com/image/upload/s--dL9HE8xu--/c_fill,g_auto,h_468,w_830/f_auto,q_auto/v1/8days-migration/lin-chiling-main-data.jpg\""
      ],
      "metadata": {
        "id": "qvpZ-J2vkRlD"
      },
      "execution_count": 6,
      "outputs": []
    },
    {
      "cell_type": "code",
      "source": [
        "# 取出上面的url裡面的圖檔的檔名\n",
        "url[-15:]"
      ],
      "metadata": {
        "colab": {
          "base_uri": "https://localhost:8080/",
          "height": 35
        },
        "id": "1wmiGMpWku55",
        "outputId": "d8c54ccc-9a0f-4132-fdad-25eb6b265bcc"
      },
      "execution_count": 7,
      "outputs": [
        {
          "output_type": "execute_result",
          "data": {
            "text/plain": [
              "'g-main-data.jpg'"
            ],
            "application/vnd.google.colaboratory.intrinsic+json": {
              "type": "string"
            }
          },
          "metadata": {},
          "execution_count": 7
        }
      ]
    },
    {
      "cell_type": "code",
      "source": [
        "url.split(\"/\")"
      ],
      "metadata": {
        "colab": {
          "base_uri": "https://localhost:8080/"
        },
        "id": "4j65fLe_lDN3",
        "outputId": "eaefffd1-ec49-4168-ece8-3fa9a52fd33f"
      },
      "execution_count": 8,
      "outputs": [
        {
          "output_type": "execute_result",
          "data": {
            "text/plain": [
              "['https:',\n",
              " '',\n",
              " 'onecms-res.cloudinary.com',\n",
              " 'image',\n",
              " 'upload',\n",
              " 's--dL9HE8xu--',\n",
              " 'c_fill,g_auto,h_468,w_830',\n",
              " 'f_auto,q_auto',\n",
              " 'v1',\n",
              " '8days-migration',\n",
              " 'lin-chiling-main-data.jpg']"
            ]
          },
          "metadata": {},
          "execution_count": 8
        }
      ]
    },
    {
      "cell_type": "code",
      "source": [
        "url.split(\"/\")[10]"
      ],
      "metadata": {
        "colab": {
          "base_uri": "https://localhost:8080/",
          "height": 35
        },
        "id": "qafXmghglOKf",
        "outputId": "3fa75515-26d6-4dba-d07e-52371f783f3a"
      },
      "execution_count": 9,
      "outputs": [
        {
          "output_type": "execute_result",
          "data": {
            "text/plain": [
              "'lin-chiling-main-data.jpg'"
            ],
            "application/vnd.google.colaboratory.intrinsic+json": {
              "type": "string"
            }
          },
          "metadata": {},
          "execution_count": 9
        }
      ]
    },
    {
      "cell_type": "code",
      "source": [
        "url.split(\"/\")[-1]"
      ],
      "metadata": {
        "colab": {
          "base_uri": "https://localhost:8080/",
          "height": 35
        },
        "id": "HXAYw7NIlX4c",
        "outputId": "5876aa53-9d68-4e87-da82-91c969bd4524"
      },
      "execution_count": 10,
      "outputs": [
        {
          "output_type": "execute_result",
          "data": {
            "text/plain": [
              "'lin-chiling-main-data.jpg'"
            ],
            "application/vnd.google.colaboratory.intrinsic+json": {
              "type": "string"
            }
          },
          "metadata": {},
          "execution_count": 10
        }
      ]
    },
    {
      "cell_type": "markdown",
      "source": [
        "#### slicing"
      ],
      "metadata": {
        "id": "UAfnx2dgljaa"
      }
    },
    {
      "cell_type": "code",
      "source": [
        "x"
      ],
      "metadata": {
        "colab": {
          "base_uri": "https://localhost:8080/"
        },
        "id": "YaiNhIuUlZjz",
        "outputId": "86bf7971-8a3e-4a2a-c819-0963c865feb7"
      },
      "execution_count": 11,
      "outputs": [
        {
          "output_type": "execute_result",
          "data": {
            "text/plain": [
              "['a', 'b', 'c', 'd', 'e']"
            ]
          },
          "metadata": {},
          "execution_count": 11
        }
      ]
    },
    {
      "cell_type": "code",
      "source": [
        "x[1:3]"
      ],
      "metadata": {
        "colab": {
          "base_uri": "https://localhost:8080/"
        },
        "id": "V2-K1VtDll4t",
        "outputId": "8fbcd45e-3fdf-4e33-a776-1fed7fe0bb4d"
      },
      "execution_count": 12,
      "outputs": [
        {
          "output_type": "execute_result",
          "data": {
            "text/plain": [
              "['b', 'c']"
            ]
          },
          "metadata": {},
          "execution_count": 12
        }
      ]
    },
    {
      "cell_type": "code",
      "source": [
        "x[:3]"
      ],
      "metadata": {
        "colab": {
          "base_uri": "https://localhost:8080/"
        },
        "id": "lW7ggcxdlsbT",
        "outputId": "3cc18fe0-9f3e-4d46-b14c-6983724c2ac6"
      },
      "execution_count": 13,
      "outputs": [
        {
          "output_type": "execute_result",
          "data": {
            "text/plain": [
              "['a', 'b', 'c']"
            ]
          },
          "metadata": {},
          "execution_count": 13
        }
      ]
    },
    {
      "cell_type": "code",
      "source": [
        "x[1:]"
      ],
      "metadata": {
        "colab": {
          "base_uri": "https://localhost:8080/"
        },
        "id": "aWpjgJC5lzhN",
        "outputId": "933afa4d-e687-4cd2-a7b6-5cd81595ffdf"
      },
      "execution_count": 14,
      "outputs": [
        {
          "output_type": "execute_result",
          "data": {
            "text/plain": [
              "['b', 'c', 'd', 'e']"
            ]
          },
          "metadata": {},
          "execution_count": 14
        }
      ]
    },
    {
      "cell_type": "code",
      "source": [
        "x[-3:]"
      ],
      "metadata": {
        "colab": {
          "base_uri": "https://localhost:8080/"
        },
        "id": "e7ZT_Tx8l3BU",
        "outputId": "9bed7b06-107d-4966-e60f-8dfc23a7cb26"
      },
      "execution_count": 15,
      "outputs": [
        {
          "output_type": "execute_result",
          "data": {
            "text/plain": [
              "['c', 'd', 'e']"
            ]
          },
          "metadata": {},
          "execution_count": 15
        }
      ]
    },
    {
      "cell_type": "code",
      "source": [],
      "metadata": {
        "id": "HSk_4qh7l5-1"
      },
      "execution_count": null,
      "outputs": []
    }
  ]
}