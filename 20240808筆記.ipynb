{
  "nbformat": 4,
  "nbformat_minor": 0,
  "metadata": {
    "colab": {
      "provenance": [],
      "authorship_tag": "ABX9TyNIJCXbowe71p+Cm8lNwvjW",
      "include_colab_link": true
    },
    "kernelspec": {
      "name": "python3",
      "display_name": "Python 3"
    },
    "language_info": {
      "name": "python"
    }
  },
  "cells": [
    {
      "cell_type": "markdown",
      "metadata": {
        "id": "view-in-github",
        "colab_type": "text"
      },
      "source": [
        "<a href=\"https://colab.research.google.com/github/vcdemy/20240806/blob/main/20240808%E7%AD%86%E8%A8%98.ipynb\" target=\"_parent\"><img src=\"https://colab.research.google.com/assets/colab-badge.svg\" alt=\"Open In Colab\"/></a>"
      ]
    },
    {
      "cell_type": "markdown",
      "source": [
        "# 20240808筆記"
      ],
      "metadata": {
        "id": "iGRB67iIjCFA"
      }
    },
    {
      "cell_type": "markdown",
      "source": [
        "## 基本資料型態\n",
        "\n",
        "* int\n",
        "* float\n",
        "* bool\n",
        "* str"
      ],
      "metadata": {
        "id": "eaSxQ_12jFIQ"
      }
    },
    {
      "cell_type": "markdown",
      "source": [
        "## 基礎容器型別\n",
        "\n",
        "* list\n",
        "* tuple\n",
        "* dict\n",
        "* set"
      ],
      "metadata": {
        "id": "tHxR2LvsjM0r"
      }
    },
    {
      "cell_type": "markdown",
      "source": [
        "## 基礎語法\n",
        "\n",
        "* loops\n",
        "* functions\n",
        "* if statements\n",
        "* exception handling"
      ],
      "metadata": {
        "id": "GMsE7-kzjT53"
      }
    },
    {
      "cell_type": "markdown",
      "source": [
        "## 基礎資料分析\n",
        "\n",
        "* numpy\n",
        "* matplotlib\n",
        "* pandas"
      ],
      "metadata": {
        "id": "8xgBZH7ujbqI"
      }
    },
    {
      "cell_type": "markdown",
      "source": [
        "## 字串(str)的運算(加法跟乘法)"
      ],
      "metadata": {
        "id": "CKQnBd-TkJn4"
      }
    },
    {
      "cell_type": "code",
      "source": [
        "x = \"dog\""
      ],
      "metadata": {
        "id": "tNwwK8DsjbAn"
      },
      "execution_count": 1,
      "outputs": []
    },
    {
      "cell_type": "code",
      "source": [
        "y = \"cat\""
      ],
      "metadata": {
        "id": "xKDHW7gfjTYa"
      },
      "execution_count": 2,
      "outputs": []
    },
    {
      "cell_type": "code",
      "source": [
        "x + y"
      ],
      "metadata": {
        "colab": {
          "base_uri": "https://localhost:8080/",
          "height": 35
        },
        "id": "zJHKM7G6jMH9",
        "outputId": "a0595410-5feb-4811-f7a5-60fe7705fd61"
      },
      "execution_count": 3,
      "outputs": [
        {
          "output_type": "execute_result",
          "data": {
            "text/plain": [
              "'dogcat'"
            ],
            "application/vnd.google.colaboratory.intrinsic+json": {
              "type": "string"
            }
          },
          "metadata": {},
          "execution_count": 3
        }
      ]
    },
    {
      "cell_type": "code",
      "source": [
        "2 * x"
      ],
      "metadata": {
        "colab": {
          "base_uri": "https://localhost:8080/",
          "height": 35
        },
        "id": "uYL-cviPjEV7",
        "outputId": "b354e10e-4224-4cdc-f3c9-07d5bf9845ea"
      },
      "execution_count": 4,
      "outputs": [
        {
          "output_type": "execute_result",
          "data": {
            "text/plain": [
              "'dogdog'"
            ],
            "application/vnd.google.colaboratory.intrinsic+json": {
              "type": "string"
            }
          },
          "metadata": {},
          "execution_count": 4
        }
      ]
    },
    {
      "cell_type": "markdown",
      "source": [
        "### 應用練習\n",
        "\n",
        "請用for迴圈跟'*'劃出金字塔。\n",
        "\n",
        "```\n",
        "      *\n",
        "     ***\n",
        "    *****\n",
        "   *******\n",
        "  *********\n",
        "```"
      ],
      "metadata": {
        "id": "feQwocDzkpfU"
      }
    },
    {
      "cell_type": "code",
      "execution_count": 5,
      "metadata": {
        "colab": {
          "base_uri": "https://localhost:8080/"
        },
        "id": "KrHKsm-qivEZ",
        "outputId": "de8a861f-3ccd-447c-ed8c-2dc7fc4cf66b"
      },
      "outputs": [
        {
          "output_type": "stream",
          "name": "stdout",
          "text": [
            "0\n",
            "1\n",
            "2\n",
            "3\n",
            "4\n"
          ]
        }
      ],
      "source": [
        "for i in range(5):\n",
        "  print(i)"
      ]
    },
    {
      "cell_type": "code",
      "source": [
        "for i in range(5):\n",
        "  print(i*'*')"
      ],
      "metadata": {
        "colab": {
          "base_uri": "https://localhost:8080/"
        },
        "id": "beatS821lHKk",
        "outputId": "0d720b5c-1d5a-4a43-d9a3-f27f4d95f6f8"
      },
      "execution_count": 6,
      "outputs": [
        {
          "output_type": "stream",
          "name": "stdout",
          "text": [
            "\n",
            "*\n",
            "**\n",
            "***\n",
            "****\n"
          ]
        }
      ]
    },
    {
      "cell_type": "code",
      "source": [],
      "metadata": {
        "id": "KyuXPBFflLrF"
      },
      "execution_count": null,
      "outputs": []
    }
  ]
}