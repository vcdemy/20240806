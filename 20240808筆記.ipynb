{
  "nbformat": 4,
  "nbformat_minor": 0,
  "metadata": {
    "colab": {
      "provenance": [],
      "authorship_tag": "ABX9TyM05usuZ2ItGKNiRCNIgd/K",
      "include_colab_link": true
    },
    "kernelspec": {
      "name": "python3",
      "display_name": "Python 3"
    },
    "language_info": {
      "name": "python"
    }
  },
  "cells": [
    {
      "cell_type": "markdown",
      "metadata": {
        "id": "view-in-github",
        "colab_type": "text"
      },
      "source": [
        "<a href=\"https://colab.research.google.com/github/vcdemy/20240806/blob/main/20240808%E7%AD%86%E8%A8%98.ipynb\" target=\"_parent\"><img src=\"https://colab.research.google.com/assets/colab-badge.svg\" alt=\"Open In Colab\"/></a>"
      ]
    },
    {
      "cell_type": "markdown",
      "source": [
        "# 20240808筆記"
      ],
      "metadata": {
        "id": "iGRB67iIjCFA"
      }
    },
    {
      "cell_type": "markdown",
      "source": [
        "## 基本資料型態\n",
        "\n",
        "* int\n",
        "* float\n",
        "* bool\n",
        "* str"
      ],
      "metadata": {
        "id": "eaSxQ_12jFIQ"
      }
    },
    {
      "cell_type": "markdown",
      "source": [
        "## 基礎容器型別\n",
        "\n",
        "* list\n",
        "* tuple\n",
        "* dict\n",
        "* set"
      ],
      "metadata": {
        "id": "tHxR2LvsjM0r"
      }
    },
    {
      "cell_type": "markdown",
      "source": [
        "## 基礎語法\n",
        "\n",
        "* loops\n",
        "* functions\n",
        "* if statements\n",
        "* exception handling"
      ],
      "metadata": {
        "id": "GMsE7-kzjT53"
      }
    },
    {
      "cell_type": "markdown",
      "source": [
        "## 基礎資料分析\n",
        "\n",
        "* numpy\n",
        "* matplotlib\n",
        "* pandas"
      ],
      "metadata": {
        "id": "8xgBZH7ujbqI"
      }
    },
    {
      "cell_type": "markdown",
      "source": [
        "## 字串(str)的運算(加法跟乘法)"
      ],
      "metadata": {
        "id": "CKQnBd-TkJn4"
      }
    },
    {
      "cell_type": "code",
      "source": [
        "x = \"dog\""
      ],
      "metadata": {
        "id": "tNwwK8DsjbAn"
      },
      "execution_count": 1,
      "outputs": []
    },
    {
      "cell_type": "code",
      "source": [
        "y = \"cat\""
      ],
      "metadata": {
        "id": "xKDHW7gfjTYa"
      },
      "execution_count": 2,
      "outputs": []
    },
    {
      "cell_type": "code",
      "source": [
        "x + y"
      ],
      "metadata": {
        "colab": {
          "base_uri": "https://localhost:8080/",
          "height": 35
        },
        "id": "zJHKM7G6jMH9",
        "outputId": "a0595410-5feb-4811-f7a5-60fe7705fd61"
      },
      "execution_count": 3,
      "outputs": [
        {
          "output_type": "execute_result",
          "data": {
            "text/plain": [
              "'dogcat'"
            ],
            "application/vnd.google.colaboratory.intrinsic+json": {
              "type": "string"
            }
          },
          "metadata": {},
          "execution_count": 3
        }
      ]
    },
    {
      "cell_type": "code",
      "source": [
        "2 * x"
      ],
      "metadata": {
        "colab": {
          "base_uri": "https://localhost:8080/",
          "height": 35
        },
        "id": "uYL-cviPjEV7",
        "outputId": "b354e10e-4224-4cdc-f3c9-07d5bf9845ea"
      },
      "execution_count": 4,
      "outputs": [
        {
          "output_type": "execute_result",
          "data": {
            "text/plain": [
              "'dogdog'"
            ],
            "application/vnd.google.colaboratory.intrinsic+json": {
              "type": "string"
            }
          },
          "metadata": {},
          "execution_count": 4
        }
      ]
    },
    {
      "cell_type": "markdown",
      "source": [
        "### 應用練習 01\n",
        "\n",
        "請用for迴圈跟'*'劃出金字塔。\n",
        "\n",
        "```\n",
        "      *\n",
        "     ***\n",
        "    *****\n",
        "   *******\n",
        "  *********\n",
        "```"
      ],
      "metadata": {
        "id": "feQwocDzkpfU"
      }
    },
    {
      "cell_type": "code",
      "execution_count": 5,
      "metadata": {
        "colab": {
          "base_uri": "https://localhost:8080/"
        },
        "id": "KrHKsm-qivEZ",
        "outputId": "de8a861f-3ccd-447c-ed8c-2dc7fc4cf66b"
      },
      "outputs": [
        {
          "output_type": "stream",
          "name": "stdout",
          "text": [
            "0\n",
            "1\n",
            "2\n",
            "3\n",
            "4\n"
          ]
        }
      ],
      "source": [
        "for i in range(5):\n",
        "  print(i)"
      ]
    },
    {
      "cell_type": "code",
      "source": [
        "for i in range(5):\n",
        "  print(i*'*')"
      ],
      "metadata": {
        "colab": {
          "base_uri": "https://localhost:8080/"
        },
        "id": "beatS821lHKk",
        "outputId": "0d720b5c-1d5a-4a43-d9a3-f27f4d95f6f8"
      },
      "execution_count": 6,
      "outputs": [
        {
          "output_type": "stream",
          "name": "stdout",
          "text": [
            "\n",
            "*\n",
            "**\n",
            "***\n",
            "****\n"
          ]
        }
      ]
    },
    {
      "cell_type": "code",
      "source": [
        "for i in range(5):\n",
        "  print((2*i+1)*'*')"
      ],
      "metadata": {
        "colab": {
          "base_uri": "https://localhost:8080/"
        },
        "id": "KyuXPBFflLrF",
        "outputId": "c73ad538-87fb-4c2c-a885-28619c87561c"
      },
      "execution_count": 7,
      "outputs": [
        {
          "output_type": "stream",
          "name": "stdout",
          "text": [
            "*\n",
            "***\n",
            "*****\n",
            "*******\n",
            "*********\n"
          ]
        }
      ]
    },
    {
      "cell_type": "code",
      "source": [
        "for i in range(5):\n",
        "  print((5-i)*' '+(2*i+1)*'*')"
      ],
      "metadata": {
        "colab": {
          "base_uri": "https://localhost:8080/"
        },
        "id": "UK4pOV-LnNwl",
        "outputId": "c7e0f2c9-63bd-405a-d6ed-5000747191b4"
      },
      "execution_count": 11,
      "outputs": [
        {
          "output_type": "stream",
          "name": "stdout",
          "text": [
            "     *\n",
            "    ***\n",
            "   *****\n",
            "  *******\n",
            " *********\n"
          ]
        }
      ]
    },
    {
      "cell_type": "code",
      "source": [
        "for i in range(5, 0, -1):\n",
        "  print(i)"
      ],
      "metadata": {
        "colab": {
          "base_uri": "https://localhost:8080/"
        },
        "id": "b-ze0XlAnous",
        "outputId": "981e0f40-e682-4053-d1e9-b9e5fc2a5e40"
      },
      "execution_count": 13,
      "outputs": [
        {
          "output_type": "stream",
          "name": "stdout",
          "text": [
            "5\n",
            "4\n",
            "3\n",
            "2\n",
            "1\n"
          ]
        }
      ]
    },
    {
      "cell_type": "markdown",
      "source": [
        "### 應用練習 02\n",
        "\n",
        "將應用練習01的結果寫成函式，輸入一個整數高度n，會印出高度n的金字塔。"
      ],
      "metadata": {
        "id": "2i821H-fq6Vo"
      }
    },
    {
      "cell_type": "code",
      "source": [
        "def pyramid(n):\n",
        "  for i in range(n):\n",
        "    print((n-i)*' '+(2*i+1)*'*')"
      ],
      "metadata": {
        "id": "vP5IuUfipvTJ"
      },
      "execution_count": 17,
      "outputs": []
    },
    {
      "cell_type": "code",
      "source": [
        "pyramid(4)"
      ],
      "metadata": {
        "colab": {
          "base_uri": "https://localhost:8080/"
        },
        "id": "R_nG8cHNrQ29",
        "outputId": "35813796-552a-4777-b7f4-d57fd5d9754d"
      },
      "execution_count": 18,
      "outputs": [
        {
          "output_type": "stream",
          "name": "stdout",
          "text": [
            "    *\n",
            "   ***\n",
            "  *****\n",
            " *******\n"
          ]
        }
      ]
    },
    {
      "cell_type": "markdown",
      "source": [
        "### 字串的編碼(encode)跟解碼(decode)"
      ],
      "metadata": {
        "id": "zMsRBLWStCzW"
      }
    },
    {
      "cell_type": "code",
      "source": [
        "s = \"中文字串\""
      ],
      "metadata": {
        "id": "o2RUCq-ytH6c"
      },
      "execution_count": 20,
      "outputs": []
    },
    {
      "cell_type": "code",
      "source": [
        "print(s)"
      ],
      "metadata": {
        "colab": {
          "base_uri": "https://localhost:8080/"
        },
        "id": "N4WYL7SFtN93",
        "outputId": "eb67f1e3-738b-4184-c0c6-8af1a1ed5bed"
      },
      "execution_count": 21,
      "outputs": [
        {
          "output_type": "stream",
          "name": "stdout",
          "text": [
            "中文字串\n"
          ]
        }
      ]
    },
    {
      "cell_type": "code",
      "source": [
        "s.encode('utf-8')"
      ],
      "metadata": {
        "colab": {
          "base_uri": "https://localhost:8080/"
        },
        "id": "D_MfzDj2u4bN",
        "outputId": "2d0930ea-539d-4750-e0e9-d7ee9b55505c"
      },
      "execution_count": 22,
      "outputs": [
        {
          "output_type": "execute_result",
          "data": {
            "text/plain": [
              "b'\\xe4\\xb8\\xad\\xe6\\x96\\x87\\xe5\\xad\\x97\\xe4\\xb8\\xb2'"
            ]
          },
          "metadata": {},
          "execution_count": 22
        }
      ]
    },
    {
      "cell_type": "code",
      "source": [
        "s.encode('big5')"
      ],
      "metadata": {
        "colab": {
          "base_uri": "https://localhost:8080/"
        },
        "id": "UPnSNfozu8ps",
        "outputId": "2bf8c0b4-f00f-4929-faaf-cb33e8d2c871"
      },
      "execution_count": 24,
      "outputs": [
        {
          "output_type": "execute_result",
          "data": {
            "text/plain": [
              "b'\\xa4\\xa4\\xa4\\xe5\\xa6r\\xa6\\xea'"
            ]
          },
          "metadata": {},
          "execution_count": 24
        }
      ]
    },
    {
      "cell_type": "code",
      "source": [
        "len(s.encode('big5'))"
      ],
      "metadata": {
        "colab": {
          "base_uri": "https://localhost:8080/"
        },
        "id": "tvC_9juAvQwv",
        "outputId": "37067e7d-e0f5-46ac-f40c-0d60e758bc67"
      },
      "execution_count": 25,
      "outputs": [
        {
          "output_type": "execute_result",
          "data": {
            "text/plain": [
              "8"
            ]
          },
          "metadata": {},
          "execution_count": 25
        }
      ]
    },
    {
      "cell_type": "code",
      "source": [
        "s.encode('big5').decode('iso-8859-1')"
      ],
      "metadata": {
        "colab": {
          "base_uri": "https://localhost:8080/",
          "height": 35
        },
        "id": "Wzt_T9nsvecX",
        "outputId": "65ee62a5-585f-48cb-ca62-90d49ddf74be"
      },
      "execution_count": 26,
      "outputs": [
        {
          "output_type": "execute_result",
          "data": {
            "text/plain": [
              "'¤¤¤å¦r¦ê'"
            ],
            "application/vnd.google.colaboratory.intrinsic+json": {
              "type": "string"
            }
          },
          "metadata": {},
          "execution_count": 26
        }
      ]
    },
    {
      "cell_type": "code",
      "source": [
        "s.encode('big5').decode('utf-8')"
      ],
      "metadata": {
        "colab": {
          "base_uri": "https://localhost:8080/",
          "height": 141
        },
        "id": "DuiX_5ZyvprM",
        "outputId": "c0f3e8e8-daa2-412e-841f-64ddbcad5bf0"
      },
      "execution_count": 27,
      "outputs": [
        {
          "output_type": "error",
          "ename": "UnicodeDecodeError",
          "evalue": "'utf-8' codec can't decode byte 0xa4 in position 0: invalid start byte",
          "traceback": [
            "\u001b[0;31m---------------------------------------------------------------------------\u001b[0m",
            "\u001b[0;31mUnicodeDecodeError\u001b[0m                        Traceback (most recent call last)",
            "\u001b[0;32m<ipython-input-27-479dc1d1e831>\u001b[0m in \u001b[0;36m<cell line: 1>\u001b[0;34m()\u001b[0m\n\u001b[0;32m----> 1\u001b[0;31m \u001b[0ms\u001b[0m\u001b[0;34m.\u001b[0m\u001b[0mencode\u001b[0m\u001b[0;34m(\u001b[0m\u001b[0;34m'big5'\u001b[0m\u001b[0;34m)\u001b[0m\u001b[0;34m.\u001b[0m\u001b[0mdecode\u001b[0m\u001b[0;34m(\u001b[0m\u001b[0;34m'utf-8'\u001b[0m\u001b[0;34m)\u001b[0m\u001b[0;34m\u001b[0m\u001b[0;34m\u001b[0m\u001b[0m\n\u001b[0m",
            "\u001b[0;31mUnicodeDecodeError\u001b[0m: 'utf-8' codec can't decode byte 0xa4 in position 0: invalid start byte"
          ]
        }
      ]
    },
    {
      "cell_type": "markdown",
      "source": [
        "### 字串(str)的格式化(format)"
      ],
      "metadata": {
        "id": "5n-kCJrLsh3-"
      }
    },
    {
      "cell_type": "code",
      "source": [
        "x = 1\n",
        "y = 3.14\n",
        "z = \"dog\""
      ],
      "metadata": {
        "id": "ymlrACYgrTYH"
      },
      "execution_count": 28,
      "outputs": []
    },
    {
      "cell_type": "markdown",
      "source": [
        "#### 關於print()"
      ],
      "metadata": {
        "id": "UqIJs4kzx_Wm"
      }
    },
    {
      "cell_type": "code",
      "source": [
        "print(x, y, z)"
      ],
      "metadata": {
        "colab": {
          "base_uri": "https://localhost:8080/"
        },
        "id": "R-xRtRmLx2O_",
        "outputId": "77f9fa74-ad5a-4fc3-ff3a-1f492f5f0ee7"
      },
      "execution_count": 33,
      "outputs": [
        {
          "output_type": "stream",
          "name": "stdout",
          "text": [
            "1 3.14 dog\n"
          ]
        }
      ]
    },
    {
      "cell_type": "code",
      "source": [
        "print(x, y, z, sep=\",\")"
      ],
      "metadata": {
        "colab": {
          "base_uri": "https://localhost:8080/"
        },
        "id": "TcZJJF1QyC6C",
        "outputId": "6d81844c-c379-4c2e-8915-d700c3ad8ae5"
      },
      "execution_count": 34,
      "outputs": [
        {
          "output_type": "stream",
          "name": "stdout",
          "text": [
            "1,3.14,dog\n"
          ]
        }
      ]
    },
    {
      "cell_type": "code",
      "source": [
        "print(x, y, z, sep=\"+\")"
      ],
      "metadata": {
        "colab": {
          "base_uri": "https://localhost:8080/"
        },
        "id": "xmE0hzILyIxX",
        "outputId": "301448f5-3570-4fb6-88cf-8a9f1bc39c08"
      },
      "execution_count": 35,
      "outputs": [
        {
          "output_type": "stream",
          "name": "stdout",
          "text": [
            "1+3.14+dog\n"
          ]
        }
      ]
    },
    {
      "cell_type": "code",
      "source": [
        "print(\"x =\", x, \", y =\", y, \", z =\", z)"
      ],
      "metadata": {
        "colab": {
          "base_uri": "https://localhost:8080/"
        },
        "id": "aiiWCI_HyMSH",
        "outputId": "d13c407a-4997-4ebb-9ddb-6e8769b7e633"
      },
      "execution_count": 38,
      "outputs": [
        {
          "output_type": "stream",
          "name": "stdout",
          "text": [
            "x = 1 , y = 3.14 , z = dog\n"
          ]
        }
      ]
    },
    {
      "cell_type": "markdown",
      "source": [
        "#### python 2 的作法"
      ],
      "metadata": {
        "id": "G-PLsBnow2EP"
      }
    },
    {
      "cell_type": "code",
      "source": [
        "print(\"%d %f %s\" % (x, y, z))"
      ],
      "metadata": {
        "colab": {
          "base_uri": "https://localhost:8080/"
        },
        "id": "5r5OLVcowp0c",
        "outputId": "a6b6dd38-df20-49b7-c98c-3b9cb75b8ad2"
      },
      "execution_count": 29,
      "outputs": [
        {
          "output_type": "stream",
          "name": "stdout",
          "text": [
            "1 3.140000 dog\n"
          ]
        }
      ]
    },
    {
      "cell_type": "code",
      "source": [
        "print(\"x = %d, y = %f, z = %s\" % (x, y, z))"
      ],
      "metadata": {
        "colab": {
          "base_uri": "https://localhost:8080/"
        },
        "id": "X8Vr5t6VyoTJ",
        "outputId": "76a6644d-2f05-4db7-e543-771df548431b"
      },
      "execution_count": 40,
      "outputs": [
        {
          "output_type": "stream",
          "name": "stdout",
          "text": [
            "x = 1, y = 3.140000, z = dog\n"
          ]
        }
      ]
    },
    {
      "cell_type": "markdown",
      "source": [
        "#### python 3 的作法"
      ],
      "metadata": {
        "id": "WlcE3MDxw8Eo"
      }
    },
    {
      "cell_type": "code",
      "source": [
        "print(\"{} {} {}\".format(x, y, z))"
      ],
      "metadata": {
        "colab": {
          "base_uri": "https://localhost:8080/"
        },
        "id": "mqwA_KtawspT",
        "outputId": "35bafd1c-8b7b-4836-b929-2a27941179d6"
      },
      "execution_count": 30,
      "outputs": [
        {
          "output_type": "stream",
          "name": "stdout",
          "text": [
            "1 3.14 dog\n"
          ]
        }
      ]
    },
    {
      "cell_type": "code",
      "source": [
        "print(\"x = {}, y = {}, z = {}\".format(x, y, z))"
      ],
      "metadata": {
        "colab": {
          "base_uri": "https://localhost:8080/"
        },
        "id": "8luFgodcy9dV",
        "outputId": "9da66a71-c904-4c26-d46d-248558d12c73"
      },
      "execution_count": 41,
      "outputs": [
        {
          "output_type": "stream",
          "name": "stdout",
          "text": [
            "x = 1, y = 3.14, z = dog\n"
          ]
        }
      ]
    },
    {
      "cell_type": "markdown",
      "source": [
        "#### python 3.5+ 的作法 (f-string)"
      ],
      "metadata": {
        "id": "oLGAmolow-kA"
      }
    },
    {
      "cell_type": "code",
      "source": [
        "print(f\"{x} {y} {z}\")"
      ],
      "metadata": {
        "colab": {
          "base_uri": "https://localhost:8080/"
        },
        "id": "dso-o1-ExA7I",
        "outputId": "01f6e8a2-bb19-4597-f1d1-a36bb196e490"
      },
      "execution_count": 32,
      "outputs": [
        {
          "output_type": "stream",
          "name": "stdout",
          "text": [
            "1 3.14 dog\n"
          ]
        }
      ]
    },
    {
      "cell_type": "code",
      "source": [
        "print(\"{x} {y} {z}\")"
      ],
      "metadata": {
        "colab": {
          "base_uri": "https://localhost:8080/"
        },
        "id": "zz6XhLxxzQ8i",
        "outputId": "7e22c731-34ad-4e87-bacc-a912d4c52c12"
      },
      "execution_count": 43,
      "outputs": [
        {
          "output_type": "stream",
          "name": "stdout",
          "text": [
            "{x} {y} {z}\n"
          ]
        }
      ]
    },
    {
      "cell_type": "code",
      "source": [
        "print(f\"x = {x}, y = {y}, z = {z}\")"
      ],
      "metadata": {
        "colab": {
          "base_uri": "https://localhost:8080/"
        },
        "id": "_kz1PYTCxQ2V",
        "outputId": "5bfb7de9-1d37-4b36-9d9b-de887b196144"
      },
      "execution_count": 42,
      "outputs": [
        {
          "output_type": "stream",
          "name": "stdout",
          "text": [
            "x = 1, y = 3.14, z = dog\n"
          ]
        }
      ]
    },
    {
      "cell_type": "code",
      "source": [],
      "metadata": {
        "id": "0IZvXOKpzIxk"
      },
      "execution_count": null,
      "outputs": []
    }
  ]
}